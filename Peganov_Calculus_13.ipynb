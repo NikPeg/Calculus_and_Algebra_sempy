{
  "nbformat": 4,
  "nbformat_minor": 0,
  "metadata": {
    "kernelspec": {
      "display_name": "Python 3",
      "language": "python",
      "name": "python3"
    },
    "language_info": {
      "codemirror_mode": {
        "name": "ipython",
        "version": 3
      },
      "file_extension": ".py",
      "mimetype": "text/x-python",
      "name": "python",
      "nbconvert_exporter": "python",
      "pygments_lexer": "ipython3",
      "version": "3.7.3"
    },
    "colab": {
      "provenance": []
    }
  },
  "cells": [
    {
      "cell_type": "code",
      "metadata": {
        "id": "i943p38x5XbM"
      },
      "source": [
        "import numpy as np\n",
        "import sympy\n",
        "from sympy import S, Symbol, symbols, simplify, solve, solveset, diff, plot, plot_parametric, plot_implicit, latex, Integral\n",
        "from sympy import sin\n",
        "from sympy import cos\n",
        "from sympy import exp\n",
        "from sympy import log\n",
        "from sympy import pi\n",
        "from sympy import sqrt\n",
        "import matplotlib.pyplot as plt\n",
        "from sympy import pi as Pi\n",
        "%matplotlib inline"
      ],
      "execution_count": null,
      "outputs": []
    },
    {
      "cell_type": "markdown",
      "metadata": {
        "id": "0M5gw9hT5XbO"
      },
      "source": [
        "## Занятие 13\n",
        "## Математический анализ\n",
        "## Применение интегралов для вычисления площади поверхности тела вращения\n",
        "### Задание 1.\n",
        "Вычислить площадь поверхности, которая образуется в результате вращения $y = \\sqrt{x}$ вокруг оси OX при $x$ от 0 до 1."
      ]
    },
    {
      "cell_type": "code",
      "metadata": {
        "colab": {
          "base_uri": "https://localhost:8080/",
          "height": 315
        },
        "id": "Z182fpkG5XbO",
        "outputId": "4a7930e5-c364-45c0-8492-000c0ef4d2f6"
      },
      "source": [
        "x = Symbol('x', positive=True)\n",
        "y = Symbol('y')\n",
        "Eq1 = sympy.Eq(y, sqrt(x))\n",
        "plot_implicit(Eq1, (x, 0, 1), (y, -1, 1))"
      ],
      "execution_count": null,
      "outputs": [
        {
          "output_type": "display_data",
          "data": {
            "image/png": "[encoded data removed]",
            "text/plain": [
              "<Figure size 432x288 with 1 Axes>"
            ]
          },
          "metadata": {
            "tags": [],
            "needs_background": "light"
          }
        },
        {
          "output_type": "execute_result",
          "data": {
            "text/plain": [
              "<sympy.plotting.plot.Plot at 0x7fe1f6230a50>"
            ]
          },
          "metadata": {
            "tags": []
          },
          "execution_count": 47
        }
      ]
    },
    {
      "cell_type": "code",
      "metadata": {
        "id": "-jWgiwuM6gCu"
      },
      "source": [
        "y1 = sqrt(x)"
      ],
      "execution_count": null,
      "outputs": []
    },
    {
      "cell_type": "code",
      "metadata": {
        "colab": {
          "base_uri": "https://localhost:8080/",
          "height": 130
        },
        "id": "ruAtwHOp6XIq",
        "outputId": "b2d3dc9f-4922-4f26-f111-57b33d3bb749"
      },
      "source": [
        "S_OX1 = 2 * pi * Integral(y1 *(1 + y1.diff(x)**2)**S.Half, (x, 0, 1))\n",
        "res1 = S_OX1.doit()\n",
        "display(S_OX1, res1)"
      ],
      "execution_count": null,
      "outputs": [
        {
          "output_type": "display_data",
          "data": {
            "text/latex": "$\\displaystyle 2 \\pi \\int\\limits_{0}^{1} \\sqrt{x} \\sqrt{1 + \\frac{1}{4 x}}\\, dx$",
            "text/plain": [
              "2*pi*Integral(sqrt(x)*sqrt(1 + 1/(4*x)), (x, 0, 1))"
            ]
          },
          "metadata": {
            "tags": []
          }
        },
        {
          "output_type": "display_data",
          "data": {
            "text/latex": "$\\displaystyle 2 \\pi \\left(- \\frac{1}{12} + \\frac{5 \\sqrt{5}}{12}\\right)$",
            "text/plain": [
              "2*pi*(-1/12 + 5*sqrt(5)/12)"
            ]
          },
          "metadata": {
            "tags": []
          }
        }
      ]
    },
    {
      "cell_type": "code",
      "metadata": {
        "colab": {
          "base_uri": "https://localhost:8080/",
          "height": 57
        },
        "id": "7tmZWigM6uFn",
        "outputId": "e4b162f4-e50e-4998-b36d-8536f8482789"
      },
      "source": [
        "res1.simplify()"
      ],
      "execution_count": null,
      "outputs": [
        {
          "output_type": "execute_result",
          "data": {
            "text/latex": "$\\displaystyle \\frac{\\pi \\left(-1 + 5 \\sqrt{5}\\right)}{6}$",
            "text/plain": [
              "pi*(-1 + 5*sqrt(5))/6"
            ]
          },
          "metadata": {
            "tags": []
          },
          "execution_count": 50
        }
      ]
    },
    {
      "cell_type": "markdown",
      "metadata": {
        "id": "0juKpaT85XbP"
      },
      "source": [
        "###  Задание 2.\n",
        "Вычислить площадь поверхности веретена, которое образуется в результате вращения одной полуволны синусоиды $y = \\sin x$ вокруг оси OX.\n",
        "#### Указание.\n",
        "\n",
        "Для вычисления интеграла воспользоваться заменой переменных $t = \\cos(x)$, для проведения замены пользоваться методом transform класса Integral. Также воспользоваться simplify при необходимости."
      ]
    },
    {
      "cell_type": "code",
      "metadata": {
        "colab": {
          "base_uri": "https://localhost:8080/",
          "height": 315
        },
        "id": "m_HU2tEc5XbP",
        "outputId": "6abb9638-8300-4581-a153-3a24b1a8d28d"
      },
      "source": [
        "Eq1 = sympy.Eq(y, sin(x))\n",
        "plot_implicit(Eq1, (x, 0, pi), (y, -1, 1))"
      ],
      "execution_count": null,
      "outputs": [
        {
          "output_type": "display_data",
          "data": {
            "image/png": "[encoded data removed]",
            "text/plain": [
              "<Figure size 432x288 with 1 Axes>"
            ]
          },
          "metadata": {
            "tags": [],
            "needs_background": "light"
          }
        },
        {
          "output_type": "execute_result",
          "data": {
            "text/plain": [
              "<sympy.plotting.plot.Plot at 0x7fe1f582b050>"
            ]
          },
          "metadata": {
            "tags": []
          },
          "execution_count": 51
        }
      ]
    },
    {
      "cell_type": "code",
      "metadata": {
        "id": "7IaUxYBy8JEe"
      },
      "source": [
        "y1 = sin(x)"
      ],
      "execution_count": null,
      "outputs": []
    },
    {
      "cell_type": "code",
      "metadata": {
        "colab": {
          "base_uri": "https://localhost:8080/",
          "height": 131
        },
        "id": "OPtCt-Hj8Mbv",
        "outputId": "4e06ce34-e06c-47ef-ff11-325c128366fb"
      },
      "source": [
        "t = Symbol('t')\n",
        "S_OX1 = 2 * Pi * Integral(y1 *(1 + y1.diff(x) ** 2) ** S.Half, (x, 0, pi)).transform(cos(x), t)\n",
        "res1 = S_OX1.doit()\n",
        "display(S_OX1, res1)"
      ],
      "execution_count": null,
      "outputs": [
        {
          "output_type": "display_data",
          "data": {
            "text/latex": "$\\displaystyle 2 \\pi \\int\\limits_{-1}^{1} \\sqrt{t^{2} + 1}\\, dt$",
            "text/plain": [
              "2*pi*Integral(sqrt(t**2 + 1), (t, -1, 1))"
            ]
          },
          "metadata": {
            "tags": []
          }
        },
        {
          "output_type": "display_data",
          "data": {
            "text/latex": "$\\displaystyle 2 \\pi \\left(\\frac{\\log{\\left(1 + \\sqrt{2} \\right)}}{2} - \\frac{\\log{\\left(-1 + \\sqrt{2} \\right)}}{2} + \\sqrt{2}\\right)$",
            "text/plain": [
              "2*pi*(log(1 + sqrt(2))/2 - log(-1 + sqrt(2))/2 + sqrt(2))"
            ]
          },
          "metadata": {
            "tags": []
          }
        }
      ]
    },
    {
      "cell_type": "code",
      "metadata": {
        "colab": {
          "base_uri": "https://localhost:8080/",
          "height": 68
        },
        "id": "o6DyghAp9Zz0",
        "outputId": "83f12cd6-e9ea-411d-f606-ec789d3586ac"
      },
      "source": [
        "res1.simplify()"
      ],
      "execution_count": null,
      "outputs": [
        {
          "output_type": "execute_result",
          "data": {
            "text/latex": "$\\displaystyle \\pi \\left(\\log{\\left(\\frac{1 + \\sqrt{2}}{-1 + \\sqrt{2}} \\right)} + 2 \\sqrt{2}\\right)$",
            "text/plain": [
              "pi*(log((1 + sqrt(2))/(-1 + sqrt(2))) + 2*sqrt(2))"
            ]
          },
          "metadata": {
            "tags": []
          },
          "execution_count": 54
        }
      ]
    },
    {
      "cell_type": "markdown",
      "metadata": {
        "id": "pBpVgvpz5XbP"
      },
      "source": [
        "###  Задание 3.\n",
        "Вычислить площадь поверхности образованной вращением вокруг ОХ кардиоиды \n",
        "$$\n",
        "\\left\\{\n",
        "\\begin{matrix}\n",
        "x=a(2\\cos t-\\cos 2t)\\\\\n",
        "y=a(2\\sin t-\\sin 2t)\n",
        "\\end{matrix}\n",
        "\\right.\n",
        "$$\n",
        "Для облегчения расчетов упростить подынтегральную функцию с помощью simplify."
      ]
    },
    {
      "cell_type": "code",
      "metadata": {
        "colab": {
          "base_uri": "https://localhost:8080/",
          "height": 332
        },
        "id": "rbvTqj5j5XbP",
        "outputId": "87832b06-dba5-4f79-d438-50bf9992be5a"
      },
      "source": [
        "t = Symbol('t')\n",
        "a = Symbol('a', positive=True)\n",
        "x2 = a * (2 * cos(t) - cos(2 * t))\n",
        "y2 = a * (2 * sin(t) - sin(2 * t))\n",
        "plot_parametric(x2.subs(a, 1), y2.subs(a, 1), (t, 0, pi))\n",
        "S_OX2 = Integral(2 * Pi * (y2 * (x2.diff(t) ** 2 + y2.diff(t) ** 2) ** S.Half).simplify(), (t, 0, pi)).simplify()\n",
        "display(S_OX2.doit())"
      ],
      "execution_count": null,
      "outputs": [
        {
          "output_type": "display_data",
          "data": {
            "image/png": "[encoded data removed]",
            "text/plain": [
              "<Figure size 432x288 with 1 Axes>"
            ]
          },
          "metadata": {
            "tags": [],
            "needs_background": "light"
          }
        },
        {
          "output_type": "display_data",
          "data": {
            "text/latex": "$\\displaystyle \\frac{128 \\pi a^{2}}{5}$",
            "text/plain": [
              "128*pi*a**2/5"
            ]
          },
          "metadata": {
            "tags": []
          }
        }
      ]
    },
    {
      "cell_type": "markdown",
      "metadata": {
        "id": "QkIvQIoM5XbP"
      },
      "source": [
        "### Задание 4.\n",
        "Вычислить площадь поверхности образованной вращением лемнискаты $r^2=a^2\\cos2\\phi$ вокруг полярной оси.\n",
        "\n",
        "#### Указание.\n",
        "Построить график, определить пределы интегрирования.\n",
        "Упростить подынтегральную функцию с помощью simplify, затем с помощью display вывести полученный интерал. Замечая, что подынтегральное выражение можно упростить, если сократить, не обращать внимание, что $\\cos(2\\phi) = 0$ в $\\pi/4$, вручную составить интеграл для окончательного расчета. "
      ]
    },
    {
      "cell_type": "code",
      "metadata": {
        "colab": {
          "base_uri": "https://localhost:8080/",
          "height": 83
        },
        "id": "g8E5zHMC5XbQ",
        "outputId": "b764d1af-c980-4119-b3aa-8052472a416a"
      },
      "source": [
        "phi = Symbol('phi')\n",
        "r = a*sqrt(cos(2*phi))\n",
        "S_p = Integral(2*pi*r*sin(phi)*(r**2 + r.diff(phi)**2)**S.Half.simplify(), (phi, 0, pi / 4))\n",
        "int1 = Integral(sin(phi), (phi, 0, pi / 4))\n",
        "display(sympy.Eq(S_p, 4*a**2*Pi*int1.doit()))"
      ],
      "execution_count": null,
      "outputs": [
        {
          "output_type": "display_data",
          "data": {
            "text/latex": "$\\displaystyle \\int\\limits_{0}^{\\frac{\\pi}{4}} 2 \\pi a \\sqrt{\\frac{a^{2} \\sin^{2}{\\left(2 \\phi \\right)}}{\\cos{\\left(2 \\phi \\right)}} + a^{2} \\cos{\\left(2 \\phi \\right)}} \\sin{\\left(\\phi \\right)} \\sqrt{\\cos{\\left(2 \\phi \\right)}}\\, d\\phi = 4 \\pi a^{2} \\left(1 - \\frac{\\sqrt{2}}{2}\\right)$",
            "text/plain": [
              "Eq(Integral(2*pi*a*sqrt(a**2*sin(2*phi)**2/cos(2*phi) + a**2*cos(2*phi))*sin(phi)*sqrt(cos(2*phi)), (phi, 0, pi/4)), 4*pi*a**2*(1 - sqrt(2)/2))"
            ]
          },
          "metadata": {
            "tags": []
          }
        }
      ]
    },
    {
      "cell_type": "markdown",
      "metadata": {
        "id": "z9Cb-CzQ5XbQ"
      },
      "source": [
        "### Индивидуальное задание \n",
        "Найти площадь поверхности, образованной вращением $y = f(x)$ около оси OX."
      ]
    },
    {
      "cell_type": "markdown",
      "metadata": {
        "id": "iCm84agYEm8g"
      },
      "source": [
        "$$y = cos (x), x = 0, x = π/6$$"
      ]
    },
    {
      "cell_type": "code",
      "metadata": {
        "colab": {
          "base_uri": "https://localhost:8080/",
          "height": 317
        },
        "id": "l2vCG4sRWul4",
        "outputId": "0363e207-7031-4583-b0dd-97e3453133c0"
      },
      "source": [
        "x = Symbol('x', positive=True)\n",
        "Eq1 = sympy.Eq(y, cos(x))\n",
        "plot_implicit(Eq1, (x, 0, pi / 6), (y, -1, 1))\n",
        "pod = cos(x) * (1 + cos(x).diff(x) ** 2) ** S.Half\n",
        "pod = pod.simplify()\n",
        "pod = sympy.trigsimp(pod)\n",
        "int1 = Integral(2 * pi * pod, (x, 0, pi / 6))\n",
        "# display(int1.doit())\n",
        "display(int1.evalf())"
      ],
      "execution_count": null,
      "outputs": [
        {
          "output_type": "display_data",
          "data": {
            "image/png": "[encoded data removed]",
            "text/plain": [
              "<Figure size 432x288 with 1 Axes>"
            ]
          },
          "metadata": {
            "tags": [],
            "needs_background": "light"
          }
        },
        {
          "output_type": "display_data",
          "data": {
            "text/latex": "$\\displaystyle 3.26797521718797$",
            "text/plain": [
              "3.26797521718797"
            ]
          },
          "metadata": {
            "tags": []
          }
        }
      ]
    }
  ]
}