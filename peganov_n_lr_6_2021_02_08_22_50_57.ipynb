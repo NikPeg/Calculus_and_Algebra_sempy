{
  "cells": [
    {
      "cell_type": "markdown",
      "metadata": {
        "id": "fUTmKWTkdTMf"
      },
      "source": [
        "## Занятие 6\n",
        "## Математический анализ\n",
        "## Дифференцирование"
      ]
    },
    {
      "cell_type": "code",
      "execution_count": null,
      "metadata": {
        "id": "H-xlLL0YdTMh"
      },
      "outputs": [],
      "source": [
        "import numpy as np\n",
        "import matplotlib.pyplot as plt\n",
        "import sympy\n",
        "from sympy import diff, solve, nsolve, solveset, latex, S, simplify, fraction\n",
        "from sympy import sin as Sin\n",
        "from sympy.calculus.util import continuous_domain\n",
        "%matplotlib inline"
      ]
    },
    {
      "cell_type": "markdown",
      "metadata": {
        "id": "ktPiVHw1dTMj"
      },
      "source": [
        "## Лабораторная работа 6\n",
        "## Математический анализ\n",
        "## Задание 1\n",
        "Исследовать функцию с помощью производной, найти необходимые пределы и решить уравнения.\n",
        "\n",
        "Построить график функции и асимптот, отметить и подписать точки экстремума и точки перегиба,\n",
        "включить функцию и асимптоты в легенду. \n",
        "$$\n",
        "y = x^2e^{-x}\n",
        "$$"
      ]
    },
    {
      "cell_type": "code",
      "execution_count": null,
      "metadata": {
        "id": "miQCgk21dTMk"
      },
      "outputs": [],
      "source": [
        "from sympy.abc import x\n",
        "def f(x):\n",
        "    return x**2 * sympy.E**(-x)"
      ]
    },
    {
      "cell_type": "markdown",
      "metadata": {
        "id": "GWvmBDyEdTMl"
      },
      "source": [
        "Найдем область определения:"
      ]
    },
    {
      "cell_type": "code",
      "execution_count": null,
      "metadata": {
        "id": "ZEIwNbM8dTMl",
        "outputId": "2eb2a293-937a-49e7-ac9b-1bdc5c6a2066"
      },
      "outputs": [
        {
          "data": {
            "text/latex": [
              "$\\displaystyle \\mathbb{R}$"
            ],
            "text/plain": [
              "Reals"
            ]
          },
          "execution_count": 30,
          "metadata": {},
          "output_type": "execute_result"
        }
      ],
      "source": [
        "D = continuous_domain(f(x), x, S.Reals)\n",
        "D"
      ]
    },
    {
      "cell_type": "markdown",
      "metadata": {
        "id": "yxVs4ktNdTMn"
      },
      "source": [
        "Проверим на четность:"
      ]
    },
    {
      "cell_type": "code",
      "execution_count": null,
      "metadata": {
        "id": "IwKQqE1mdTMo",
        "outputId": "b8361713-beda-4684-a30b-80b12a376747"
      },
      "outputs": [
        {
          "name": "stdout",
          "output_type": "stream",
          "text": [
            "Функция общего вида\n"
          ]
        }
      ],
      "source": [
        "if f(-x) == f(x):\n",
        "     print('Четная функция')\n",
        "elif f(-x) == -f(x):\n",
        "     print('Нечетная функция')\n",
        "else:\n",
        "     print('Функция общего вида')"
      ]
    },
    {
      "cell_type": "markdown",
      "metadata": {
        "id": "Q_T5GN6SdTMp"
      },
      "source": [
        "Функция не периодична"
      ]
    },
    {
      "cell_type": "markdown",
      "metadata": {
        "id": "3zcPKXE1dTMq"
      },
      "source": [
        "Точки пересечения с OX:"
      ]
    },
    {
      "cell_type": "code",
      "execution_count": null,
      "metadata": {
        "id": "CHg3oxaZdTMq",
        "outputId": "8dd191ac-8a7c-41c2-8329-6a0882677ca0"
      },
      "outputs": [
        {
          "data": {
            "text/plain": [
              "[0]"
            ]
          },
          "execution_count": 32,
          "metadata": {},
          "output_type": "execute_result"
        }
      ],
      "source": [
        "OXroots = list(solveset(f(x), domain=S.Reals))\n",
        "OXroots.sort()\n",
        "OX_y = [f(root) for root in OXroots]\n",
        "OXroots"
      ]
    },
    {
      "cell_type": "markdown",
      "metadata": {
        "id": "NHHJspNmdTMr"
      },
      "source": [
        "Найдем точки экстремумов:"
      ]
    },
    {
      "cell_type": "code",
      "execution_count": null,
      "metadata": {
        "id": "34w5OKpHdTMr",
        "outputId": "b321a6b8-ffcc-4173-85be-41530e896412"
      },
      "outputs": [
        {
          "data": {
            "text/plain": [
              "[0, 2]"
            ]
          },
          "metadata": {},
          "output_type": "display_data"
        }
      ],
      "source": [
        "df = f(x).diff(x)\n",
        "df_roots = solve(df, x)\n",
        "display(df_roots)\n",
        "df_y = [f(root) for root in df_roots]"
      ]
    },
    {
      "cell_type": "markdown",
      "metadata": {
        "id": "bsu9xOs4dTMs"
      },
      "source": [
        "Найдем точки перегиба:"
      ]
    },
    {
      "cell_type": "code",
      "execution_count": null,
      "metadata": {
        "id": "M0uBISDudTMs",
        "outputId": "3a191877-81ff-4186-9ec4-3563069e77e2"
      },
      "outputs": [
        {
          "data": {
            "text/plain": [
              "[2 - sqrt(2), sqrt(2) + 2]"
            ]
          },
          "metadata": {},
          "output_type": "display_data"
        }
      ],
      "source": [
        "df2 = f(x).diff(x, 2)\n",
        "df2_roots = solve(df2, x)\n",
        "display(df2_roots)\n",
        "df2_y = [f(root) for root in df2_roots]"
      ]
    },
    {
      "cell_type": "markdown",
      "metadata": {
        "id": "ycl528tVdTMt"
      },
      "source": [
        "Найдем наклонные асимптоты."
      ]
    },
    {
      "cell_type": "code",
      "execution_count": null,
      "metadata": {
        "id": "oe1xXPxRdTMt",
        "outputId": "f38de132-6f17-4143-dd09-68e9a2904699"
      },
      "outputs": [
        {
          "data": {
            "text/plain": [
              "(0, -oo)"
            ]
          },
          "execution_count": 35,
          "metadata": {},
          "output_type": "execute_result"
        }
      ],
      "source": [
        "kpos = sympy.limit(f(x)/x, x, +sympy.oo)\n",
        "kneg = sympy.limit(f(x)/x, x, -sympy.oo)\n",
        "kpos, kneg"
      ]
    },
    {
      "cell_type": "markdown",
      "metadata": {
        "id": "1jqHk6IDdTMu"
      },
      "source": [
        "То есть левой асимптоты нет."
      ]
    },
    {
      "cell_type": "code",
      "execution_count": null,
      "metadata": {
        "id": "12BeA0xKdTMu",
        "outputId": "cfc1c31b-1476-4b99-cc35-f2fbd82731fc"
      },
      "outputs": [
        {
          "data": {
            "text/latex": [
              "$\\displaystyle 0$"
            ],
            "text/plain": [
              "0"
            ]
          },
          "execution_count": 36,
          "metadata": {},
          "output_type": "execute_result"
        }
      ],
      "source": [
        "bpos = sympy.limit(f(x) - kpos * x, x, +sympy.oo)\n",
        "bpos"
      ]
    },
    {
      "cell_type": "markdown",
      "metadata": {
        "id": "EgsdqyZhdTMu"
      },
      "source": [
        "Построим график:"
      ]
    },
    {
      "cell_type": "code",
      "execution_count": null,
      "metadata": {
        "id": "XG1oM_6bdTMv",
        "outputId": "78ec088c-2574-4ae0-ff57-83036533ffe1"
      },
      "outputs": [
        {
          "data": {
            "text/plain": [
              "<matplotlib.legend.Legend at 0x7fcdb6b1acf8>"
            ]
          },
          "execution_count": 37,
          "metadata": {},
          "output_type": "execute_result"
        },
        {
          "data": {
            "image/png": "[encoded data removed]",
            "text/plain": [
              "<Figure size 432x288 with 1 Axes>"
            ]
          },
          "metadata": {
            "needs_background": "light"
          },
          "output_type": "display_data"
        }
      ],
      "source": [
        "minY = -2\n",
        "maxY = 10\n",
        "ax = plt.gca()\n",
        "ax.set_ylim(minY, maxY)\n",
        "X = np.linspace(-2, 4, 100)\n",
        "X_D = [x for x in X if x in D]\n",
        "Y_D = [f(x) for x in X if x in D]\n",
        "roots = []\n",
        "ax.plot(X_D, [0 for x in X_D], 'g--', label='Горизонтальная асимптота y = 0')\n",
        "ax.plot(X_D, Y_D, 'k-', label=r'$f(x)=' + sympy.latex(f(x)) + r'$')\n",
        "roots.extend([df_root for df_root in df_roots])\n",
        "annotations = ['A{0}'.format(i) for i, df_root in enumerate(df_roots)]\n",
        "roots.extend([df2_root for df2_root in df2_roots])\n",
        "annotations += ['B{0}'.format(i) for i, df2_root in enumerate(df2_roots)]\n",
        "points_y = [float(f(point)) for point in roots]\n",
        "ax.scatter(df_roots, df_y, 50, color='green', label='Точки экстремумов')\n",
        "ax.scatter(df2_roots, df2_y, 50, color='red', label='Точки перегиба')\n",
        "for i, x0 in enumerate(roots):\n",
        "     ax.annotate(annotations[i], xy=(x0, points_y[i]), xycoords='data',\n",
        "     xytext=(-5, 10), textcoords='offset points', fontsize=16)\n",
        "ax.spines['right'].set_color('none')\n",
        "ax.spines['top'].set_color('none')\n",
        "ax.spines['bottom'].set_position(('data', 0))\n",
        "ax.spines['left'].set_position(('data', 0))\n",
        "ax.plot(1, 0, \">k\", transform=ax.get_yaxis_transform(), clip_on=False)\n",
        "ax.plot(0, 1, \"^k\", transform=ax.get_xaxis_transform(), clip_on=False)\n",
        "ax.legend(loc='upper right')"
      ]
    },
    {
      "cell_type": "markdown",
      "metadata": {
        "id": "_2eJbjtAdTMw"
      },
      "source": [
        "## Задание 2\n",
        "Исследовать функцию с помощью производной, найти необходимые пределы и решить уравнения.\n",
        "\n",
        "Построить график функции и асимптот, отметить и подписать точки экстремума и точки перегиба,\n",
        "включить функцию и асимптоты в легенду. \n",
        "$$\n",
        "y=xe^{2/x} + 1 \n",
        "$$"
      ]
    },
    {
      "cell_type": "code",
      "execution_count": null,
      "metadata": {
        "id": "bxnPmTKtdTMy"
      },
      "outputs": [],
      "source": [
        "def f(x):\n",
        "    return x * sympy.E ** (2 / x) + 1"
      ]
    },
    {
      "cell_type": "markdown",
      "metadata": {
        "id": "4-kehIaddTMz"
      },
      "source": [
        "Найдем область определения:"
      ]
    },
    {
      "cell_type": "code",
      "execution_count": null,
      "metadata": {
        "id": "XaBm33IZdTMz",
        "outputId": "9059879c-dfd2-432e-8999-bb2e4ac7f497"
      },
      "outputs": [
        {
          "data": {
            "text/latex": [
              "$\\displaystyle \\left(-\\infty, 0\\right) \\cup \\left(0, \\infty\\right)$"
            ],
            "text/plain": [
              "Union(Interval.open(-oo, 0), Interval.open(0, oo))"
            ]
          },
          "execution_count": 39,
          "metadata": {},
          "output_type": "execute_result"
        }
      ],
      "source": [
        "D = continuous_domain(f(x), x, S.Reals)\n",
        "D"
      ]
    },
    {
      "cell_type": "markdown",
      "metadata": {
        "id": "tg6B4-UedTM0"
      },
      "source": [
        "Проверим на четность:"
      ]
    },
    {
      "cell_type": "code",
      "execution_count": null,
      "metadata": {
        "id": "OhE4bhacdTM0",
        "outputId": "0845c9f4-08fb-468e-9cc1-5896cf46e153"
      },
      "outputs": [
        {
          "name": "stdout",
          "output_type": "stream",
          "text": [
            "Функция общего вида\n"
          ]
        }
      ],
      "source": [
        "if f(-x) == f(x):\n",
        "     print('Четная функция')\n",
        "elif f(-x) == -f(x):\n",
        "     print('Нечетная функция')\n",
        "else:\n",
        "     print('Функция общего вида')"
      ]
    },
    {
      "cell_type": "markdown",
      "metadata": {
        "id": "c-wQuQy6dTM2"
      },
      "source": [
        "Функция не периодична"
      ]
    },
    {
      "cell_type": "markdown",
      "metadata": {
        "id": "YKQOluB7dTM3"
      },
      "source": [
        "Точки пересечения с OX:"
      ]
    },
    {
      "cell_type": "code",
      "execution_count": null,
      "metadata": {
        "id": "GzvRLdh1dTM3"
      },
      "outputs": [],
      "source": [
        "OXroots = solveset(f(x), domain=S.Reals)"
      ]
    },
    {
      "cell_type": "markdown",
      "metadata": {
        "id": "eW3DtjjUdTM3"
      },
      "source": [
        "Найдем точки экстремумов:"
      ]
    },
    {
      "cell_type": "code",
      "execution_count": null,
      "metadata": {
        "id": "lRu0n_5ydTM3",
        "outputId": "c6dbd2d4-7204-4332-ec7c-a99d6591945e"
      },
      "outputs": [
        {
          "data": {
            "text/plain": [
              "[2]"
            ]
          },
          "metadata": {},
          "output_type": "display_data"
        }
      ],
      "source": [
        "df = f(x).diff(x)\n",
        "df_roots = solve(df, x)\n",
        "display(df_roots)\n",
        "df_y = [f(root) for root in df_roots]"
      ]
    },
    {
      "cell_type": "markdown",
      "metadata": {
        "id": "sPKat8zNdTM3"
      },
      "source": [
        "Найдем точки перегиба:"
      ]
    },
    {
      "cell_type": "code",
      "execution_count": null,
      "metadata": {
        "id": "wOCcwDdqdTM4",
        "outputId": "a51e42cb-458f-41e9-b242-43d21db12bf0"
      },
      "outputs": [
        {
          "data": {
            "text/plain": [
              "[]"
            ]
          },
          "metadata": {},
          "output_type": "display_data"
        }
      ],
      "source": [
        "df2 = f(x).diff(x, 2)\n",
        "df2_roots = solve(df2, x)\n",
        "display(df2_roots)\n",
        "df2_y = [f(root) for root in df2_roots]"
      ]
    },
    {
      "cell_type": "markdown",
      "metadata": {
        "id": "sz2AVaoKdTM4"
      },
      "source": [
        "Найдем наклонные асимптоты."
      ]
    },
    {
      "cell_type": "code",
      "execution_count": null,
      "metadata": {
        "id": "9p6Lthf2dTM4"
      },
      "outputs": [],
      "source": [
        "kpos = sympy.limit(f(x)/x, x, +sympy.oo)\n",
        "kneg = sympy.limit(f(x)/x, x, -sympy.oo)\n",
        "kpos, kneg\n",
        "k = kpos"
      ]
    },
    {
      "cell_type": "code",
      "execution_count": null,
      "metadata": {
        "id": "3rgFRGLbdTM5"
      },
      "outputs": [],
      "source": [
        "bpos = sympy.limit(f(x) - kpos * x, x, +sympy.oo)\n",
        "bneg = sympy.limit(f(x) - kneg * x, x, -sympy.oo)\n",
        "bpos, bneg\n",
        "b = bpos"
      ]
    },
    {
      "cell_type": "markdown",
      "metadata": {
        "id": "Quzo1RJAdTM5"
      },
      "source": [
        "Найдем вертикальную асимптоту:"
      ]
    },
    {
      "cell_type": "code",
      "execution_count": null,
      "metadata": {
        "id": "m1xlfb9jdTM5",
        "outputId": "b0d44a50-cb20-4880-8088-15abc5880ea7"
      },
      "outputs": [
        {
          "name": "stdout",
          "output_type": "stream",
          "text": [
            "1 oo\n"
          ]
        }
      ],
      "source": [
        "print(f(x).limit(x, 0, dir='-'), f(x).limit(x, 0))"
      ]
    },
    {
      "cell_type": "markdown",
      "metadata": {
        "id": "T0jLN6QRdTM5"
      },
      "source": [
        "Построим график:"
      ]
    },
    {
      "cell_type": "code",
      "execution_count": null,
      "metadata": {
        "id": "r1SVK0XWdTM6",
        "outputId": "f7b4926a-2276-48fb-b777-3d4be94464fc"
      },
      "outputs": [
        {
          "data": {
            "text/plain": [
              "<matplotlib.legend.Legend at 0x7fcdb6b4bba8>"
            ]
          },
          "execution_count": 47,
          "metadata": {},
          "output_type": "execute_result"
        },
        {
          "data": {
            "image/png": "[encoded data removed]",
            "text/plain": [
              "<Figure size 432x288 with 1 Axes>"
            ]
          },
          "metadata": {
            "needs_background": "light"
          },
          "output_type": "display_data"
        }
      ],
      "source": [
        "from sympy import Union\n",
        "\n",
        "\n",
        "minY = -2\n",
        "maxY = 10\n",
        "ax = plt.gca()\n",
        "ax.set_ylim(minY, maxY)\n",
        "X = np.linspace(-10, 10, 100)\n",
        "X1 = np.linspace(-10, float(0 - 0.01), 100) \n",
        "X2 = np.linspace(float(0 + 0.01),10, 100)\n",
        "X1_D = [x for x in X1 if x in D]\n",
        "X2_D = [x for x in X2 if x in D]\n",
        "Y1_D = [f(x) for x in X1 if x in D]\n",
        "Y2_D = [f(x) for x in X2 if x in D]\n",
        "roots = []\n",
        "ax.plot(X_D, [k * x + b for x in X_D], 'g--', label=r'Наклонная асимптота $y = $x + {0}'.format(b))\n",
        "v_as = 0\n",
        "ax.axvline(x=v_as, color='red', linestyle='--',\n",
        " label=r'Вертикальная асимптота $x=' + latex(v_as) + r'$') # График вертикальной асимптоты\n",
        "ax.plot(X1_D, Y1_D, 'k-', label=r'$f(x)=' + sympy.latex(f(x)) + r'$')\n",
        "ax.plot(X2_D, Y2_D, 'k-')\n",
        "roots.extend([df_root for df_root in df_roots])\n",
        "annotations = ['A{0}'.format(i) for i, df_root in enumerate(df_roots)]\n",
        "points_y = [float(f(point)) for point in roots]\n",
        "ax.scatter(df_roots, df_y, 50, color='green', label='Точка экстремума')\n",
        "for i, x0 in enumerate(roots):\n",
        "     ax.annotate(annotations[i], xy=(x0, points_y[i]), xycoords='data',\n",
        "     xytext=(-5, 10), textcoords='offset points', fontsize=16)\n",
        "ax.spines['right'].set_color('none')\n",
        "ax.spines['top'].set_color('none')\n",
        "ax.spines['bottom'].set_position(('data', 0))\n",
        "ax.spines['left'].set_position(('data', 0))\n",
        "ax.plot(1, 0, \">k\", transform=ax.get_yaxis_transform(), clip_on=False)\n",
        "ax.plot(0, 1, \"^k\", transform=ax.get_xaxis_transform(), clip_on=False)\n",
        "ax.legend(loc='upper left')"
      ]
    },
    {
      "cell_type": "markdown",
      "metadata": {
        "id": "nu3VIz26dTM6"
      },
      "source": [
        "## Индивидуальное задание\n",
        "Исследовать функцию с помощью производной, найти необходимые пределы и решить уравнения.\n",
        "\n",
        "Построить график функции и асимптот (если есть), отметить и подписать точки экстремума и точки перегиба (если есть),\n",
        "включить функцию и асимптоты (если есть) в легенду. "
      ]
    },
    {
      "cell_type": "markdown",
      "metadata": {
        "id": "u_fN21mRdTM6"
      },
      "source": [
        "$f(x) = \\left(6 x + 3\\right) e^{\\frac{2}{x}} + 1$"
      ]
    },
    {
      "cell_type": "code",
      "execution_count": null,
      "metadata": {
        "id": "0utZmhtWdTM6"
      },
      "outputs": [],
      "source": [
        "def f(x):\n",
        "    return (6 * x + 3) * sympy.E ** (2 / x) + 1"
      ]
    },
    {
      "cell_type": "markdown",
      "metadata": {
        "id": "n7L8fc6MdTM7"
      },
      "source": [
        "Найдем область определения:"
      ]
    },
    {
      "cell_type": "code",
      "execution_count": null,
      "metadata": {
        "id": "kO13kyoLdTM7",
        "outputId": "68fdf51e-e17b-426f-baef-c35ce144d237"
      },
      "outputs": [
        {
          "data": {
            "text/latex": [
              "$\\displaystyle \\left(-\\infty, 0\\right) \\cup \\left(0, \\infty\\right)$"
            ],
            "text/plain": [
              "Union(Interval.open(-oo, 0), Interval.open(0, oo))"
            ]
          },
          "execution_count": 49,
          "metadata": {},
          "output_type": "execute_result"
        }
      ],
      "source": [
        "D = continuous_domain(f(x), x, S.Reals)\n",
        "D"
      ]
    },
    {
      "cell_type": "markdown",
      "metadata": {
        "id": "zOIzxiyJdTM7"
      },
      "source": [
        "Проверим на четность:"
      ]
    },
    {
      "cell_type": "code",
      "execution_count": null,
      "metadata": {
        "id": "OqS5kn1ZdTM7",
        "outputId": "a4be7a70-804c-490d-efd8-1157a7e4770b"
      },
      "outputs": [
        {
          "name": "stdout",
          "output_type": "stream",
          "text": [
            "Функция общего вида\n"
          ]
        }
      ],
      "source": [
        "if f(-x) == f(x):\n",
        "     print('Четная функция')\n",
        "elif f(-x) == -f(x):\n",
        "     print('Нечетная функция')\n",
        "else:\n",
        "     print('Функция общего вида')"
      ]
    },
    {
      "cell_type": "markdown",
      "metadata": {
        "id": "ZWOGY3BAdTM8"
      },
      "source": [
        "Функция не периодична"
      ]
    },
    {
      "cell_type": "markdown",
      "metadata": {
        "id": "FkigsU5_dTM8"
      },
      "source": [
        "Точки пересечения с OX:"
      ]
    },
    {
      "cell_type": "code",
      "execution_count": null,
      "metadata": {
        "id": "cW-UsmyKdTM8"
      },
      "outputs": [],
      "source": [
        "OXroots = solveset(f(x), domain=D)"
      ]
    },
    {
      "cell_type": "markdown",
      "metadata": {
        "id": "cw_mNTL7dTM8"
      },
      "source": [
        "Найдем точки экстремумов:"
      ]
    },
    {
      "cell_type": "code",
      "execution_count": null,
      "metadata": {
        "id": "jlWQ8D_GdTM8",
        "outputId": "e685d0ee-5de2-47a7-dd94-008da7e812e1"
      },
      "outputs": [
        {
          "data": {
            "text/plain": [
              "[1 - sqrt(2), 1 + sqrt(2)]"
            ]
          },
          "metadata": {},
          "output_type": "display_data"
        }
      ],
      "source": [
        "df = f(x).diff(x)\n",
        "df_roots = solve(df, x)\n",
        "display(df_roots)\n",
        "df_y = [f(root) for root in df_roots]"
      ]
    },
    {
      "cell_type": "markdown",
      "metadata": {
        "id": "Jft5YoYcdTM9"
      },
      "source": [
        "Найдем точки перегиба:"
      ]
    },
    {
      "cell_type": "code",
      "execution_count": null,
      "metadata": {
        "id": "WAcj53UwdTM9",
        "outputId": "1b8709f0-d7d3-4740-e1fe-cb0c5fafda68"
      },
      "outputs": [
        {
          "data": {
            "text/plain": [
              "[-1/3]"
            ]
          },
          "metadata": {},
          "output_type": "display_data"
        }
      ],
      "source": [
        "df2 = f(x).diff(x, 2)\n",
        "df2_roots = solve(df2, x)\n",
        "display(df2_roots)\n",
        "df2_y = [f(root) for root in df2_roots]"
      ]
    },
    {
      "cell_type": "markdown",
      "metadata": {
        "id": "YP79wTPndTM9"
      },
      "source": [
        "Найдем наклонные асимптоты."
      ]
    },
    {
      "cell_type": "code",
      "execution_count": null,
      "metadata": {
        "id": "ICWjai2bdTM9",
        "outputId": "df8fd052-81c8-4538-8a35-51f344518971"
      },
      "outputs": [
        {
          "data": {
            "text/plain": [
              "(6, 6)"
            ]
          },
          "execution_count": 56,
          "metadata": {},
          "output_type": "execute_result"
        }
      ],
      "source": [
        "kpos = sympy.limit(f(x)/x, x, +sympy.oo)\n",
        "kneg = sympy.limit(f(x)/x, x, -sympy.oo)\n",
        "k = kpos\n",
        "kpos, kneg"
      ]
    },
    {
      "cell_type": "code",
      "execution_count": null,
      "metadata": {
        "id": "SiGzrdV1dTM-",
        "outputId": "4fbf99b3-a912-45b7-b905-0947cbb0ef19"
      },
      "outputs": [
        {
          "data": {
            "text/plain": [
              "(16, 16)"
            ]
          },
          "execution_count": 57,
          "metadata": {},
          "output_type": "execute_result"
        }
      ],
      "source": [
        "bpos = sympy.limit(f(x) - kpos * x, x, +sympy.oo)\n",
        "bneg = sympy.limit(f(x) - kneg * x, x, -sympy.oo)\n",
        "b = bpos\n",
        "bpos, bneg"
      ]
    },
    {
      "cell_type": "markdown",
      "metadata": {
        "id": "kPAJ_AVpdTM-"
      },
      "source": [
        "Найдем вертикальную асимптоту:"
      ]
    },
    {
      "cell_type": "code",
      "execution_count": null,
      "metadata": {
        "id": "tM5btE-SdTM-",
        "outputId": "27c2023b-7e6e-47ad-e346-3f51438d9d15"
      },
      "outputs": [
        {
          "name": "stdout",
          "output_type": "stream",
          "text": [
            "1 oo\n"
          ]
        }
      ],
      "source": [
        "print(f(x).limit(x, 0, dir='-'), f(x).limit(x, 0))"
      ]
    },
    {
      "cell_type": "markdown",
      "metadata": {
        "id": "cjLrwfyMdTM_"
      },
      "source": [
        "Построим график:"
      ]
    },
    {
      "cell_type": "code",
      "execution_count": null,
      "metadata": {
        "id": "tyI6VwkJdTM_",
        "outputId": "01589e35-1668-40df-f49d-2b9ed5f73cb0"
      },
      "outputs": [
        {
          "data": {
            "text/plain": [
              "<matplotlib.legend.Legend at 0x7fcdb5d84fd0>"
            ]
          },
          "execution_count": 77,
          "metadata": {},
          "output_type": "execute_result"
        },
        {
          "data": {
            "image/png": "[encoded data removed]",
            "text/plain": [
              "<Figure size 432x288 with 1 Axes>"
            ]
          },
          "metadata": {
            "needs_background": "light"
          },
          "output_type": "display_data"
        }
      ],
      "source": [
        "from sympy import Union\n",
        "\n",
        "\n",
        "minY = -20\n",
        "maxY = 60\n",
        "ax = plt.gca()\n",
        "ax.set_ylim(minY, maxY)\n",
        "X = np.linspace(-10, 20, 100)\n",
        "X1 = np.linspace(-10, float(0 - 0.01), 100) \n",
        "X2 = np.linspace(float(0 + 0.01), 10, 100)\n",
        "X_D = [x for x in X if x in D]\n",
        "X1_D = [x for x in X1 if x in D]\n",
        "X2_D = [x for x in X2 if x in D]\n",
        "Y1_D = [f(x) for x in X1 if x in D]\n",
        "Y2_D = [f(x) for x in X2 if x in D]\n",
        "roots = []\n",
        "ax.plot(X_D, [k * x + b for x in X_D], 'g--', label=r'Наклонная асимптота $y = {0} $x + {1}'.format(k, b))\n",
        "v_as = 0\n",
        "ax.axvline(x=v_as, color='red', linestyle='--',\n",
        " label=r'Вертикальная асимптота $x=' + latex(v_as) + r'$') # График вертикальной асимптоты\n",
        "ax.plot(X1_D, Y1_D, 'k-', label=r'$f(x)=' + sympy.latex(f(x)) + r'$')\n",
        "ax.plot(X2_D, Y2_D, 'k-')\n",
        "roots.extend([df_root for df_root in df_roots])\n",
        "annotations = ['A{0}'.format(i) for i, df_root in enumerate(df_roots)]\n",
        "points_y = [float(f(point)) for point in roots]\n",
        "roots.extend([df2_root for df2_root in df2_roots])\n",
        "annotations += ['B{0}'.format(i) for i, df2_root in enumerate(df2_roots)]\n",
        "points_y = [float(f(point)) for point in roots]\n",
        "ax.scatter(df_roots, df_y, 50, color='green', label='Точки экстремумов')\n",
        "ax.scatter(df2_roots, df2_y, 50, color='red', label='Точки перегиба')\n",
        "for i, x0 in enumerate(roots):\n",
        "     ax.annotate(annotations[i], xy=(x0, points_y[i]), xycoords='data',\n",
        "     xytext=(-5, 10), textcoords='offset points', fontsize=16)\n",
        "ax.spines['right'].set_color('none')\n",
        "ax.spines['top'].set_color('none')\n",
        "ax.spines['bottom'].set_position(('data', 0))\n",
        "ax.spines['left'].set_position(('data', 0))\n",
        "ax.plot(1, 0, \">k\", transform=ax.get_yaxis_transform(), clip_on=False)\n",
        "ax.plot(0, 1, \"^k\", transform=ax.get_xaxis_transform(), clip_on=False)\n",
        "ax.legend(loc='upper left')"
      ]
    }
  ],
  "metadata": {
    "kernelspec": {
      "display_name": "Python 3",
      "language": "python",
      "name": "python3"
    },
    "language_info": {
      "codemirror_mode": {
        "name": "ipython",
        "version": 3
      },
      "file_extension": ".py",
      "mimetype": "text/x-python",
      "name": "python",
      "nbconvert_exporter": "python",
      "pygments_lexer": "ipython3",
      "version": "3.6.11"
    },
    "colab": {
      "provenance": []
    }
  },
  "nbformat": 4,
  "nbformat_minor": 0
}