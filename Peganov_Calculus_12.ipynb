{
  "nbformat": 4,
  "nbformat_minor": 0,
  "metadata": {
    "kernelspec": {
      "display_name": "Python 3",
      "language": "python",
      "name": "python3"
    },
    "language_info": {
      "codemirror_mode": {
        "name": "ipython",
        "version": 3
      },
      "file_extension": ".py",
      "mimetype": "text/x-python",
      "name": "python",
      "nbconvert_exporter": "python",
      "pygments_lexer": "ipython3",
      "version": "3.7.3"
    },
    "colab": {
      "provenance": []
    }
  },
  "cells": [
    {
      "cell_type": "code",
      "metadata": {
        "id": "o0fjRlQk1xcu"
      },
      "source": [
        "import numpy as np\n",
        "import sympy\n",
        "from sympy import S, Symbol, symbols, solveset, integrate, Integral, diff, intersection, Interval, plot_parametric, plot_implicit, And, E, latex, plot\n",
        "from sympy import sin as Sin\n",
        "from sympy import cos as Cos\n",
        "from sympy import exp as Exp\n",
        "from sympy import log as Log\n",
        "from sympy import pi as Pi\n",
        "import matplotlib.pyplot as plt"
      ],
      "execution_count": null,
      "outputs": []
    },
    {
      "cell_type": "markdown",
      "metadata": {
        "id": "sExQmyWm1xcw"
      },
      "source": [
        "## Занятие 12\n",
        "## Математический анализ\n",
        "## Применение интегралов для вычисления объема тела вращения\n",
        "### Задание 1\n",
        "Вычислить объем тела вращения около оси ОX фигуры, ограниченной графиком $y = \\sin x$, $0 \\le x \\le \\pi$ и осью ОХ. Построить график с помощью plot из sympy, названием графика (title) сделать формулу для вычисления объема по образцу Примера 1, например\n",
        "$$\n",
        "\\pi\\int\\limits_0^1 (x - x^2)^2\\,dx = \\frac{\\pi}{30},\n",
        "$$\n",
        "только формула должна соответствовать Заданию 1. Использовать latex, mode='inline'."
      ]
    },
    {
      "cell_type": "code",
      "metadata": {
        "id": "ezFpEQkc1xcx",
        "colab": {
          "base_uri": "https://localhost:8080/",
          "height": 357
        },
        "outputId": "2b1da96c-e68f-4a3d-f753-55d374666b94"
      },
      "source": [
        "x = Symbol('x')\n",
        "y = Sin(x)\n",
        "V_OX = Pi * Integral(y**2, (x, 0, Pi))\n",
        "plot(y, (x, a, b), title=latex(V_OX, mode='inline'))\n",
        "display(sympy.Eq(V_OX, V_OX.doit()))"
      ],
      "execution_count": null,
      "outputs": [
        {
          "output_type": "display_data",
          "data": {
            "image/png": "[encoded data removed]",
            "text/plain": [
              "<Figure size 432x288 with 1 Axes>"
            ]
          },
          "metadata": {
            "tags": [],
            "needs_background": "light"
          }
        },
        {
          "output_type": "display_data",
          "data": {
            "text/latex": "$\\displaystyle \\pi \\int\\limits_{0}^{\\pi} \\sin^{2}{\\left(x \\right)}\\, dx = \\frac{\\pi^{2}}{2}$",
            "text/plain": [
              "Eq(pi*Integral(sin(x)**2, (x, 0, pi)), pi**2/2)"
            ]
          },
          "metadata": {
            "tags": []
          }
        }
      ]
    },
    {
      "cell_type": "markdown",
      "metadata": {
        "id": "iQotqbEm1xcx"
      },
      "source": [
        "### Задание 2.\n",
        "Вычислить объем тела, получающегося вращением вокруг ОХ астроиды \n",
        "$$\n",
        "\\left\\{\n",
        "\\begin{matrix}\n",
        "x = \\cos^3 t\\\\\n",
        "y = \\sin^3 t\n",
        "\\end{matrix}\n",
        "\\right.\n",
        "$$\n",
        "\n",
        "###### Указание.\n",
        "Пределы интегрирования $\\pi, 0$, поскольку $\\cos^3 t$ убывает на $[0, \\pi]$."
      ]
    },
    {
      "cell_type": "code",
      "metadata": {
        "id": "xm-V8_9c1xcx",
        "colab": {
          "base_uri": "https://localhost:8080/",
          "height": 79
        },
        "outputId": "dda5754f-5c03-4b62-abff-b0e97ba26bbf"
      },
      "source": [
        "x = Cos(t)**3\n",
        "y = Sin(t)**3\n",
        "t = Symbol('t')\n",
        "# res = Pi * Integral(y**2 * x.diff(t), (t, 0, Pi))\n",
        "res = Pi * Integral(y**2 * x.diff(t), (t, Pi, 0))\n",
        "display(sympy.Eq(res, res.doit()))"
      ],
      "execution_count": null,
      "outputs": [
        {
          "output_type": "display_data",
          "data": {
            "text/latex": "$\\displaystyle \\pi \\int\\limits_{\\pi}^{0} \\left(- 3 \\sin^{7}{\\left(t \\right)} \\cos^{2}{\\left(t \\right)}\\right)\\, dt = \\frac{32 \\pi}{105}$",
            "text/plain": [
              "Eq(pi*Integral(-3*sin(t)**7*cos(t)**2, (t, pi, 0)), 32*pi/105)"
            ]
          },
          "metadata": {
            "tags": []
          }
        }
      ]
    },
    {
      "cell_type": "markdown",
      "metadata": {
        "id": "jJX_QnpA1xcx"
      },
      "source": [
        "### Задание 3.\n",
        "Найти объем тела, которое получается вращением кривой $r = a\\cos^2\\phi$, $0 \\le \\phi \\le \\pi$, вокруг полярной оси.\n",
        "Построить график при $a = 1$ в полярной системе координат, воспользоваться функцией polar из matplotlib.pyplot."
      ]
    },
    {
      "cell_type": "code",
      "metadata": {
        "colab": {
          "base_uri": "https://localhost:8080/",
          "height": 303
        },
        "id": "bSSHni-vV27V",
        "outputId": "07e84e17-89c2-4ae2-e9ea-5e7f3cd31e63"
      },
      "source": [
        "space = np.linspace(0, np.pi, 256)\n",
        "plt.polar(space, 1 * np.cos(space)**2, color='red', lw=3)"
      ],
      "execution_count": null,
      "outputs": [
        {
          "output_type": "execute_result",
          "data": {
            "text/plain": [
              "[<matplotlib.lines.Line2D at 0x7ff8ca8f0a90>]"
            ]
          },
          "metadata": {
            "tags": []
          },
          "execution_count": 59
        },
        {
          "output_type": "display_data",
          "data": {
            "image/png": "[encoded data removed]",
            "text/plain": [
              "<Figure size 432x288 with 1 Axes>"
            ]
          },
          "metadata": {
            "tags": [],
            "needs_background": "light"
          }
        }
      ]
    },
    {
      "cell_type": "code",
      "metadata": {
        "id": "yfBsqDhNV6s9"
      },
      "source": [
        "phi = Symbol('\\\\varphi')\n",
        "a = Symbol('a')\n",
        "r = a * Cos(phi)**2\n",
        "V_OX = S(2) / 3 * Pi * Integral(r ** 3 * Sin(phi), (phi, 0, Pi))"
      ],
      "execution_count": null,
      "outputs": []
    },
    {
      "cell_type": "code",
      "metadata": {
        "colab": {
          "base_uri": "https://localhost:8080/",
          "height": 110
        },
        "id": "9abFpkVpV98r",
        "outputId": "853d082a-9e01-4157-c1ac-38d60766da62"
      },
      "source": [
        "display(sympy.Eq(V_OX, V_OX.doit()))\n",
        "display(V_OX.doit().subs(a, 1))"
      ],
      "execution_count": null,
      "outputs": [
        {
          "output_type": "display_data",
          "data": {
            "text/latex": "$\\displaystyle \\frac{2 \\pi \\int\\limits_{0}^{\\pi} a^{3} \\sin{\\left(\\varphi \\right)} \\cos^{6}{\\left(\\varphi \\right)}\\, d\\varphi}{3} = \\frac{4 \\pi a^{3}}{21}$",
            "text/plain": [
              "Eq(2*pi*Integral(a**3*sin(\\varphi)*cos(\\varphi)**6, (\\varphi, 0, pi))/3, 4*pi*a**3/21)"
            ]
          },
          "metadata": {
            "tags": []
          }
        },
        {
          "output_type": "display_data",
          "data": {
            "text/latex": "$\\displaystyle \\frac{4 \\pi}{21}$",
            "text/plain": [
              "4*pi/21"
            ]
          },
          "metadata": {
            "tags": []
          }
        }
      ]
    },
    {
      "cell_type": "markdown",
      "metadata": {
        "id": "bgb0RSH61xcy"
      },
      "source": [
        "### Задание 4.\n",
        "Вычислить объем тела, образованного вращением около оси ОY фигуры, ограниченной параболой $y^2 = 2px$, прямой $x=\\frac{p}{2}$, $p > 0$ - параметр и осью ОY. Изобразить вращаемую фигуру с помощью plot_implicit.\n",
        "\n",
        "###### Указание.\n",
        "Вращаемая фигура симметрична относительно оси OX, поэтому можно вычислить объем фигуры, получающейся вращением верхней ветви параболы, а затем этот объем удвоить."
      ]
    },
    {
      "cell_type": "code",
      "metadata": {
        "id": "XKpCJBxe2L2Y"
      },
      "source": [
        "from sympy import sqrt"
      ],
      "execution_count": null,
      "outputs": []
    },
    {
      "cell_type": "code",
      "metadata": {
        "colab": {
          "base_uri": "https://localhost:8080/",
          "height": 314
        },
        "id": "-rZ9d2_O1xcy",
        "outputId": "ee909938-e329-4340-bbf7-607c97da3df9"
      },
      "source": [
        "x, y = symbols('x y')\n",
        "p = 1\n",
        "plot_implicit(sympy.And(y < Sqrt(2 * p * x), x < p / 2), (x, 0, 1.2), (y, 0, 1.2))"
      ],
      "execution_count": null,
      "outputs": [
        {
          "output_type": "display_data",
          "data": {
            "image/png": "[encoded data removed]",
            "text/plain": [
              "<Figure size 432x288 with 1 Axes>"
            ]
          },
          "metadata": {
            "tags": [],
            "needs_background": "light"
          }
        },
        {
          "output_type": "execute_result",
          "data": {
            "text/plain": [
              "<sympy.plotting.plot.Plot at 0x7ff8cb8d4c90>"
            ]
          },
          "metadata": {
            "tags": []
          },
          "execution_count": 40
        }
      ]
    },
    {
      "cell_type": "code",
      "metadata": {
        "colab": {
          "base_uri": "https://localhost:8080/",
          "height": 79
        },
        "id": "0HuMWuVF3mwT",
        "outputId": "f631b891-31a1-4b01-ebaa-af965d2b9cff"
      },
      "source": [
        "y1 = sqrt(2 * p * x)\n",
        "V_OY = 2*Pi*Integral(x*y1, (x, 0, p / 2))\n",
        "display(sympy.Eq(V_OY, V_OY.doit(), evaluate=False))"
      ],
      "execution_count": null,
      "outputs": [
        {
          "output_type": "display_data",
          "data": {
            "text/latex": "$\\displaystyle 2 \\pi \\int\\limits_{0}^{0.5} \\sqrt{2} x^{\\frac{3}{2}}\\, dx = 0.14142135623731 \\sqrt{2} \\pi$",
            "text/plain": [
              "Eq(2*pi*Integral(sqrt(2)*x**(3/2), (x, 0, 0.5)), 0.14142135623731*sqrt(2)*pi)"
            ]
          },
          "metadata": {
            "tags": []
          }
        }
      ]
    },
    {
      "cell_type": "code",
      "metadata": {
        "colab": {
          "base_uri": "https://localhost:8080/",
          "height": 39
        },
        "id": "Sq36_ma14sdr",
        "outputId": "311dfe01-edbc-465f-f682-eab9bb9b3b32"
      },
      "source": [
        "display(V_OY.doit() * 2)"
      ],
      "execution_count": null,
      "outputs": [
        {
          "output_type": "display_data",
          "data": {
            "text/latex": "$\\displaystyle 0.282842712474619 \\sqrt{2} \\pi$",
            "text/plain": [
              "0.282842712474619*sqrt(2)*pi"
            ]
          },
          "metadata": {
            "tags": []
          }
        }
      ]
    },
    {
      "cell_type": "markdown",
      "metadata": {
        "id": "hE5BDiMn1xcy"
      },
      "source": [
        "### Задание 5.\n",
        "Вычислить объем тела, образованного вращением около оси ОY фигуры, ограниченной $y = e^x$, прямой $y=e$, и прямой $y = e^2$. "
      ]
    },
    {
      "cell_type": "code",
      "metadata": {
        "id": "9L5KnAa5549I"
      },
      "source": [
        "from sympy import E"
      ],
      "execution_count": null,
      "outputs": []
    },
    {
      "cell_type": "code",
      "metadata": {
        "colab": {
          "base_uri": "https://localhost:8080/",
          "height": 314
        },
        "id": "PtS0aeeD1xcy",
        "outputId": "f165d371-f140-4899-e473-79acff656a96"
      },
      "source": [
        "plot_implicit(sympy.And(y > E ** x, y > E, y < E ** 2), (x, 0, 4), (y, 0, 10))"
      ],
      "execution_count": null,
      "outputs": [
        {
          "output_type": "display_data",
          "data": {
            "image/png": "[encoded data removed]",
            "text/plain": [
              "<Figure size 432x288 with 1 Axes>"
            ]
          },
          "metadata": {
            "tags": [],
            "needs_background": "light"
          }
        },
        {
          "output_type": "execute_result",
          "data": {
            "text/plain": [
              "<sympy.plotting.plot.Plot at 0x7ff8cbed6490>"
            ]
          },
          "metadata": {
            "tags": []
          },
          "execution_count": 44
        }
      ]
    },
    {
      "cell_type": "code",
      "metadata": {
        "colab": {
          "base_uri": "https://localhost:8080/",
          "height": 82
        },
        "id": "1CUQw2yFQmg8",
        "outputId": "df309765-972a-467e-8cc7-ca51e1c2eb4d"
      },
      "source": [
        "x = Log(y)\n",
        "V_OY = Pi*Integral(x ** 2, (y, E, E ** 2))\n",
        "display(sympy.Eq(V_OY, V_OY.doit()))"
      ],
      "execution_count": null,
      "outputs": [
        {
          "output_type": "display_data",
          "data": {
            "text/latex": "$\\displaystyle \\pi \\int\\limits_{e}^{e^{2}} \\log{\\left(y \\right)}^{2}\\, dy = \\pi \\left(- e + 2 e^{2}\\right)$",
            "text/plain": [
              "Eq(pi*Integral(log(y)**2, (y, E, exp(2))), pi*(-E + 2*exp(2)))"
            ]
          },
          "metadata": {
            "tags": []
          }
        }
      ]
    },
    {
      "cell_type": "markdown",
      "metadata": {
        "id": "g8p5Uyk01xcy"
      },
      "source": [
        "### Индивидуальное задание\n",
        "Вычислить объем тела, образованного при вращении области между графиками функций \n",
        "$f_1(x)$ и  $f_2(x)$. "
      ]
    },
    {
      "cell_type": "markdown",
      "metadata": {
        "id": "bGgXzY1fW0NH"
      },
      "source": [
        "$$f(x) = 3 \\cos{3x}$$\n",
        "$$g(x) = \\cos{x}$$"
      ]
    },
    {
      "cell_type": "code",
      "metadata": {
        "id": "0kuiQuVg1xcz",
        "colab": {
          "base_uri": "https://localhost:8080/",
          "height": 79
        },
        "outputId": "a363a51d-4ffa-4977-d04c-c06acbc093a0"
      },
      "source": [
        "f = 3 * Cos(3 * x)\n",
        "g = Cos(x)\n",
        "V_OY = 2 * Pi * Integral(x * (f - g), (x, 0, 1))\n",
        "display(sympy.Eq(V_OY, V_OY.doit()))"
      ],
      "execution_count": null,
      "outputs": [
        {
          "output_type": "display_data",
          "data": {
            "text/latex": "$\\displaystyle 2 \\pi \\int\\limits_{0}^{1} x \\left(- \\cos{\\left(x \\right)} + 3 \\cos{\\left(3 x \\right)}\\right)\\, dx = 2 \\pi \\left(- \\sin{\\left(1 \\right)} - \\cos{\\left(1 \\right)} + \\frac{\\cos{\\left(3 \\right)}}{3} + \\sin{\\left(3 \\right)} + \\frac{2}{3}\\right)$",
            "text/plain": [
              "Eq(2*pi*Integral(x*(-cos(x) + 3*cos(3*x)), (x, 0, 1)), 2*pi*(-sin(1) - cos(1) + cos(3)/3 + sin(3) + 2/3))"
            ]
          },
          "metadata": {
            "tags": []
          }
        }
      ]
    }
  ]
}