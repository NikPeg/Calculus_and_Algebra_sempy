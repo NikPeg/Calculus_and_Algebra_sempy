{
  "nbformat": 4,
  "nbformat_minor": 0,
  "metadata": {
    "kernelspec": {
      "display_name": "Python 3",
      "language": "python",
      "name": "python3"
    },
    "language_info": {
      "codemirror_mode": {
        "name": "ipython",
        "version": 3
      },
      "file_extension": ".py",
      "mimetype": "text/x-python",
      "name": "python",
      "nbconvert_exporter": "python",
      "pygments_lexer": "ipython3",
      "version": "3.7.3"
    },
    "colab": {
      "provenance": []
    }
  },
  "cells": [
    {
      "cell_type": "code",
      "metadata": {
        "id": "GPr4Tl6gzSDZ"
      },
      "source": [
        "import sympy\n",
        "from sympy import Symbol, symbols, S, Function, integrate, Integral, diff, solve"
      ],
      "execution_count": null,
      "outputs": []
    },
    {
      "cell_type": "markdown",
      "metadata": {
        "id": "rHLjOVMIzSDb"
      },
      "source": [
        "## Занятие 9\n",
        "## Математический анализ\n",
        "## Интегрирование функции: первообразная и неопределенный интеграл\n",
        "https://docs.sympy.org/1.5.1/modules/integrals/integrals.html\n",
        "\n",
        "https://ru.wikipedia.org/wiki/%D0%9F%D0%B5%D1%80%D0%B2%D0%BE%D0%BE%D0%B1%D1%80%D0%B0%D0%B7%D0%BD%D0%B0%D1%8F\n",
        "\n",
        "https://ru.wikipedia.org/wiki/%D0%A1%D0%BF%D0%B8%D1%81%D0%BE%D0%BA_%D0%B8%D0%BD%D1%82%D0%B5%D0%B3%D1%80%D0%B0%D0%BB%D0%BE%D0%B2_%D1%8D%D0%BB%D0%B5%D0%BC%D0%B5%D0%BD%D1%82%D0%B0%D1%80%D0%BD%D1%8B%D1%85_%D1%84%D1%83%D0%BD%D0%BA%D1%86%D0%B8%D0%B9"
      ]
    },
    {
      "cell_type": "markdown",
      "metadata": {
        "id": "KisRlWHHzSDb"
      },
      "source": [
        "### Задача 1.\n",
        "Вычислить определенные интегралы:\n",
        "$$\n",
        "1)\\ \\int_2^3 \\frac{1}{\\sqrt{x-2}},\\ 2) \\int_1^6 \\frac{1}{(x-1)^3},\\ 3)\\ \\int_2^\\infty \\frac{1}{(x-1)^3} \n",
        "$$"
      ]
    },
    {
      "cell_type": "code",
      "metadata": {
        "id": "vuwDe6j8zSDc",
        "colab": {
          "base_uri": "https://localhost:8080/",
          "height": 92
        },
        "outputId": "1458739b-2db6-4611-e320-b01bd4ae4bae"
      },
      "source": [
        "from sympy.abc import x\n",
        "display(integrate(1 / (x - 2) ** 0.5, (x, 2, 3)),\n",
        "  integrate(1 / (x - 1) ** 3, (x, 1, 6)),\n",
        "  integrate(1 / (x - 1) ** 3, (x, 2, sympy.oo)))"
      ],
      "execution_count": null,
      "outputs": [
        {
          "output_type": "display_data",
          "data": {
            "text/latex": "$\\displaystyle 2.0$",
            "text/plain": [
              "2.00000000000000"
            ]
          },
          "metadata": {
            "tags": []
          }
        },
        {
          "output_type": "display_data",
          "data": {
            "text/latex": "$\\displaystyle \\infty$",
            "text/plain": [
              "oo"
            ]
          },
          "metadata": {
            "tags": []
          }
        },
        {
          "output_type": "display_data",
          "data": {
            "text/latex": "$\\displaystyle \\frac{1}{2}$",
            "text/plain": [
              "1/2"
            ]
          },
          "metadata": {
            "tags": []
          }
        }
      ]
    },
    {
      "cell_type": "markdown",
      "metadata": {
        "id": "GeHArXsRzSDc"
      },
      "source": [
        "### Задача 2\n",
        "Описать функцию, находящую неопределенный интеграл $\\int f(x)\\,dx$ в виде $F(x)+C$.\n",
        "\n",
        "Использовать эту функцию для интегрирования $\\sin(3x+5)$, $x{\\rm tg}(x^2)$, $(e^{\\sin x})\\cos x$, $x^2e^{x^3}$"
      ]
    },
    {
      "cell_type": "code",
      "metadata": {
        "id": "t5gwhJh1zSDc"
      },
      "source": [
        "def F(f, x):\n",
        "  C = Symbol('C')\n",
        "  return integrate(f, x) + C"
      ],
      "execution_count": null,
      "outputs": []
    },
    {
      "cell_type": "code",
      "metadata": {
        "colab": {
          "base_uri": "https://localhost:8080/",
          "height": 153
        },
        "id": "psXuhMSu2f-n",
        "outputId": "b97bf8ec-1541-44ec-9b36-f0888d6e9ad7"
      },
      "source": [
        "functions = [sympy.sin(3 * x + 5), x * sympy.tan(x ** 2), sympy.E ** sympy.sin(x) * sympy.cos(x), x ** 2 * sympy.E ** x ** 3]\n",
        "for f in functions:\n",
        "  display(F(f, x))"
      ],
      "execution_count": null,
      "outputs": [
        {
          "output_type": "display_data",
          "data": {
            "text/latex": "$\\displaystyle C - \\frac{\\cos{\\left(3 x + 5 \\right)}}{3}$",
            "text/plain": [
              "C - cos(3*x + 5)/3"
            ]
          },
          "metadata": {
            "tags": []
          }
        },
        {
          "output_type": "display_data",
          "data": {
            "text/latex": "$\\displaystyle C + \\frac{\\log{\\left(\\tan^{2}{\\left(x^{2} \\right)} + 1 \\right)}}{4}$",
            "text/plain": [
              "C + log(tan(x**2)**2 + 1)/4"
            ]
          },
          "metadata": {
            "tags": []
          }
        },
        {
          "output_type": "display_data",
          "data": {
            "text/latex": "$\\displaystyle C + e^{\\sin{\\left(x \\right)}}$",
            "text/plain": [
              "C + exp(sin(x))"
            ]
          },
          "metadata": {
            "tags": []
          }
        },
        {
          "output_type": "display_data",
          "data": {
            "text/latex": "$\\displaystyle C + \\frac{e^{x^{3}}}{3}$",
            "text/plain": [
              "C + exp(x**3)/3"
            ]
          },
          "metadata": {
            "tags": []
          }
        }
      ]
    },
    {
      "cell_type": "markdown",
      "metadata": {
        "id": "VobfAqjvzSDd"
      },
      "source": [
        "### Задача 3.\n",
        "Найти первообразную функции $\\frac{x-3}{(x+1)^2}$, график которой проходит через начало координат."
      ]
    },
    {
      "cell_type": "code",
      "metadata": {
        "id": "EA17UgcgzSDd",
        "colab": {
          "base_uri": "https://localhost:8080/",
          "height": 52
        },
        "outputId": "991455ba-60ff-44ac-f6fd-23ff67d169ad"
      },
      "source": [
        "C = Symbol('C')\n",
        "integrate((x - 3) / (x + 1) ** 2, x) + C"
      ],
      "execution_count": null,
      "outputs": [
        {
          "output_type": "execute_result",
          "data": {
            "text/latex": "$\\displaystyle C + \\log{\\left(x + 1 \\right)} + \\frac{4}{x + 1}$",
            "text/plain": [
              "C + log(x + 1) + 4/(x + 1)"
            ]
          },
          "metadata": {
            "tags": []
          },
          "execution_count": 5
        }
      ]
    },
    {
      "cell_type": "code",
      "metadata": {
        "colab": {
          "base_uri": "https://localhost:8080/"
        },
        "id": "AMFWOT9w-LZy",
        "outputId": "e5f2d9e6-b1f9-4aec-d142-c6e81cafeb7c"
      },
      "source": [
        "C = 0 - integrate((x - 3) / (x + 1) ** 2, x).subs({x: 0})\n",
        "print('C = {0}'.format(C))"
      ],
      "execution_count": null,
      "outputs": [
        {
          "output_type": "stream",
          "text": [
            "C = -4\n"
          ],
          "name": "stdout"
        }
      ]
    },
    {
      "cell_type": "code",
      "metadata": {
        "colab": {
          "base_uri": "https://localhost:8080/",
          "height": 52
        },
        "id": "SS7ZZupt-rpl",
        "outputId": "45f73725-7fc5-4d50-b05c-28eb1513a911"
      },
      "source": [
        "integrate((x - 3) / (x + 1) ** 2, x) + C"
      ],
      "execution_count": null,
      "outputs": [
        {
          "output_type": "execute_result",
          "data": {
            "text/latex": "$\\displaystyle \\log{\\left(x + 1 \\right)} - 4 + \\frac{4}{x + 1}$",
            "text/plain": [
              "log(x + 1) - 4 + 4/(x + 1)"
            ]
          },
          "metadata": {
            "tags": []
          },
          "execution_count": 7
        }
      ]
    },
    {
      "cell_type": "markdown",
      "metadata": {
        "id": "zsCHbkxVzSDd"
      },
      "source": [
        "### Задача 4.\n",
        "Описать функцию, вычисляющую неопределенный интеграл от $\\frac{1}{\\sqrt{x^2+a}}$ по формуле \"длинного логарифма\":\n",
        "$$\n",
        "\\int\\frac{1}{\\sqrt{x^2+a}} = \\ln|x + \\sqrt{x^2 + a}| + C,\\quad a \\neq 0. \n",
        "$$\n",
        "Функция возвращает $\\ln|x| + C$ при $a = 0$. Аргументы функции - переменная интегрирования $x$ и параметр $a$.\n",
        "\n",
        "Вызвать функцию при $a = 0, 1, 4$. Сравнить с результатом integrate.\n",
        "\n",
        "Проверить дифференцированием, при необходимости использовать simplyfy для того, чтобы упростить выражение.\n",
        "\n",
        "Рекомендется создавать положительные символы, чтобы не было неоднозначности."
      ]
    },
    {
      "cell_type": "code",
      "metadata": {
        "id": "RUa_AvrQzSDe"
      },
      "source": [
        "def F(x, a):\n",
        "  return sympy.simplify(sympy.ln(abs(x + sympy.sqrt(x ** 2 + a))))"
      ],
      "execution_count": null,
      "outputs": []
    },
    {
      "cell_type": "code",
      "metadata": {
        "colab": {
          "base_uri": "https://localhost:8080/",
          "height": 720
        },
        "id": "Xdj7WMmd6GeJ",
        "outputId": "58215ef2-3faa-4334-abeb-08667edb4583"
      },
      "source": [
        "x = Symbol('x', positive=True)\n",
        "for a in 0, 1, 4:\n",
        "  print()\n",
        "  print('a = {0}'.format(a))\n",
        "  my = F(x, a)\n",
        "  display('My function:', my)\n",
        "  simp = sympy.simplify(integrate(1 / sympy.sqrt(x ** 2 + a)))\n",
        "  display('Sympy integrate:', simp)\n",
        "  display('Mine diff:', sympy.simplify(my.diff()))\n",
        "  display('Sympy diff:', sympy.simplify(simp.diff()))"
      ],
      "execution_count": null,
      "outputs": [
        {
          "output_type": "stream",
          "text": [
            "\n",
            "a = 0\n"
          ],
          "name": "stdout"
        },
        {
          "output_type": "display_data",
          "data": {
            "application/vnd.google.colaboratory.intrinsic+json": {
              "type": "string"
            },
            "text/plain": [
              "'My function:'"
            ]
          },
          "metadata": {
            "tags": []
          }
        },
        {
          "output_type": "display_data",
          "data": {
            "text/latex": "$\\displaystyle \\log{\\left(2 x \\right)}$",
            "text/plain": [
              "log(2*x)"
            ]
          },
          "metadata": {
            "tags": []
          }
        },
        {
          "output_type": "display_data",
          "data": {
            "application/vnd.google.colaboratory.intrinsic+json": {
              "type": "string"
            },
            "text/plain": [
              "'Sympy integrate:'"
            ]
          },
          "metadata": {
            "tags": []
          }
        },
        {
          "output_type": "display_data",
          "data": {
            "text/latex": "$\\displaystyle \\log{\\left(x \\right)}$",
            "text/plain": [
              "log(x)"
            ]
          },
          "metadata": {
            "tags": []
          }
        },
        {
          "output_type": "display_data",
          "data": {
            "application/vnd.google.colaboratory.intrinsic+json": {
              "type": "string"
            },
            "text/plain": [
              "'Mine diff:'"
            ]
          },
          "metadata": {
            "tags": []
          }
        },
        {
          "output_type": "display_data",
          "data": {
            "text/latex": "$\\displaystyle \\frac{1}{x}$",
            "text/plain": [
              "1/x"
            ]
          },
          "metadata": {
            "tags": []
          }
        },
        {
          "output_type": "display_data",
          "data": {
            "application/vnd.google.colaboratory.intrinsic+json": {
              "type": "string"
            },
            "text/plain": [
              "'Sympy diff:'"
            ]
          },
          "metadata": {
            "tags": []
          }
        },
        {
          "output_type": "display_data",
          "data": {
            "text/latex": "$\\displaystyle \\frac{1}{x}$",
            "text/plain": [
              "1/x"
            ]
          },
          "metadata": {
            "tags": []
          }
        },
        {
          "output_type": "stream",
          "text": [
            "\n",
            "a = 1\n"
          ],
          "name": "stdout"
        },
        {
          "output_type": "display_data",
          "data": {
            "application/vnd.google.colaboratory.intrinsic+json": {
              "type": "string"
            },
            "text/plain": [
              "'My function:'"
            ]
          },
          "metadata": {
            "tags": []
          }
        },
        {
          "output_type": "display_data",
          "data": {
            "text/latex": "$\\displaystyle \\log{\\left(x + \\sqrt{x^{2} + 1} \\right)}$",
            "text/plain": [
              "log(x + sqrt(x**2 + 1))"
            ]
          },
          "metadata": {
            "tags": []
          }
        },
        {
          "output_type": "display_data",
          "data": {
            "application/vnd.google.colaboratory.intrinsic+json": {
              "type": "string"
            },
            "text/plain": [
              "'Sympy integrate:'"
            ]
          },
          "metadata": {
            "tags": []
          }
        },
        {
          "output_type": "display_data",
          "data": {
            "text/latex": "$\\displaystyle \\operatorname{asinh}{\\left(x \\right)}$",
            "text/plain": [
              "asinh(x)"
            ]
          },
          "metadata": {
            "tags": []
          }
        },
        {
          "output_type": "display_data",
          "data": {
            "application/vnd.google.colaboratory.intrinsic+json": {
              "type": "string"
            },
            "text/plain": [
              "'Mine diff:'"
            ]
          },
          "metadata": {
            "tags": []
          }
        },
        {
          "output_type": "display_data",
          "data": {
            "text/latex": "$\\displaystyle \\frac{1}{\\sqrt{x^{2} + 1}}$",
            "text/plain": [
              "1/sqrt(x**2 + 1)"
            ]
          },
          "metadata": {
            "tags": []
          }
        },
        {
          "output_type": "display_data",
          "data": {
            "application/vnd.google.colaboratory.intrinsic+json": {
              "type": "string"
            },
            "text/plain": [
              "'Sympy diff:'"
            ]
          },
          "metadata": {
            "tags": []
          }
        },
        {
          "output_type": "display_data",
          "data": {
            "text/latex": "$\\displaystyle \\frac{1}{\\sqrt{x^{2} + 1}}$",
            "text/plain": [
              "1/sqrt(x**2 + 1)"
            ]
          },
          "metadata": {
            "tags": []
          }
        },
        {
          "output_type": "stream",
          "text": [
            "\n",
            "a = 4\n"
          ],
          "name": "stdout"
        },
        {
          "output_type": "display_data",
          "data": {
            "application/vnd.google.colaboratory.intrinsic+json": {
              "type": "string"
            },
            "text/plain": [
              "'My function:'"
            ]
          },
          "metadata": {
            "tags": []
          }
        },
        {
          "output_type": "display_data",
          "data": {
            "text/latex": "$\\displaystyle \\log{\\left(x + \\sqrt{x^{2} + 4} \\right)}$",
            "text/plain": [
              "log(x + sqrt(x**2 + 4))"
            ]
          },
          "metadata": {
            "tags": []
          }
        },
        {
          "output_type": "display_data",
          "data": {
            "application/vnd.google.colaboratory.intrinsic+json": {
              "type": "string"
            },
            "text/plain": [
              "'Sympy integrate:'"
            ]
          },
          "metadata": {
            "tags": []
          }
        },
        {
          "output_type": "display_data",
          "data": {
            "text/latex": "$\\displaystyle \\operatorname{asinh}{\\left(\\frac{x}{2} \\right)}$",
            "text/plain": [
              "asinh(x/2)"
            ]
          },
          "metadata": {
            "tags": []
          }
        },
        {
          "output_type": "display_data",
          "data": {
            "application/vnd.google.colaboratory.intrinsic+json": {
              "type": "string"
            },
            "text/plain": [
              "'Mine diff:'"
            ]
          },
          "metadata": {
            "tags": []
          }
        },
        {
          "output_type": "display_data",
          "data": {
            "text/latex": "$\\displaystyle \\frac{1}{\\sqrt{x^{2} + 4}}$",
            "text/plain": [
              "1/sqrt(x**2 + 4)"
            ]
          },
          "metadata": {
            "tags": []
          }
        },
        {
          "output_type": "display_data",
          "data": {
            "application/vnd.google.colaboratory.intrinsic+json": {
              "type": "string"
            },
            "text/plain": [
              "'Sympy diff:'"
            ]
          },
          "metadata": {
            "tags": []
          }
        },
        {
          "output_type": "display_data",
          "data": {
            "text/latex": "$\\displaystyle \\frac{1}{\\sqrt{x^{2} + 4}}$",
            "text/plain": [
              "1/sqrt(x**2 + 4)"
            ]
          },
          "metadata": {
            "tags": []
          }
        }
      ]
    },
    {
      "cell_type": "markdown",
      "metadata": {
        "id": "QNVY6SOdzSDe"
      },
      "source": [
        "### Задача 5.\n",
        "Провести замену переменной $y = x^2$ в интеграле $\\int x e^{x^2}\\,dx$."
      ]
    },
    {
      "cell_type": "code",
      "metadata": {
        "id": "U6kN0XvtzSDe",
        "colab": {
          "base_uri": "https://localhost:8080/",
          "height": 54
        },
        "outputId": "a2cdf821-9adf-4c7b-dca1-95d5b0126066"
      },
      "source": [
        "y = Symbol('y', positive=True)\n",
        "x = Symbol('x')\n",
        "I1 = Integral(x * sympy.E ** x ** 2)\n",
        "I1.transform(x ** 2, y)"
      ],
      "execution_count": null,
      "outputs": [
        {
          "output_type": "execute_result",
          "data": {
            "text/latex": "$\\displaystyle \\int \\frac{e^{y}}{2}\\, dy$",
            "text/plain": [
              "Integral(exp(y)/2, y)"
            ]
          },
          "metadata": {
            "tags": []
          },
          "execution_count": 10
        }
      ]
    },
    {
      "cell_type": "markdown",
      "metadata": {
        "id": "-GicfT0jzSDe"
      },
      "source": [
        "### Индивидуальное задание\n",
        "Провести замену переменных в определенном интеграле, представить результат в виде двух уравнений, как в примере:\n",
        "\\begin{align*}\n",
        "\\int_1^4 \\frac{dx}{\\sqrt{x}\\left(\\sqrt{x}+1\\right)} = \\int_1^2 \\frac{2\\,dy}{y + 1}\\\\\n",
        "\\int_1^2 \\frac{2\\,dy}{y + 1} = 2(\\ln 3 - \\ln 2)\n",
        "\\end{align*}\n",
        "(с точностью до перестановки слагаемых и сомножителей)"
      ]
    },
    {
      "cell_type": "markdown",
      "metadata": {
        "id": "FnOqB6nt_IsT"
      },
      "source": [
        "$$\\int\\limits_{\\frac{6^{\\frac{2}{3}} \\sqrt[3]{\\pi}}{6}}^{\\frac{3^{\\frac{2}{3}} \\sqrt[3]{\\pi}}{3}} 3 x^{2} \\left(\\tan^{2}{\\left(x^{3} \\right)} + 1\\right)\\, dx$$\n",
        "замена $y = x^{3}$"
      ]
    },
    {
      "cell_type": "code",
      "metadata": {
        "id": "Ws6Moijf_MSt",
        "colab": {
          "base_uri": "https://localhost:8080/",
          "height": 181
        },
        "outputId": "5914aeec-1e2f-4f84-fde1-225fba116649"
      },
      "source": [
        "lim1 = 6 ** (S(2) / 3) * sympy.pi ** (S(1) / 3) / 6\n",
        "lim2 = 3 ** (S(2) / 3) * sympy.pi ** (S(1) / 3) / 3\n",
        "y = Symbol('y', positive=True)\n",
        "x = Symbol('x', positive=True)\n",
        "I1 = Integral(3 * x ** 2 * (sympy.tan(x ** 3) ** 2 + 1), (x, lim1, lim2))\n",
        "I2 = I1.transform(x, y ** (S(1) / 3))\n",
        "display(sympy.Eq(I1, I2, evaluate=False))\n",
        "display(sympy.Eq(I2, I2.doit(), evaluate=False))"
      ],
      "execution_count": null,
      "outputs": [
        {
          "output_type": "display_data",
          "data": {
            "text/latex": "$\\displaystyle \\int\\limits_{\\frac{6^{\\frac{2}{3}} \\sqrt[3]{\\pi}}{6}}^{\\frac{3^{\\frac{2}{3}} \\sqrt[3]{\\pi}}{3}} 3 x^{2} \\left(\\tan^{2}{\\left(x^{3} \\right)} + 1\\right)\\, dx = \\int\\limits_{\\frac{\\pi}{6}}^{\\frac{\\pi}{3}} \\left(\\tan^{2}{\\left(y \\right)} + 1\\right)\\, dy$",
            "text/plain": [
              "Eq(Integral(3*x**2*(tan(x**3)**2 + 1), (x, 6**(2/3)*pi**(1/3)/6, 3**(2/3)*pi**(1/3)/3)), Integral(tan(y)**2 + 1, (y, pi/6, pi/3)))"
            ]
          },
          "metadata": {
            "tags": []
          }
        },
        {
          "output_type": "display_data",
          "data": {
            "text/latex": "$\\displaystyle \\int\\limits_{\\frac{\\pi}{6}}^{\\frac{\\pi}{3}} \\left(\\tan^{2}{\\left(y \\right)} + 1\\right)\\, dy = \\frac{2 \\sqrt{3}}{3}$",
            "text/plain": [
              "Eq(Integral(tan(y)**2 + 1, (y, pi/6, pi/3)), 2*sqrt(3)/3)"
            ]
          },
          "metadata": {
            "tags": []
          }
        }
      ]
    }
  ]
}