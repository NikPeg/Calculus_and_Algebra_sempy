{
  "cells": [
    {
      "cell_type": "markdown",
      "metadata": {
        "id": "9J1PmyhidVXc"
      },
      "source": [
        "## Занятие 7\n",
        "## Математический анализ\n",
        "## Исследование функции с sympy.calculus.util и sympy.calculus.singularities"
      ]
    },
    {
      "cell_type": "code",
      "execution_count": null,
      "metadata": {
        "id": "-MDFvsdbdVXg"
      },
      "outputs": [],
      "source": [
        "import sympy\n",
        "from sympy import S, Interval, plot\n",
        "from sympy import sin as Sin\n",
        "from sympy import cos as Cos\n",
        "from sympy import exp as Exp\n",
        "from sympy import log as Log\n",
        "from sympy import pi as Pi\n",
        "from sympy.calculus.util import continuous_domain, function_range, periodicity, stationary_points, maximum, minimum, AccumBounds\n",
        "from sympy.calculus.singularities import singularities, is_increasing, is_decreasing, is_monotonic\n",
        "from sympy.calculus.singularities import is_strictly_increasing, is_strictly_decreasing\n",
        "%matplotlib inline"
      ]
    },
    {
      "cell_type": "markdown",
      "metadata": {
        "id": "Sxyp-xXHdVXh"
      },
      "source": [
        "## Схема анализа функции.\n",
        "1. Область определения\n",
        "\n",
        "sympy.calculus.util.continuous_domain(f, symbol, domain)\n",
        "\n",
        "f - выражение, описывающее функцию, \n",
        "\n",
        "symbol - переменная, от которой зависит исследуемая функция,\n",
        "\n",
        "domain - область значений переменной, на которой рассматривается функция,\n",
        "\n",
        "если функция рассматривается на всей вещественной прямой, то domain=S.Reals\n",
        "\n",
        "Сингулярные точки (точки, в которых функция не существует) находятся с помощью\n",
        "\n",
        "sympy.calculus.singularities.singularities(f, symbol, domain=None)\n",
        "\n",
        "2. Область значений\n",
        "\n",
        "sympy.calculus.util.function_range(f, symbol, domain)\n",
        "\n",
        "3. Периодичность\n",
        "\n",
        "sympy.calculus.util.periodicity(f, symbol, check=False)\n",
        "\n",
        "4. Стационарные точки \n",
        "\n",
        "sympy.calculus.util.stationary_points(f, symbol, domain=Reals)\n",
        "\n",
        "5. Точки экстремума\n",
        "\n",
        "sympy.calculus.util.maximum(f, symbol, domain=Reals)\n",
        "\n",
        "sympy.calculus.util.minimum(f, symbol, domain=Reals)\n",
        "\n",
        "6. Монотонность\n",
        "\n",
        "sympy.calculus.singularities.is_decreasing(f, interval=Reals, symbol=None)\n",
        "\n",
        "sympy.calculus.singularities.is_increasing(f, interval=Reals, symbol=None)\n",
        "\n",
        "sympy.calculus.singularities.is_monotonic(f, interval=Reals, symbol=None)\n",
        "\n",
        "sympy.calculus.singularities.is_strictly_decreasing(f, interval=Reals, symbol=None)\n",
        "\n",
        "sympy.calculus.singularities.is_strictly_increasing(f, interval=Reals, symbol=None)\n",
        "\n",
        "7. Минимальное и максимальное значение функции на интервале \n",
        "\n",
        "sympy.calculus.util.AccumulationBounds(min, max)\n",
        "\n",
        "Свойства: delta, max, min, mid\n",
        "\n",
        "### Задание 1.  \n",
        "Исследовать функцию по п.1 - 5 на области определения и по п. 1 - 7 на одном периоде, построить график.\n",
        "$$\n",
        "f(x) = e^{\\sin(x)}.\n",
        "$$\n",
        "###### 1. Область определения"
      ]
    },
    {
      "cell_type": "code",
      "execution_count": null,
      "metadata": {
        "id": "tD1NPmlidVXj"
      },
      "outputs": [],
      "source": [
        "from sympy.abc import x\n",
        "f = sympy.E ** sympy.sin(x)"
      ]
    },
    {
      "cell_type": "code",
      "execution_count": null,
      "metadata": {
        "id": "oK-fLIAUdVXk",
        "outputId": "8e9730ae-b684-43f2-f06f-d8b5101706b8"
      },
      "outputs": [
        {
          "data": {
            "text/latex": [
              "$\\displaystyle \\mathbb{R}$"
            ],
            "text/plain": [
              "Reals"
            ]
          },
          "execution_count": 50,
          "metadata": {},
          "output_type": "execute_result"
        }
      ],
      "source": [
        "D = sympy.calculus.util.continuous_domain(f, x, S.Reals)\n",
        "D"
      ]
    },
    {
      "cell_type": "markdown",
      "metadata": {
        "id": "6rP0kP4CdVXm"
      },
      "source": [
        "Сингулярные точки (точки, где функция не определена)"
      ]
    },
    {
      "cell_type": "code",
      "execution_count": null,
      "metadata": {
        "id": "r026wVcidVXm",
        "outputId": "3e308abb-3373-48ef-ff43-f05b40ef4e1f"
      },
      "outputs": [
        {
          "data": {
            "text/latex": [
              "$\\displaystyle \\emptyset$"
            ],
            "text/plain": [
              "EmptySet"
            ]
          },
          "execution_count": 51,
          "metadata": {},
          "output_type": "execute_result"
        }
      ],
      "source": [
        "singularities(f, x)"
      ]
    },
    {
      "cell_type": "markdown",
      "metadata": {
        "id": "i0197xk6dVXn"
      },
      "source": [
        "###### 2. Область значений"
      ]
    },
    {
      "cell_type": "code",
      "execution_count": null,
      "metadata": {
        "id": "56fAzV3DdVXo",
        "outputId": "17ac8b89-a0f9-42b2-c53f-2702e64ae93c"
      },
      "outputs": [
        {
          "data": {
            "text/latex": [
              "$\\displaystyle \\left[e^{-1}, e\\right]$"
            ],
            "text/plain": [
              "Interval(exp(-1), E)"
            ]
          },
          "execution_count": 52,
          "metadata": {},
          "output_type": "execute_result"
        }
      ],
      "source": [
        "function_range(f, x, S.Reals)"
      ]
    },
    {
      "cell_type": "markdown",
      "metadata": {
        "id": "KSR4SotHdVXp"
      },
      "source": [
        "###### 3. Периодичность"
      ]
    },
    {
      "cell_type": "code",
      "execution_count": null,
      "metadata": {
        "id": "sZARkNkndVXs",
        "outputId": "ebb721c9-78e5-475b-bd53-292a7aa3e10f"
      },
      "outputs": [
        {
          "data": {
            "text/latex": [
              "$\\displaystyle 2 \\pi$"
            ],
            "text/plain": [
              "2*pi"
            ]
          },
          "execution_count": 53,
          "metadata": {},
          "output_type": "execute_result"
        }
      ],
      "source": [
        "periodicity(f, x, check=False)"
      ]
    },
    {
      "cell_type": "markdown",
      "metadata": {
        "id": "WLQeTroDdVXt"
      },
      "source": [
        "###### 4. Стационарные точки"
      ]
    },
    {
      "cell_type": "code",
      "execution_count": null,
      "metadata": {
        "id": "E2p_TOjfdVXt",
        "outputId": "ce8d7c94-0b18-401a-c235-5f4cd50726b2"
      },
      "outputs": [
        {
          "data": {
            "text/latex": [
              "$\\displaystyle \\left\\{2 n \\pi + \\frac{\\pi}{2}\\; |\\; n \\in \\mathbb{Z}\\right\\} \\cup \\left\\{2 n \\pi + \\frac{3 \\pi}{2}\\; |\\; n \\in \\mathbb{Z}\\right\\}$"
            ],
            "text/plain": [
              "Union(ImageSet(Lambda(_n, 2*_n*pi + pi/2), Integers), ImageSet(Lambda(_n, 2*_n*pi + 3*pi/2), Integers))"
            ]
          },
          "execution_count": 54,
          "metadata": {},
          "output_type": "execute_result"
        }
      ],
      "source": [
        "stationary_points(f, x)"
      ]
    },
    {
      "cell_type": "markdown",
      "metadata": {
        "id": "D1cn7-f_dVXu"
      },
      "source": [
        "###### 5. Максимальное и минимальное значения функции"
      ]
    },
    {
      "cell_type": "code",
      "execution_count": null,
      "metadata": {
        "id": "kbieAYCEdVXu",
        "outputId": "ce98a04f-4a0a-4e45-e04e-b48796710106"
      },
      "outputs": [
        {
          "data": {
            "text/latex": [
              "$\\displaystyle e$"
            ],
            "text/plain": [
              "E"
            ]
          },
          "metadata": {},
          "output_type": "display_data"
        },
        {
          "data": {
            "text/latex": [
              "$\\displaystyle e^{-1}$"
            ],
            "text/plain": [
              "exp(-1)"
            ]
          },
          "metadata": {},
          "output_type": "display_data"
        }
      ],
      "source": [
        "display(maximum(f, x), minimum(f, x))"
      ]
    },
    {
      "cell_type": "markdown",
      "metadata": {
        "id": "8Dx0anszdVXv"
      },
      "source": [
        "##### Исследование периодической функции на одном периоде.\n",
        "Найти пересечение с периодом области определения, множества сингулярных точек и стационарных точек.\n",
        "###### 1. Область определения"
      ]
    },
    {
      "cell_type": "code",
      "execution_count": null,
      "metadata": {
        "id": "KnHZSlyudVXv",
        "outputId": "ff24ec3d-625a-49aa-f4c3-23a06c2fa35f"
      },
      "outputs": [
        {
          "data": {
            "text/latex": [
              "$\\displaystyle \\left[0, 2 \\pi\\right]$"
            ],
            "text/plain": [
              "Interval(0, 2*pi)"
            ]
          },
          "execution_count": 56,
          "metadata": {},
          "output_type": "execute_result"
        }
      ],
      "source": [
        "period_pi = Interval(0, 2 * Pi)\n",
        "continuous_domain(f, x, period_pi)"
      ]
    },
    {
      "cell_type": "markdown",
      "metadata": {
        "id": "m36NXAUUdVXw"
      },
      "source": [
        "Сингулярные точки (точки, где функция не определена)"
      ]
    },
    {
      "cell_type": "code",
      "execution_count": null,
      "metadata": {
        "id": "S5TaIjQWdVXw",
        "outputId": "08228dc4-18c4-4c5e-db6a-2392b433a214"
      },
      "outputs": [
        {
          "data": {
            "text/latex": [
              "$\\displaystyle \\emptyset$"
            ],
            "text/plain": [
              "EmptySet"
            ]
          },
          "execution_count": 57,
          "metadata": {},
          "output_type": "execute_result"
        }
      ],
      "source": [
        "singularities(f, x, period_pi)"
      ]
    },
    {
      "cell_type": "markdown",
      "metadata": {
        "id": "NgeRtmyKdVXx"
      },
      "source": [
        "###### 2. Область значений"
      ]
    },
    {
      "cell_type": "code",
      "execution_count": null,
      "metadata": {
        "id": "m6_UA257dVXz",
        "outputId": "b25c1216-8600-4573-e301-fea866851f61"
      },
      "outputs": [
        {
          "data": {
            "text/latex": [
              "$\\displaystyle \\left[e^{-1}, e\\right]$"
            ],
            "text/plain": [
              "Interval(exp(-1), E)"
            ]
          },
          "execution_count": 58,
          "metadata": {},
          "output_type": "execute_result"
        }
      ],
      "source": [
        "function_range(f, x, period_pi)"
      ]
    },
    {
      "cell_type": "markdown",
      "metadata": {
        "id": "-l--PuFydVXz"
      },
      "source": [
        "###### 4. Стационарные точки "
      ]
    },
    {
      "cell_type": "code",
      "execution_count": null,
      "metadata": {
        "id": "waVpgtShdVXz",
        "outputId": "d2ec7f21-dd2d-4fd1-c761-0f4c69414320"
      },
      "outputs": [
        {
          "data": {
            "text/latex": [
              "$\\displaystyle \\left\\{\\frac{\\pi}{2}, \\frac{3 \\pi}{2}\\right\\}$"
            ],
            "text/plain": [
              "FiniteSet(pi/2, 3*pi/2)"
            ]
          },
          "execution_count": 59,
          "metadata": {},
          "output_type": "execute_result"
        }
      ],
      "source": [
        "stationary_points(f, x, period_pi)"
      ]
    },
    {
      "cell_type": "markdown",
      "metadata": {
        "id": "FuS8--1edVX0"
      },
      "source": [
        "###### 5. Максимальное и минимальное значения функции"
      ]
    },
    {
      "cell_type": "code",
      "execution_count": null,
      "metadata": {
        "id": "gcK-EzpzdVX0",
        "outputId": "dd271a32-2b23-407a-e105-903a37d61256"
      },
      "outputs": [
        {
          "data": {
            "text/latex": [
              "$\\displaystyle e$"
            ],
            "text/plain": [
              "E"
            ]
          },
          "metadata": {},
          "output_type": "display_data"
        },
        {
          "data": {
            "text/latex": [
              "$\\displaystyle e^{-1}$"
            ],
            "text/plain": [
              "exp(-1)"
            ]
          },
          "metadata": {},
          "output_type": "display_data"
        }
      ],
      "source": [
        "display(maximum(f, x, period_pi), minimum(f, x, period_pi))"
      ]
    },
    {
      "cell_type": "markdown",
      "metadata": {
        "id": "E7sGOuTkdVX0"
      },
      "source": [
        "###### 6. Монотонность\n",
        "Исследовать на периоде открытые интервалы (Interval.open), на которые период разбивают стационарные точки."
      ]
    },
    {
      "cell_type": "code",
      "execution_count": null,
      "metadata": {
        "id": "FnLrLKrqdVX1",
        "outputId": "6d923b41-4cb4-4de7-9463-3ddbc1a975d1"
      },
      "outputs": [
        {
          "data": {
            "text/latex": [
              "$\\displaystyle \\left(0, \\frac{\\pi}{2}\\right)$"
            ],
            "text/plain": [
              "Interval.open(0, pi/2)"
            ]
          },
          "metadata": {},
          "output_type": "display_data"
        },
        {
          "name": "stdout",
          "output_type": "stream",
          "text": [
            "True None None None None\n"
          ]
        },
        {
          "data": {
            "text/latex": [
              "$\\displaystyle \\left(\\frac{\\pi}{2}, \\frac{3 \\pi}{2}\\right)$"
            ],
            "text/plain": [
              "Interval.open(pi/2, 3*pi/2)"
            ]
          },
          "metadata": {},
          "output_type": "display_data"
        },
        {
          "name": "stdout",
          "output_type": "stream",
          "text": [
            "True None None None None\n"
          ]
        },
        {
          "data": {
            "text/latex": [
              "$\\displaystyle \\left(\\frac{3 \\pi}{2}, 2 \\pi\\right)$"
            ],
            "text/plain": [
              "Interval.open(3*pi/2, 2*pi)"
            ]
          },
          "metadata": {},
          "output_type": "display_data"
        },
        {
          "name": "stdout",
          "output_type": "stream",
          "text": [
            "True None None None None\n"
          ]
        }
      ],
      "source": [
        "intervals = [Interval.open(0, Pi / 2), Interval.open(Pi / 2, 3 * Pi / 2), Interval.open(3 * Pi / 2, 2 * Pi)]\n",
        "for interval in intervals:\n",
        "    display(interval)\n",
        "    print(is_monotonic(f, interval=interval),\n",
        "        is_decreasing(f, interval=interval), is_increasing(f, interval=interval),\n",
        "        is_strictly_decreasing(f, interval=interval), is_strictly_increasing(f, interval=interval))"
      ]
    },
    {
      "cell_type": "markdown",
      "metadata": {
        "id": "vQV3UmK-dVX1"
      },
      "source": [
        "###### 7. Минимальное и максимальное значение функции на интервале \n",
        "Найти максимальное и минимальное значение функции на каждом из интервалов монотонности в пределах одного периода"
      ]
    },
    {
      "cell_type": "code",
      "execution_count": null,
      "metadata": {
        "id": "WcYuvdlrdVX1",
        "outputId": "5acb6017-8704-4d59-d696-61109ab338e9"
      },
      "outputs": [
        {
          "data": {
            "text/latex": [
              "$\\displaystyle \\left(0, \\frac{\\pi}{2}\\right)$"
            ],
            "text/plain": [
              "Interval.open(0, pi/2)"
            ]
          },
          "metadata": {},
          "output_type": "display_data"
        },
        {
          "data": {
            "text/latex": [
              "$\\displaystyle \\left\\langle 1, e\\right\\rangle$"
            ],
            "text/plain": [
              "AccumBounds(1, E)"
            ]
          },
          "metadata": {},
          "output_type": "display_data"
        },
        {
          "data": {
            "text/latex": [
              "$\\displaystyle e$"
            ],
            "text/plain": [
              "E"
            ]
          },
          "metadata": {},
          "output_type": "display_data"
        },
        {
          "data": {
            "text/latex": [
              "$\\displaystyle 1$"
            ],
            "text/plain": [
              "1"
            ]
          },
          "metadata": {},
          "output_type": "display_data"
        },
        {
          "data": {
            "text/latex": [
              "$\\displaystyle -1 + e$"
            ],
            "text/plain": [
              "-1 + E"
            ]
          },
          "metadata": {},
          "output_type": "display_data"
        },
        {
          "data": {
            "text/latex": [
              "$\\displaystyle \\frac{1}{2} + \\frac{e}{2}$"
            ],
            "text/plain": [
              "1/2 + E/2"
            ]
          },
          "metadata": {},
          "output_type": "display_data"
        },
        {
          "data": {
            "text/latex": [
              "$\\displaystyle \\left(\\frac{\\pi}{2}, \\frac{3 \\pi}{2}\\right)$"
            ],
            "text/plain": [
              "Interval.open(pi/2, 3*pi/2)"
            ]
          },
          "metadata": {},
          "output_type": "display_data"
        },
        {
          "data": {
            "text/latex": [
              "$\\displaystyle \\left\\langle e^{-1}, e\\right\\rangle$"
            ],
            "text/plain": [
              "AccumBounds(exp(-1), E)"
            ]
          },
          "metadata": {},
          "output_type": "display_data"
        },
        {
          "data": {
            "text/latex": [
              "$\\displaystyle e$"
            ],
            "text/plain": [
              "E"
            ]
          },
          "metadata": {},
          "output_type": "display_data"
        },
        {
          "data": {
            "text/latex": [
              "$\\displaystyle e^{-1}$"
            ],
            "text/plain": [
              "exp(-1)"
            ]
          },
          "metadata": {},
          "output_type": "display_data"
        },
        {
          "data": {
            "text/latex": [
              "$\\displaystyle e - e^{-1}$"
            ],
            "text/plain": [
              "E - exp(-1)"
            ]
          },
          "metadata": {},
          "output_type": "display_data"
        },
        {
          "data": {
            "text/latex": [
              "$\\displaystyle \\frac{1}{2 e} + \\frac{e}{2}$"
            ],
            "text/plain": [
              "exp(-1)/2 + E/2"
            ]
          },
          "metadata": {},
          "output_type": "display_data"
        },
        {
          "data": {
            "text/latex": [
              "$\\displaystyle \\left(\\frac{3 \\pi}{2}, 2 \\pi\\right)$"
            ],
            "text/plain": [
              "Interval.open(3*pi/2, 2*pi)"
            ]
          },
          "metadata": {},
          "output_type": "display_data"
        },
        {
          "data": {
            "text/latex": [
              "$\\displaystyle \\left\\langle e^{-1}, 1\\right\\rangle$"
            ],
            "text/plain": [
              "AccumBounds(exp(-1), 1)"
            ]
          },
          "metadata": {},
          "output_type": "display_data"
        },
        {
          "data": {
            "text/latex": [
              "$\\displaystyle 1$"
            ],
            "text/plain": [
              "1"
            ]
          },
          "metadata": {},
          "output_type": "display_data"
        },
        {
          "data": {
            "text/latex": [
              "$\\displaystyle e^{-1}$"
            ],
            "text/plain": [
              "exp(-1)"
            ]
          },
          "metadata": {},
          "output_type": "display_data"
        },
        {
          "data": {
            "text/latex": [
              "$\\displaystyle 1 - e^{-1}$"
            ],
            "text/plain": [
              "1 - exp(-1)"
            ]
          },
          "metadata": {},
          "output_type": "display_data"
        },
        {
          "data": {
            "text/latex": [
              "$\\displaystyle \\frac{1}{2 e} + \\frac{1}{2}$"
            ],
            "text/plain": [
              "exp(-1)/2 + 1/2"
            ]
          },
          "metadata": {},
          "output_type": "display_data"
        }
      ],
      "source": [
        "intervals = [(0, Pi / 2), (Pi / 2, 3 * Pi / 2), (3 * Pi / 2, 2 * Pi)]\n",
        "for interval in intervals:\n",
        "    left = interval[0]\n",
        "    right = interval[1]\n",
        "    display(Interval.open(left, right))\n",
        "    f_AccB = f.subs(x, AccumBounds(left, right))\n",
        "    display(f_AccB, f_AccB.max, f_AccB.min, f_AccB.delta, f_AccB.mid)"
      ]
    },
    {
      "cell_type": "markdown",
      "metadata": {
        "id": "scFJYznsdVX2"
      },
      "source": [
        "###### График функции на одном периоде."
      ]
    },
    {
      "cell_type": "code",
      "execution_count": null,
      "metadata": {
        "id": "1WPEELRodVX2",
        "outputId": "c9d1a137-bc4a-4845-8aab-320f577afac0"
      },
      "outputs": [
        {
          "data": {
            "image/png": "[encoded data removed]",
            "text/plain": [
              "<Figure size 432x288 with 1 Axes>"
            ]
          },
          "metadata": {
            "needs_background": "light"
          },
          "output_type": "display_data"
        },
        {
          "data": {
            "text/plain": [
              "<sympy.plotting.plot.Plot at 0x7f09e7be1198>"
            ]
          },
          "execution_count": 67,
          "metadata": {},
          "output_type": "execute_result"
        }
      ],
      "source": [
        "plot((f, (x, 0, 2 * Pi)))"
      ]
    },
    {
      "cell_type": "markdown",
      "metadata": {
        "id": "vws_ezocdVX2"
      },
      "source": [
        "### Задание 2.  \n",
        "Исследовать функцию по п.1 - 5 на области определения и по п. 1 - 7  на одном периоде, построить график.\n",
        "$$\n",
        "f(x) = \\frac{1}{\\sin(x) + \\cos(x)}.\n",
        "$$\n",
        "###### 1. Область определения"
      ]
    },
    {
      "cell_type": "code",
      "execution_count": null,
      "metadata": {
        "id": "PY2Dew0zdVX2",
        "outputId": "6d8a2d26-2f52-4df2-8b63-ccd2f0e57aef"
      },
      "outputs": [
        {
          "data": {
            "text/latex": [
              "$\\displaystyle \\mathbb{R} \\setminus \\left(\\left\\{2 n \\pi + \\frac{3 \\pi}{4}\\; |\\; n \\in \\mathbb{Z}\\right\\} \\cup \\left\\{2 n \\pi + \\frac{7 \\pi}{4}\\; |\\; n \\in \\mathbb{Z}\\right\\}\\right)$"
            ],
            "text/plain": [
              "Complement(Reals, Union(ImageSet(Lambda(_n, 2*_n*pi + 3*pi/4), Integers), ImageSet(Lambda(_n, 2*_n*pi + 7*pi/4), Integers)))"
            ]
          },
          "execution_count": 68,
          "metadata": {},
          "output_type": "execute_result"
        }
      ],
      "source": [
        "f = 1 / (sympy.sin(x) + sympy.cos(x))\n",
        "D = continuous_domain(f, x, S.Reals)\n",
        "D"
      ]
    },
    {
      "cell_type": "markdown",
      "metadata": {
        "id": "6xqUYhuRdVX3"
      },
      "source": [
        "Сингулярные точки (точки, где функция не определена)"
      ]
    },
    {
      "cell_type": "code",
      "execution_count": null,
      "metadata": {
        "id": "NIPF2F-1dVX3",
        "outputId": "aa9d6250-dd34-49d4-d4ac-7670630da2ce"
      },
      "outputs": [
        {
          "data": {
            "text/latex": [
              "$\\displaystyle \\left\\{2 n \\pi + \\frac{3 \\pi}{4}\\; |\\; n \\in \\mathbb{Z}\\right\\} \\cup \\left\\{2 n \\pi + \\frac{7 \\pi}{4}\\; |\\; n \\in \\mathbb{Z}\\right\\}$"
            ],
            "text/plain": [
              "Union(ImageSet(Lambda(_n, 2*_n*pi + 3*pi/4), Integers), ImageSet(Lambda(_n, 2*_n*pi + 7*pi/4), Integers))"
            ]
          },
          "execution_count": 69,
          "metadata": {},
          "output_type": "execute_result"
        }
      ],
      "source": [
        "singularities(f, x)\n"
      ]
    },
    {
      "cell_type": "markdown",
      "metadata": {
        "id": "d68JHSnHdVX3"
      },
      "source": [
        "###### 2. Область значений"
      ]
    },
    {
      "cell_type": "code",
      "execution_count": null,
      "metadata": {
        "id": "2kzmvBCVdVX5",
        "outputId": "b91ecd90-fc52-4955-e1fe-c017852f714c"
      },
      "outputs": [
        {
          "data": {
            "text/latex": [
              "$\\displaystyle \\left(-\\infty, - \\frac{\\sqrt{2}}{2}\\right] \\cup \\left[\\frac{\\sqrt{2}}{2}, \\infty\\right)$"
            ],
            "text/plain": [
              "Union(Interval(-oo, -sqrt(2)/2), Interval(sqrt(2)/2, oo))"
            ]
          },
          "execution_count": 70,
          "metadata": {},
          "output_type": "execute_result"
        }
      ],
      "source": [
        "function_range(f, x, S.Reals)"
      ]
    },
    {
      "cell_type": "markdown",
      "metadata": {
        "id": "2RhR-NF7dVX5"
      },
      "source": [
        "###### 3. Периодичность"
      ]
    },
    {
      "cell_type": "code",
      "execution_count": null,
      "metadata": {
        "id": "byfQU--tdVX5",
        "outputId": "557517d2-2c68-4476-f35d-e28781173236"
      },
      "outputs": [
        {
          "data": {
            "text/latex": [
              "$\\displaystyle 2 \\pi$"
            ],
            "text/plain": [
              "2*pi"
            ]
          },
          "execution_count": 71,
          "metadata": {},
          "output_type": "execute_result"
        }
      ],
      "source": [
        "periodicity(f, x, check=False)"
      ]
    },
    {
      "cell_type": "markdown",
      "metadata": {
        "id": "IIKvH8dIdVX6"
      },
      "source": [
        "###### 4. Стационарные точки"
      ]
    },
    {
      "cell_type": "code",
      "execution_count": null,
      "metadata": {
        "id": "Nk7FdIX0dVX6",
        "outputId": "4f91dade-552c-47f4-a90f-8f19fe6922ee"
      },
      "outputs": [
        {
          "data": {
            "text/latex": [
              "$\\displaystyle \\left(\\left\\{2 n \\pi + \\frac{5 \\pi}{4}\\; |\\; n \\in \\mathbb{Z}\\right\\} \\setminus \\left(\\left\\{2 n \\pi + \\frac{3 \\pi}{4}\\; |\\; n \\in \\mathbb{Z}\\right\\} \\cup \\left\\{2 n \\pi + \\frac{7 \\pi}{4}\\; |\\; n \\in \\mathbb{Z}\\right\\}\\right)\\right) \\cup \\left(\\left\\{2 n \\pi + \\frac{\\pi}{4}\\; |\\; n \\in \\mathbb{Z}\\right\\} \\setminus \\left(\\left\\{2 n \\pi + \\frac{3 \\pi}{4}\\; |\\; n \\in \\mathbb{Z}\\right\\} \\cup \\left\\{2 n \\pi + \\frac{7 \\pi}{4}\\; |\\; n \\in \\mathbb{Z}\\right\\}\\right)\\right)$"
            ],
            "text/plain": [
              "Union(Complement(ImageSet(Lambda(_n, 2*_n*pi + 5*pi/4), Integers), Union(ImageSet(Lambda(_n, 2*_n*pi + 3*pi/4), Integers), ImageSet(Lambda(_n, 2*_n*pi + 7*pi/4), Integers))), Complement(ImageSet(Lambda(_n, 2*_n*pi + pi/4), Integers), Union(ImageSet(Lambda(_n, 2*_n*pi + 3*pi/4), Integers), ImageSet(Lambda(_n, 2*_n*pi + 7*pi/4), Integers))))"
            ]
          },
          "execution_count": 72,
          "metadata": {},
          "output_type": "execute_result"
        }
      ],
      "source": [
        "stationary_points(f, x)"
      ]
    },
    {
      "cell_type": "markdown",
      "metadata": {
        "id": "VuNHNJEKdVX6"
      },
      "source": [
        "###### 5. Максимальное и минимальное значения функции"
      ]
    },
    {
      "cell_type": "code",
      "execution_count": null,
      "metadata": {
        "id": "6qBgms2AdVX6",
        "outputId": "750f5990-ceda-4c93-9130-05af631bdcbb"
      },
      "outputs": [
        {
          "data": {
            "text/latex": [
              "$\\displaystyle \\infty$"
            ],
            "text/plain": [
              "oo"
            ]
          },
          "metadata": {},
          "output_type": "display_data"
        },
        {
          "data": {
            "text/latex": [
              "$\\displaystyle -\\infty$"
            ],
            "text/plain": [
              "-oo"
            ]
          },
          "metadata": {},
          "output_type": "display_data"
        }
      ],
      "source": [
        "display(maximum(f, x), minimum(f, x))"
      ]
    },
    {
      "cell_type": "markdown",
      "metadata": {
        "id": "VqRTgMlQdVX7"
      },
      "source": [
        "##### Исследование периодической функции на одном периоде.\n",
        "Найти пересечение с периодом области определения, множества сингулярных точек и стационарных точек.\n",
        "###### 1. Область определения"
      ]
    },
    {
      "cell_type": "code",
      "execution_count": null,
      "metadata": {
        "id": "9sJpYJpcdVX7",
        "outputId": "46bd195c-ab0b-449a-8cce-253393e193ab"
      },
      "outputs": [
        {
          "data": {
            "text/latex": [
              "$\\displaystyle \\left[0, \\frac{3 \\pi}{4}\\right) \\cup \\left(\\frac{3 \\pi}{4}, \\frac{7 \\pi}{4}\\right) \\cup \\left(\\frac{7 \\pi}{4}, 2 \\pi\\right]$"
            ],
            "text/plain": [
              "Union(Interval.Ropen(0, 3*pi/4), Interval.open(3*pi/4, 7*pi/4), Interval.Lopen(7*pi/4, 2*pi))"
            ]
          },
          "execution_count": 74,
          "metadata": {},
          "output_type": "execute_result"
        }
      ],
      "source": [
        "period_pi = Interval(0, 2 * Pi)\n",
        "continuous_domain(f, x, period_pi)"
      ]
    },
    {
      "cell_type": "markdown",
      "metadata": {
        "id": "0r2knuZZdVX7"
      },
      "source": [
        "Сингулярные точки (точки, где функция не определена)"
      ]
    },
    {
      "cell_type": "code",
      "execution_count": null,
      "metadata": {
        "id": "IAV8LVYOdVX7",
        "outputId": "5329ee4e-cc3d-4601-8b85-d72bbe411512"
      },
      "outputs": [
        {
          "data": {
            "text/latex": [
              "$\\displaystyle \\left\\{\\frac{3 \\pi}{4}, \\frac{7 \\pi}{4}\\right\\}$"
            ],
            "text/plain": [
              "FiniteSet(3*pi/4, 7*pi/4)"
            ]
          },
          "execution_count": 75,
          "metadata": {},
          "output_type": "execute_result"
        }
      ],
      "source": [
        "singularities(f, x, period_pi)"
      ]
    },
    {
      "cell_type": "markdown",
      "metadata": {
        "id": "QxbMYbLhdVX7"
      },
      "source": [
        "###### 2. Область значений"
      ]
    },
    {
      "cell_type": "code",
      "execution_count": null,
      "metadata": {
        "id": "p9pMdTLZdVX8",
        "outputId": "c58498e7-6aa3-4bd7-e0a7-9138d399c371"
      },
      "outputs": [
        {
          "data": {
            "text/latex": [
              "$\\displaystyle \\left(-\\infty, - \\frac{\\sqrt{2}}{2}\\right] \\cup \\left[\\frac{\\sqrt{2}}{2}, \\infty\\right)$"
            ],
            "text/plain": [
              "Union(Interval(-oo, -sqrt(2)/2), Interval(sqrt(2)/2, oo))"
            ]
          },
          "execution_count": 76,
          "metadata": {},
          "output_type": "execute_result"
        }
      ],
      "source": [
        "function_range(f, x, period_pi)"
      ]
    },
    {
      "cell_type": "markdown",
      "metadata": {
        "id": "ftDnOTKjdVX8"
      },
      "source": [
        "###### 4. Стационарные точки"
      ]
    },
    {
      "cell_type": "code",
      "execution_count": null,
      "metadata": {
        "id": "xifuQQEUdVX8",
        "outputId": "dcc6f583-f3f7-4aec-c204-04e638d20994"
      },
      "outputs": [
        {
          "data": {
            "text/latex": [
              "$\\displaystyle \\left\\{\\frac{\\pi}{4}, \\frac{5 \\pi}{4}\\right\\}$"
            ],
            "text/plain": [
              "FiniteSet(pi/4, 5*pi/4)"
            ]
          },
          "execution_count": 77,
          "metadata": {},
          "output_type": "execute_result"
        }
      ],
      "source": [
        "stationary_points(f, x, period_pi)"
      ]
    },
    {
      "cell_type": "markdown",
      "metadata": {
        "id": "twrYmNABdVX8"
      },
      "source": [
        "###### 5. Максимальное и минимальное значения функции"
      ]
    },
    {
      "cell_type": "code",
      "execution_count": null,
      "metadata": {
        "id": "8USIpYjAdVX9",
        "outputId": "6f283fe1-2897-490e-cb86-482981f4b2e2"
      },
      "outputs": [
        {
          "data": {
            "text/latex": [
              "$\\displaystyle \\infty$"
            ],
            "text/plain": [
              "oo"
            ]
          },
          "metadata": {},
          "output_type": "display_data"
        },
        {
          "data": {
            "text/latex": [
              "$\\displaystyle -\\infty$"
            ],
            "text/plain": [
              "-oo"
            ]
          },
          "metadata": {},
          "output_type": "display_data"
        }
      ],
      "source": [
        "display(maximum(f, x, period_pi), minimum(f, x, period_pi))"
      ]
    },
    {
      "cell_type": "markdown",
      "metadata": {
        "id": "ryfUmV7FdVX9"
      },
      "source": [
        "###### 6. Монотонность"
      ]
    },
    {
      "cell_type": "code",
      "execution_count": null,
      "metadata": {
        "id": "8YvRb2DLdVX9",
        "outputId": "d5943188-11ee-45e6-b65a-e7283f347963"
      },
      "outputs": [
        {
          "data": {
            "text/latex": [
              "$\\displaystyle \\left(\\frac{\\pi}{4}, \\frac{\\pi}{2}\\right)$"
            ],
            "text/plain": [
              "Interval.open(pi/4, pi/2)"
            ]
          },
          "metadata": {},
          "output_type": "display_data"
        },
        {
          "name": "stdout",
          "output_type": "stream",
          "text": [
            "True False True False True\n"
          ]
        },
        {
          "data": {
            "text/latex": [
              "$\\displaystyle \\left(\\frac{\\pi}{2}, \\frac{3 \\pi}{4}\\right)$"
            ],
            "text/plain": [
              "Interval.open(pi/2, 3*pi/4)"
            ]
          },
          "metadata": {},
          "output_type": "display_data"
        },
        {
          "name": "stdout",
          "output_type": "stream",
          "text": [
            "True False True False True\n"
          ]
        },
        {
          "data": {
            "text/latex": [
              "$\\displaystyle \\left(\\frac{3 \\pi}{4}, \\pi\\right)$"
            ],
            "text/plain": [
              "Interval.open(3*pi/4, pi)"
            ]
          },
          "metadata": {},
          "output_type": "display_data"
        },
        {
          "name": "stdout",
          "output_type": "stream",
          "text": [
            "True False True False True\n"
          ]
        },
        {
          "data": {
            "text/latex": [
              "$\\displaystyle \\left(\\pi, \\frac{5 \\pi}{4}\\right)$"
            ],
            "text/plain": [
              "Interval.open(pi, 5*pi/4)"
            ]
          },
          "metadata": {},
          "output_type": "display_data"
        },
        {
          "name": "stdout",
          "output_type": "stream",
          "text": [
            "True False True False True\n"
          ]
        }
      ],
      "source": [
        "intervals = [Interval.open(Pi / 4 + k * Pi / 4, Pi / 4 + (k + 1) * Pi / 4) for k in range(4)]\n",
        "for interval in intervals:\n",
        "    display(interval)\n",
        "    print(is_monotonic(f, interval=interval),\n",
        "    is_decreasing(f, interval=interval), is_increasing(f, interval=interval),\n",
        "    is_strictly_decreasing(f, interval=interval), is_strictly_increasing(f, interval=interval))"
      ]
    },
    {
      "cell_type": "markdown",
      "metadata": {
        "id": "bRLBnjg0dVX9"
      },
      "source": [
        "###### 7. Минимальное и максимальное значение функции на периоде"
      ]
    },
    {
      "cell_type": "code",
      "execution_count": null,
      "metadata": {
        "id": "cCoJT5qbdVX-",
        "outputId": "c5186638-c529-4f59-a1f6-6383b311f44c"
      },
      "outputs": [
        {
          "data": {
            "text/latex": [
              "$\\displaystyle \\left(\\frac{\\pi}{4}, \\frac{\\pi}{2}\\right)$"
            ],
            "text/plain": [
              "Interval.open(pi/4, pi/2)"
            ]
          },
          "metadata": {},
          "output_type": "display_data"
        },
        {
          "data": {
            "text/latex": [
              "$\\displaystyle \\left\\langle \\frac{1}{\\frac{\\sqrt{2}}{2} + 1}, \\sqrt{2}\\right\\rangle$"
            ],
            "text/plain": [
              "AccumBounds(1/(sqrt(2)/2 + 1), sqrt(2))"
            ]
          },
          "metadata": {},
          "output_type": "display_data"
        },
        {
          "data": {
            "text/latex": [
              "$\\displaystyle \\sqrt{2}$"
            ],
            "text/plain": [
              "sqrt(2)"
            ]
          },
          "metadata": {},
          "output_type": "display_data"
        },
        {
          "data": {
            "text/latex": [
              "$\\displaystyle \\frac{1}{\\frac{\\sqrt{2}}{2} + 1}$"
            ],
            "text/plain": [
              "1/(sqrt(2)/2 + 1)"
            ]
          },
          "metadata": {},
          "output_type": "display_data"
        },
        {
          "data": {
            "text/latex": [
              "$\\displaystyle - \\frac{1}{\\frac{\\sqrt{2}}{2} + 1} + \\sqrt{2}$"
            ],
            "text/plain": [
              "-1/(sqrt(2)/2 + 1) + sqrt(2)"
            ]
          },
          "metadata": {},
          "output_type": "display_data"
        },
        {
          "data": {
            "text/latex": [
              "$\\displaystyle \\frac{1}{2 \\left(\\frac{\\sqrt{2}}{2} + 1\\right)} + \\frac{\\sqrt{2}}{2}$"
            ],
            "text/plain": [
              "1/(2*(sqrt(2)/2 + 1)) + sqrt(2)/2"
            ]
          },
          "metadata": {},
          "output_type": "display_data"
        },
        {
          "data": {
            "text/latex": [
              "$\\displaystyle \\left(\\frac{\\pi}{2}, \\frac{3 \\pi}{4}\\right)$"
            ],
            "text/plain": [
              "Interval.open(pi/2, 3*pi/4)"
            ]
          },
          "metadata": {},
          "output_type": "display_data"
        },
        {
          "data": {
            "text/latex": [
              "$\\displaystyle \\left\\langle 1, \\infty\\right\\rangle$"
            ],
            "text/plain": [
              "AccumBounds(1, oo)"
            ]
          },
          "metadata": {},
          "output_type": "display_data"
        },
        {
          "data": {
            "text/latex": [
              "$\\displaystyle \\infty$"
            ],
            "text/plain": [
              "oo"
            ]
          },
          "metadata": {},
          "output_type": "display_data"
        },
        {
          "data": {
            "text/latex": [
              "$\\displaystyle 1$"
            ],
            "text/plain": [
              "1"
            ]
          },
          "metadata": {},
          "output_type": "display_data"
        },
        {
          "data": {
            "text/latex": [
              "$\\displaystyle \\infty$"
            ],
            "text/plain": [
              "oo"
            ]
          },
          "metadata": {},
          "output_type": "display_data"
        },
        {
          "data": {
            "text/latex": [
              "$\\displaystyle \\infty$"
            ],
            "text/plain": [
              "oo"
            ]
          },
          "metadata": {},
          "output_type": "display_data"
        },
        {
          "data": {
            "text/latex": [
              "$\\displaystyle \\left(\\frac{3 \\pi}{4}, \\pi\\right)$"
            ],
            "text/plain": [
              "Interval.open(3*pi/4, pi)"
            ]
          },
          "metadata": {},
          "output_type": "display_data"
        },
        {
          "data": {
            "text/latex": [
              "$\\displaystyle \\left\\langle -\\infty, -1\\right\\rangle$"
            ],
            "text/plain": [
              "AccumBounds(-oo, -1)"
            ]
          },
          "metadata": {},
          "output_type": "display_data"
        },
        {
          "data": {
            "text/latex": [
              "$\\displaystyle -1$"
            ],
            "text/plain": [
              "-1"
            ]
          },
          "metadata": {},
          "output_type": "display_data"
        },
        {
          "data": {
            "text/latex": [
              "$\\displaystyle -\\infty$"
            ],
            "text/plain": [
              "-oo"
            ]
          },
          "metadata": {},
          "output_type": "display_data"
        },
        {
          "data": {
            "text/latex": [
              "$\\displaystyle \\infty$"
            ],
            "text/plain": [
              "oo"
            ]
          },
          "metadata": {},
          "output_type": "display_data"
        },
        {
          "data": {
            "text/latex": [
              "$\\displaystyle -\\infty$"
            ],
            "text/plain": [
              "-oo"
            ]
          },
          "metadata": {},
          "output_type": "display_data"
        },
        {
          "data": {
            "text/latex": [
              "$\\displaystyle \\left(\\pi, \\frac{5 \\pi}{4}\\right)$"
            ],
            "text/plain": [
              "Interval.open(pi, 5*pi/4)"
            ]
          },
          "metadata": {},
          "output_type": "display_data"
        },
        {
          "data": {
            "text/latex": [
              "$\\displaystyle \\left\\langle - \\sqrt{2}, \\frac{1}{-1 - \\frac{\\sqrt{2}}{2}}\\right\\rangle$"
            ],
            "text/plain": [
              "AccumBounds(-sqrt(2), 1/(-1 - sqrt(2)/2))"
            ]
          },
          "metadata": {},
          "output_type": "display_data"
        },
        {
          "data": {
            "text/latex": [
              "$\\displaystyle \\frac{1}{-1 - \\frac{\\sqrt{2}}{2}}$"
            ],
            "text/plain": [
              "1/(-1 - sqrt(2)/2)"
            ]
          },
          "metadata": {},
          "output_type": "display_data"
        },
        {
          "data": {
            "text/latex": [
              "$\\displaystyle - \\sqrt{2}$"
            ],
            "text/plain": [
              "-sqrt(2)"
            ]
          },
          "metadata": {},
          "output_type": "display_data"
        },
        {
          "data": {
            "text/latex": [
              "$\\displaystyle \\frac{1}{-1 - \\frac{\\sqrt{2}}{2}} + \\sqrt{2}$"
            ],
            "text/plain": [
              "1/(-1 - sqrt(2)/2) + sqrt(2)"
            ]
          },
          "metadata": {},
          "output_type": "display_data"
        },
        {
          "data": {
            "text/latex": [
              "$\\displaystyle - \\frac{\\sqrt{2}}{2} + \\frac{1}{2 \\left(-1 - \\frac{\\sqrt{2}}{2}\\right)}$"
            ],
            "text/plain": [
              "-sqrt(2)/2 + 1/(2*(-1 - sqrt(2)/2))"
            ]
          },
          "metadata": {},
          "output_type": "display_data"
        }
      ],
      "source": [
        "right = Pi / 4\n",
        "for k in range(4):\n",
        "    left = right\n",
        "    right = left + Pi / 4\n",
        "    display(Interval.open(left, right))\n",
        "    f_AccB = f.subs(x, AccumBounds(left, right))\n",
        "    display(f_AccB, f_AccB.max, f_AccB.min, f_AccB.delta, f_AccB.mid)"
      ]
    },
    {
      "cell_type": "markdown",
      "metadata": {
        "id": "spcQVfkjdVX-"
      },
      "source": [
        "###### График"
      ]
    },
    {
      "cell_type": "code",
      "execution_count": null,
      "metadata": {
        "id": "plsA9FmQdVX-",
        "outputId": "2de395ee-e32c-4f94-9c2d-6b0de29b857c"
      },
      "outputs": [
        {
          "data": {
            "image/png": "[encoded data removed]",
            "text/plain": [
              "<Figure size 432x288 with 1 Axes>"
            ]
          },
          "metadata": {
            "needs_background": "light"
          },
          "output_type": "display_data"
        },
        {
          "data": {
            "text/plain": [
              "<sympy.plotting.plot.Plot at 0x7f09e691ce10>"
            ]
          },
          "execution_count": 81,
          "metadata": {},
          "output_type": "execute_result"
        }
      ],
      "source": [
        "plot((f, (x, 0, 3 * Pi / 4 - 0.1)), (f, (x, 3 * Pi / 4 + 0.1, 7 * Pi / 4 - 0.1)), (f, (x, 7 * Pi / 4 + 0.1, Pi * 2)))"
      ]
    },
    {
      "cell_type": "markdown",
      "metadata": {
        "id": "3aBuBsxDdVX-"
      },
      "source": [
        "### Индивидуальное задание.  \n",
        "Исследовать функцию $f(x) = 3 \\sqrt{4 - 5 \\sin{\\left(x \\right)}}$, найти минимальное и максимальное значение на каком-нибудь конечном интервале, не содержащем точек разрыва, построить график.\n",
        "###### 1. Область определения"
      ]
    },
    {
      "cell_type": "code",
      "execution_count": null,
      "metadata": {
        "id": "N92MlvRKdVX_",
        "outputId": "dde598eb-0ae8-4fd5-f464-1ff8b278a552"
      },
      "outputs": [
        {
          "data": {
            "text/latex": [
              "$\\displaystyle \\left[0, \\operatorname{atan}{\\left(\\frac{4}{3} \\right)}\\right] \\cup \\left[\\pi - \\operatorname{atan}{\\left(\\frac{4}{3} \\right)}, 2 \\pi\\right)$"
            ],
            "text/plain": [
              "Union(Interval(0, atan(4/3)), Interval.Ropen(pi - atan(4/3), 2*pi))"
            ]
          },
          "execution_count": 94,
          "metadata": {},
          "output_type": "execute_result"
        }
      ],
      "source": [
        "f = 3 * sympy.sqrt((4 - 5 * sympy.sin(x)))\n",
        "D = continuous_domain(f, x, S.Reals)\n",
        "D"
      ]
    },
    {
      "cell_type": "markdown",
      "metadata": {
        "id": "BYg4DAkOdVX_"
      },
      "source": [
        "Сингулярные точки (точки, где функция не определена)"
      ]
    },
    {
      "cell_type": "code",
      "execution_count": null,
      "metadata": {
        "id": "aTpueWw-dVX_",
        "outputId": "cd5e341c-4b09-4966-c2ff-5ee58c5489e6"
      },
      "outputs": [
        {
          "data": {
            "text/latex": [
              "$\\displaystyle \\emptyset$"
            ],
            "text/plain": [
              "EmptySet"
            ]
          },
          "execution_count": 95,
          "metadata": {},
          "output_type": "execute_result"
        }
      ],
      "source": [
        "singularities(f, x)"
      ]
    },
    {
      "cell_type": "markdown",
      "metadata": {
        "id": "MTwAx4yKdVX_"
      },
      "source": [
        "###### 2. Область значений"
      ]
    },
    {
      "cell_type": "code",
      "execution_count": null,
      "metadata": {
        "id": "wShu7nFNdVYA",
        "outputId": "4fc32c23-58cd-4369-8a5c-f17ebcf0a6b4"
      },
      "outputs": [
        {
          "data": {
            "text/latex": [
              "$\\displaystyle \\left[0, 9\\right]$"
            ],
            "text/plain": [
              "Interval(0, 9)"
            ]
          },
          "execution_count": 96,
          "metadata": {},
          "output_type": "execute_result"
        }
      ],
      "source": [
        "function_range(f, x, D)"
      ]
    },
    {
      "cell_type": "markdown",
      "metadata": {
        "id": "jNPvYWmwdVYA"
      },
      "source": [
        "###### 3. Периодичность"
      ]
    },
    {
      "cell_type": "code",
      "execution_count": null,
      "metadata": {
        "id": "JsfgjFosdVYA",
        "outputId": "c564766f-8f51-4d30-8466-c545a9dd4663"
      },
      "outputs": [
        {
          "data": {
            "text/latex": [
              "$\\displaystyle 2 \\pi$"
            ],
            "text/plain": [
              "2*pi"
            ]
          },
          "execution_count": 97,
          "metadata": {},
          "output_type": "execute_result"
        }
      ],
      "source": [
        "periodicity(f, x, check=False)"
      ]
    },
    {
      "cell_type": "markdown",
      "metadata": {
        "id": "MT3F1MSrdVYA"
      },
      "source": [
        "###### 4. Стационарные точки"
      ]
    },
    {
      "cell_type": "code",
      "execution_count": null,
      "metadata": {
        "id": "vjxPxH34dVYA",
        "outputId": "b74b3cda-08c9-498f-e794-5ffdd52a7eae"
      },
      "outputs": [
        {
          "data": {
            "text/latex": [
              "$\\displaystyle \\left\\{\\frac{3 \\pi}{2}\\right\\}$"
            ],
            "text/plain": [
              "FiniteSet(3*pi/2)"
            ]
          },
          "execution_count": 98,
          "metadata": {},
          "output_type": "execute_result"
        }
      ],
      "source": [
        "stationary_points(f, x)"
      ]
    },
    {
      "cell_type": "markdown",
      "metadata": {
        "id": "OM4XM4D2dVYB"
      },
      "source": [
        "###### 5. Максимальное и минимальное значения функции"
      ]
    },
    {
      "cell_type": "code",
      "execution_count": null,
      "metadata": {
        "id": "C8ILwWHVdVYB",
        "outputId": "668c9079-fbdf-43f7-e44e-69c4bddcf9d0"
      },
      "outputs": [
        {
          "data": {
            "text/latex": [
              "$\\displaystyle 9$"
            ],
            "text/plain": [
              "9"
            ]
          },
          "metadata": {},
          "output_type": "display_data"
        },
        {
          "data": {
            "text/latex": [
              "$\\displaystyle 0$"
            ],
            "text/plain": [
              "0"
            ]
          },
          "metadata": {},
          "output_type": "display_data"
        }
      ],
      "source": [
        "display(maximum(f, x), minimum(f, x))"
      ]
    },
    {
      "cell_type": "markdown",
      "metadata": {
        "id": "nvy8HmZGdVYB"
      },
      "source": [
        "###### 6. Монотонность  "
      ]
    },
    {
      "cell_type": "code",
      "execution_count": null,
      "metadata": {
        "id": "YA_sA19PdVYB"
      },
      "outputs": [],
      "source": [
        "import sys\n",
        "\n",
        "\n",
        "sys.setrecursionlimit(100000)\n",
        "display(is_decreasing(f, D),\n",
        "is_increasing(f, D),\n",
        "is_monotonic(f, D),\n",
        "is_strictly_decreasing(f, D),\n",
        "is_strictly_increasing(f, D))"
      ]
    },
    {
      "cell_type": "markdown",
      "metadata": {
        "id": "bRAUpp0zdVYC"
      },
      "source": [
        "###### 7. Минимальное и максимальное значение функции на интервале "
      ]
    },
    {
      "cell_type": "code",
      "execution_count": null,
      "metadata": {
        "id": "d56sYBl_dVYC",
        "outputId": "f8bb66f0-f52d-4ec3-c148-9903e07b3faa"
      },
      "outputs": [
        {
          "data": {
            "text/latex": [
              "$\\displaystyle \\left\\langle 6.32202727663411 \\cdot 10^{-8}, 6\\right\\rangle$"
            ],
            "text/plain": [
              "AccumBounds(6.32202727663411e-8, 6)"
            ]
          },
          "metadata": {},
          "output_type": "display_data"
        },
        {
          "data": {
            "text/latex": [
              "$\\displaystyle 6$"
            ],
            "text/plain": [
              "6"
            ]
          },
          "metadata": {},
          "output_type": "display_data"
        },
        {
          "data": {
            "text/latex": [
              "$\\displaystyle 6.32202727663411 \\cdot 10^{-8}$"
            ],
            "text/plain": [
              "6.32202727663411e-8"
            ]
          },
          "metadata": {},
          "output_type": "display_data"
        },
        {
          "data": {
            "text/latex": [
              "$\\displaystyle 5.99999993677973$"
            ],
            "text/plain": [
              "5.99999993677973"
            ]
          },
          "metadata": {},
          "output_type": "display_data"
        },
        {
          "data": {
            "text/latex": [
              "$\\displaystyle 3.00000003161014$"
            ],
            "text/plain": [
              "3.00000003161014"
            ]
          },
          "metadata": {},
          "output_type": "display_data"
        }
      ],
      "source": [
        "f_AccB = f.subs(x, AccumBounds(0, sympy.atan(4 / 3)))\n",
        "display(f_AccB, f_AccB.max, f_AccB.min, f_AccB.delta, f_AccB.mid)"
      ]
    },
    {
      "cell_type": "markdown",
      "metadata": {
        "id": "0RxcAw7ZdVYC"
      },
      "source": [
        "###### График"
      ]
    },
    {
      "cell_type": "code",
      "execution_count": null,
      "metadata": {
        "id": "WQBk5k4KdVYC",
        "outputId": "3c6e6812-9e73-44db-c620-991d74bce0f7"
      },
      "outputs": [
        {
          "data": {
            "image/png": "[encoded data removed]",
            "text/plain": [
              "<Figure size 432x288 with 1 Axes>"
            ]
          },
          "metadata": {
            "needs_background": "light"
          },
          "output_type": "display_data"
        },
        {
          "data": {
            "text/plain": [
              "(<sympy.plotting.plot.Plot at 0x7f0a34b4a780>,\n",
              " (3*sqrt(4 - 5*sin(x)), (x, -0.927295218001612 + pi, -0.1 + 2*pi)))"
            ]
          },
          "execution_count": 105,
          "metadata": {},
          "output_type": "execute_result"
        }
      ],
      "source": [
        "plot((f, (x, 0, sympy.atan(4 / 3)))), (f, (x, Pi - sympy.atan(4 / 3), 2 * Pi - 0.1))"
      ]
    }
  ],
  "metadata": {
    "kernelspec": {
      "display_name": "Python 3",
      "language": "python",
      "name": "python3"
    },
    "language_info": {
      "codemirror_mode": {
        "name": "ipython",
        "version": 3
      },
      "file_extension": ".py",
      "mimetype": "text/x-python",
      "name": "python",
      "nbconvert_exporter": "python",
      "pygments_lexer": "ipython3",
      "version": "3.6.11"
    },
    "colab": {
      "provenance": []
    }
  },
  "nbformat": 4,
  "nbformat_minor": 0
}