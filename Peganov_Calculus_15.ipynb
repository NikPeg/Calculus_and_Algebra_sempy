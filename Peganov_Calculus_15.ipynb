{
  "nbformat": 4,
  "nbformat_minor": 0,
  "metadata": {
    "kernelspec": {
      "display_name": "Python 3",
      "language": "python",
      "name": "python3"
    },
    "language_info": {
      "codemirror_mode": {
        "name": "ipython",
        "version": 3
      },
      "file_extension": ".py",
      "mimetype": "text/x-python",
      "name": "python",
      "nbconvert_exporter": "python",
      "pygments_lexer": "ipython3",
      "version": "3.7.3"
    },
    "colab": {
      "provenance": []
    }
  },
  "cells": [
    {
      "cell_type": "code",
      "metadata": {
        "id": "rMXoibKlaICS"
      },
      "source": [
        "import sympy\n",
        "from sympy import S, Symbol, symbols, simplify, nonlinsolve, Matrix, diff\n",
        "from sympy import factor, sqrt"
      ],
      "execution_count": null,
      "outputs": []
    },
    {
      "cell_type": "markdown",
      "metadata": {
        "id": "yDM8E-QnaICU"
      },
      "source": [
        "## Занятие 15\n",
        "## Математический анализ\n",
        "## Экстремум функции нескольких переменных \n",
        "### Задание 1\n",
        "Найти точки экстремума:\n",
        "\n",
        "1) $z = x^2 + xy + y^2 - 2x - y$\n",
        "\n",
        "2) $z = x^3y^2(6 - x - y)$, $(x, y > 0)$\n",
        "\n",
        "3) $z = \\frac{8}{x} + \\frac{x}{y} + y$\n",
        "\n",
        "4) $z = \\frac{1 + x - y}{\\sqrt{1 + x^2 + y^2}}$\n",
        "###### Указание.\n",
        "Вначале найти стационарные точки. Составить определитель из вторых производных в произвольной точке. Подставляя найденные (вещественные) стационарные точки, решить вопрос о наличии экстремума."
      ]
    },
    {
      "cell_type": "markdown",
      "metadata": {
        "id": "gm2sS9uNaT-B"
      },
      "source": [
        "1)"
      ]
    },
    {
      "cell_type": "code",
      "metadata": {
        "colab": {
          "base_uri": "https://localhost:8080/",
          "height": 37
        },
        "id": "gT8DTy2raICU",
        "outputId": "0e4facc1-7d56-4c3c-8965-b4bb55cd3f38"
      },
      "source": [
        "from sympy.abc import x, y\n",
        "z = x ** 2 + x * y + y ** 2 - 2 * x - y\n",
        "stat_points = nonlinsolve([z.diff(x), z.diff(y)], [x, y])\n",
        "stat_points"
      ],
      "execution_count": null,
      "outputs": [
        {
          "output_type": "execute_result",
          "data": {
            "text/latex": "$\\displaystyle \\left\\{\\left( 1, \\  0\\right)\\right\\}$",
            "text/plain": [
              "FiniteSet((1, 0))"
            ]
          },
          "metadata": {
            "tags": []
          },
          "execution_count": 3
        }
      ]
    },
    {
      "cell_type": "code",
      "metadata": {
        "colab": {
          "base_uri": "https://localhost:8080/",
          "height": 37
        },
        "id": "6DEgHXStapVW",
        "outputId": "8d9e4f4d-00bc-453e-8b8e-bfe88e02203c"
      },
      "source": [
        "Delta = Matrix([[z.diff(x, 2), z.diff(x, y)], [z.diff(x, y), z.diff(y, 2)]]).det()\n",
        "x0, y0 = tuple(*stat_points)\n",
        "Delta.subs({x: x0, y: y0})"
      ],
      "execution_count": null,
      "outputs": [
        {
          "output_type": "execute_result",
          "data": {
            "text/latex": "$\\displaystyle 3$",
            "text/plain": [
              "3"
            ]
          },
          "metadata": {
            "tags": []
          },
          "execution_count": 5
        }
      ]
    },
    {
      "cell_type": "markdown",
      "metadata": {
        "id": "ny0mzXKTa0rf"
      },
      "source": [
        "=> экстремум существует\\\n",
        "2)"
      ]
    },
    {
      "cell_type": "code",
      "metadata": {
        "colab": {
          "base_uri": "https://localhost:8080/",
          "height": 38
        },
        "id": "LeLpecS0bAWP",
        "outputId": "d3dcc872-5d13-4e62-92a2-1bf377ac60f0"
      },
      "source": [
        "x = Symbol('x', positive=True)\n",
        "y = Symbol('y', positive=True)\n",
        "z = x ** 3 * y ** 2 * (6 - x - y)\n",
        "stat_points = nonlinsolve([z.diff(x), z.diff(y)], [x, y])\n",
        "stat_points"
      ],
      "execution_count": null,
      "outputs": [
        {
          "output_type": "execute_result",
          "data": {
            "text/latex": "$\\displaystyle \\left\\{\\left( 0, \\  y\\right), \\left( x, \\  0\\right)\\right\\}$",
            "text/plain": [
              "FiniteSet((0, y), (x, 0))"
            ]
          },
          "metadata": {
            "tags": []
          },
          "execution_count": 27
        }
      ]
    },
    {
      "cell_type": "code",
      "metadata": {
        "colab": {
          "base_uri": "https://localhost:8080/",
          "height": 97
        },
        "id": "3_z-IzlQbkRz",
        "outputId": "4fcc6ca7-28b9-4eee-b52f-d9c0fb38a6f5"
      },
      "source": [
        "for sp in stat_points:\n",
        "  Delta = Matrix([[z.diff(x, 2), z.diff(x, y)], [z.diff(x, y), z.diff(y, 2)]]).det()\n",
        "  x0, y0 = tuple(sp)\n",
        "  display(Delta.subs({x: x0, y: y0}).simplify())\n",
        "  display(Delta.subs({x: x0, y: y0}).simplify() > 0)"
      ],
      "execution_count": null,
      "outputs": [
        {
          "output_type": "display_data",
          "data": {
            "text/latex": "$\\displaystyle 0$",
            "text/plain": [
              "0"
            ]
          },
          "metadata": {
            "tags": []
          }
        },
        {
          "output_type": "display_data",
          "data": {
            "text/latex": "$\\displaystyle \\text{False}$",
            "text/plain": [
              "False"
            ]
          },
          "metadata": {
            "tags": []
          }
        },
        {
          "output_type": "display_data",
          "data": {
            "text/latex": "$\\displaystyle 0$",
            "text/plain": [
              "0"
            ]
          },
          "metadata": {
            "tags": []
          }
        },
        {
          "output_type": "display_data",
          "data": {
            "text/latex": "$\\displaystyle \\text{False}$",
            "text/plain": [
              "False"
            ]
          },
          "metadata": {
            "tags": []
          }
        }
      ]
    },
    {
      "cell_type": "markdown",
      "metadata": {
        "id": "yLGLws0Wb0Pv"
      },
      "source": [
        "$\\delta=0$: необходимо дальнейшее исследование\\\n",
        "3)"
      ]
    },
    {
      "cell_type": "code",
      "metadata": {
        "colab": {
          "base_uri": "https://localhost:8080/",
          "height": 57
        },
        "id": "SqT24GKLb1Pb",
        "outputId": "717c0478-846a-4a27-bfa0-261707c7aa4c"
      },
      "source": [
        "z = z = 8 / x + x / y + y\n",
        "stat_points = nonlinsolve([z.diff(x), z.diff(y)], [x, y])\n",
        "stat_points"
      ],
      "execution_count": null,
      "outputs": [
        {
          "output_type": "execute_result",
          "data": {
            "text/latex": "$\\displaystyle \\left\\{\\left( 4, \\  2\\right), \\left( \\left(-1 - \\sqrt{3} i\\right)^{2}, \\  -1 - \\sqrt{3} i\\right), \\left( \\left(-1 + \\sqrt{3} i\\right)^{2}, \\  -1 + \\sqrt{3} i\\right)\\right\\}$",
            "text/plain": [
              "FiniteSet((4, 2), ((-1 + sqrt(3)*I)**2, -1 + sqrt(3)*I), ((-1 - sqrt(3)*I)**2, -1 - sqrt(3)*I))"
            ]
          },
          "metadata": {
            "tags": []
          },
          "execution_count": 49
        }
      ]
    },
    {
      "cell_type": "code",
      "metadata": {
        "colab": {
          "base_uri": "https://localhost:8080/",
          "height": 54
        },
        "id": "2l5ZPwGScAVz",
        "outputId": "a40efdcb-1eab-46b3-ff64-07f1dd0f6fdd"
      },
      "source": [
        "for sp in stat_points:\n",
        "  x0, y0 = sp\n",
        "  if x0.is_real and y0.is_real:\n",
        "    Delta = Matrix([[z.diff(x, 2), z.diff(x, y)], [z.diff(x, y), z.diff(y, 2)]]).det()\n",
        "    x0, y0 = tuple(sp)\n",
        "    display(float(Delta.subs({x: x0, y: y0}).simplify()))\n",
        "    display(Delta.subs({x: x0, y: y0}).simplify() > 0)"
      ],
      "execution_count": null,
      "outputs": [
        {
          "output_type": "display_data",
          "data": {
            "text/plain": [
              "0.1875"
            ]
          },
          "metadata": {
            "tags": []
          }
        },
        {
          "output_type": "display_data",
          "data": {
            "text/latex": "$\\displaystyle \\text{True}$",
            "text/plain": [
              "True"
            ]
          },
          "metadata": {
            "tags": []
          }
        }
      ]
    },
    {
      "cell_type": "markdown",
      "metadata": {
        "id": "DCPefjk0fzxq"
      },
      "source": [
        "=> экстремум существует"
      ]
    },
    {
      "cell_type": "markdown",
      "metadata": {
        "id": "LANBe1Vecxty"
      },
      "source": [
        "4)"
      ]
    },
    {
      "cell_type": "code",
      "metadata": {
        "colab": {
          "base_uri": "https://localhost:8080/",
          "height": 37
        },
        "id": "7WiLEoNucyef",
        "outputId": "c6ab277e-0df8-4d0f-fae4-f925dc961ba4"
      },
      "source": [
        "z = (1 + x - y) / (sqrt(1 + x ** 2 + y ** 2))\n",
        "stat_points = nonlinsolve([z.diff(x), z.diff(y)], [x, y])\n",
        "stat_points"
      ],
      "execution_count": null,
      "outputs": [
        {
          "output_type": "execute_result",
          "data": {
            "text/latex": "$\\displaystyle \\left\\{\\left( 1, \\  -1\\right)\\right\\}$",
            "text/plain": [
              "FiniteSet((1, -1))"
            ]
          },
          "metadata": {
            "tags": []
          },
          "execution_count": 24
        }
      ]
    },
    {
      "cell_type": "code",
      "metadata": {
        "colab": {
          "base_uri": "https://localhost:8080/",
          "height": 51
        },
        "id": "XJWMKbvKdJ-8",
        "outputId": "da643e36-4f16-4908-f77b-60b1e70f9329"
      },
      "source": [
        "Delta = Matrix([[z.diff(x, 2), z.diff(x, y)], [z.diff(x, y), z.diff(y, 2)]]).det()\n",
        "x0, y0 = tuple(*stat_points)\n",
        "Delta.subs({x: x0, y: y0})"
      ],
      "execution_count": null,
      "outputs": [
        {
          "output_type": "execute_result",
          "data": {
            "text/latex": "$\\displaystyle \\frac{1}{9}$",
            "text/plain": [
              "1/9"
            ]
          },
          "metadata": {
            "tags": []
          },
          "execution_count": 25
        }
      ]
    },
    {
      "cell_type": "markdown",
      "metadata": {
        "id": "z8tMZfcIdL6W"
      },
      "source": [
        "=> (1, -1) — экстремум"
      ]
    },
    {
      "cell_type": "markdown",
      "metadata": {
        "id": "HPEQCe5CaICV"
      },
      "source": [
        "### Задание 2.\n",
        "С помощью метода Лагранжа найти условный экстремум функции\n",
        "$z = x + 2y$ при условии $x^2 + y^2 = 5$."
      ]
    },
    {
      "cell_type": "code",
      "metadata": {
        "id": "r-Cv3Ru3aICV",
        "colab": {
          "base_uri": "https://localhost:8080/",
          "height": 120
        },
        "outputId": "ef8ee9ff-138d-4db3-a890-6fa936336855"
      },
      "source": [
        "x, y, lam = symbols('x y lamda')# нужны символы без ограничений по знаку!\n",
        "varrs = [x, y, lam]\n",
        "z = x + 2 * y\n",
        "restriction = x ** 2 + y ** 2 - 5\n",
        "L = z + lam*restriction\n",
        "stat_points = nonlinsolve([L.diff(var) for var in varrs], varrs)\n",
        "display(stat_points, *varrs)"
      ],
      "execution_count": null,
      "outputs": [
        {
          "output_type": "display_data",
          "data": {
            "text/latex": "$\\displaystyle \\left\\{\\left( -1, \\  -2, \\  \\frac{1}{2}\\right), \\left( 1, \\  2, \\  - \\frac{1}{2}\\right)\\right\\}$",
            "text/plain": [
              "FiniteSet((-1, -2, 1/2), (1, 2, -1/2))"
            ]
          },
          "metadata": {
            "tags": []
          }
        },
        {
          "output_type": "display_data",
          "data": {
            "text/latex": "$\\displaystyle x$",
            "text/plain": [
              "x"
            ]
          },
          "metadata": {
            "tags": []
          }
        },
        {
          "output_type": "display_data",
          "data": {
            "text/latex": "$\\displaystyle y$",
            "text/plain": [
              "y"
            ]
          },
          "metadata": {
            "tags": []
          }
        },
        {
          "output_type": "display_data",
          "data": {
            "text/latex": "$\\displaystyle \\lambda$",
            "text/plain": [
              "lamda"
            ]
          },
          "metadata": {
            "tags": []
          }
        }
      ]
    },
    {
      "cell_type": "code",
      "metadata": {
        "colab": {
          "base_uri": "https://localhost:8080/",
          "height": 38
        },
        "id": "To29J7j1iLsF",
        "outputId": "6f49b248-7593-4905-ed26-a4d0b31e2bef"
      },
      "source": [
        "dx, dy, dx2, dy2 = symbols('dx dy dx^2 dy^2')\n",
        "d2L = L.diff(x, 2) * dx2 + 2 * L.diff(x, y) * dx * dy + L.diff(y, 2) * dy2\n",
        "factor(d2L)"
      ],
      "execution_count": null,
      "outputs": [
        {
          "output_type": "execute_result",
          "data": {
            "text/latex": "$\\displaystyle 2 \\lambda \\left(dx^{2} + dy^{2}\\right)$",
            "text/plain": [
              "2*lamda*(dx^2 + dy^2)"
            ]
          },
          "metadata": {
            "tags": []
          },
          "execution_count": 68
        }
      ]
    },
    {
      "cell_type": "markdown",
      "metadata": {
        "id": "rqwDf6y7m57g"
      },
      "source": [
        "Ясно, что при $\\lambda>0$ второй дифференциал положителен, при $\\lambda<0$ отрицателен, поэтому точка (-1,-2) - точка локального\n",
        "минимума, (1,2) - точка локального максимума."
      ]
    },
    {
      "cell_type": "code",
      "metadata": {
        "colab": {
          "base_uri": "https://localhost:8080/",
          "height": 99
        },
        "id": "IPUCrw3Ais5Y",
        "outputId": "1b684606-d8ff-4bdc-bc24-d2bb8fb0dba9"
      },
      "source": [
        "ff = Symbol('f')\n",
        "for point in stat_points:\n",
        " display(point[:-1], sympy.Eq(ff, z.subs({var: point[j] for j, var in enumerate(varrs)})))"
      ],
      "execution_count": null,
      "outputs": [
        {
          "output_type": "display_data",
          "data": {
            "text/latex": "$\\displaystyle \\left( -1, \\  -2\\right)$",
            "text/plain": [
              "(-1, -2)"
            ]
          },
          "metadata": {
            "tags": []
          }
        },
        {
          "output_type": "display_data",
          "data": {
            "text/latex": "$\\displaystyle f = -5$",
            "text/plain": [
              "Eq(f, -5)"
            ]
          },
          "metadata": {
            "tags": []
          }
        },
        {
          "output_type": "display_data",
          "data": {
            "text/latex": "$\\displaystyle \\left( 1, \\  2\\right)$",
            "text/plain": [
              "(1, 2)"
            ]
          },
          "metadata": {
            "tags": []
          }
        },
        {
          "output_type": "display_data",
          "data": {
            "text/latex": "$\\displaystyle f = 5$",
            "text/plain": [
              "Eq(f, 5)"
            ]
          },
          "metadata": {
            "tags": []
          }
        }
      ]
    },
    {
      "cell_type": "markdown",
      "metadata": {
        "id": "LVwt0v9QaICV"
      },
      "source": [
        "### Задание 3.\n",
        "С помощью метода Лагранжа найти условный экстремум функции\n",
        "$z=x^2+y^2$ при условии $\\frac{x}{2}+\\frac{y}{3}=1$."
      ]
    },
    {
      "cell_type": "code",
      "metadata": {
        "id": "oFfNEJeJaICV",
        "colab": {
          "base_uri": "https://localhost:8080/",
          "height": 120
        },
        "outputId": "a88bd973-7e61-4073-a988-f857aec753f2"
      },
      "source": [
        "x, y, lam = symbols('x y lamda')# нужны символы без ограничений по знаку!\n",
        "varrs = [x, y, lam]\n",
        "z = x ** 2 + y ** 2\n",
        "restriction = x / 2 + y / 3 - 1\n",
        "L = z + lam*restriction\n",
        "stat_points = nonlinsolve([L.diff(var) for var in varrs], varrs)\n",
        "display(stat_points, *varrs)"
      ],
      "execution_count": null,
      "outputs": [
        {
          "output_type": "display_data",
          "data": {
            "text/latex": "$\\displaystyle \\left\\{\\left( \\frac{18}{13}, \\  \\frac{12}{13}, \\  - \\frac{72}{13}\\right)\\right\\}$",
            "text/plain": [
              "FiniteSet((18/13, 12/13, -72/13))"
            ]
          },
          "metadata": {
            "tags": []
          }
        },
        {
          "output_type": "display_data",
          "data": {
            "text/latex": "$\\displaystyle x$",
            "text/plain": [
              "x"
            ]
          },
          "metadata": {
            "tags": []
          }
        },
        {
          "output_type": "display_data",
          "data": {
            "text/latex": "$\\displaystyle y$",
            "text/plain": [
              "y"
            ]
          },
          "metadata": {
            "tags": []
          }
        },
        {
          "output_type": "display_data",
          "data": {
            "text/latex": "$\\displaystyle \\lambda$",
            "text/plain": [
              "lamda"
            ]
          },
          "metadata": {
            "tags": []
          }
        }
      ]
    },
    {
      "cell_type": "code",
      "metadata": {
        "colab": {
          "base_uri": "https://localhost:8080/",
          "height": 38
        },
        "id": "QBTWSIbjnTE-",
        "outputId": "bd8470c2-d1f1-4ccc-b08f-8b7ac6d597d5"
      },
      "source": [
        "dx, dy, dx2, dy2 = symbols('dx dy dx^2 dy^2')\n",
        "d2L = L.diff(x, 2) * dx2 + 2 * L.diff(x, y) * dx * dy + L.diff(y, 2) * dy2\n",
        "factor(d2L)"
      ],
      "execution_count": null,
      "outputs": [
        {
          "output_type": "execute_result",
          "data": {
            "text/latex": "$\\displaystyle 2 \\left(dx^{2} + dy^{2}\\right)$",
            "text/plain": [
              "2*(dx^2 + dy^2)"
            ]
          },
          "metadata": {
            "tags": []
          },
          "execution_count": 72
        }
      ]
    },
    {
      "cell_type": "markdown",
      "metadata": {
        "id": "QtYc4id5nWeD"
      },
      "source": [
        "Ясно, что второй дифференциал положителен, поэтому точка $(\\frac{18}{13}, \\frac{12}{13})$ - точка локального\n",
        "максимума."
      ]
    },
    {
      "cell_type": "code",
      "metadata": {
        "colab": {
          "base_uri": "https://localhost:8080/",
          "height": 92
        },
        "id": "NZZMClM1nZa4",
        "outputId": "35017d23-d749-41d7-e96d-e1f0718d76bd"
      },
      "source": [
        "ff = Symbol('f')\n",
        "for point in stat_points:\n",
        " display(point[:-1], sympy.Eq(ff, z.subs({var: point[j] for j, var in enumerate(varrs)})))"
      ],
      "execution_count": null,
      "outputs": [
        {
          "output_type": "display_data",
          "data": {
            "text/latex": "$\\displaystyle \\left( \\frac{18}{13}, \\  \\frac{12}{13}\\right)$",
            "text/plain": [
              "(18/13, 12/13)"
            ]
          },
          "metadata": {
            "tags": []
          }
        },
        {
          "output_type": "display_data",
          "data": {
            "text/latex": "$\\displaystyle f = \\frac{36}{13}$",
            "text/plain": [
              "Eq(f, 36/13)"
            ]
          },
          "metadata": {
            "tags": []
          }
        }
      ]
    },
    {
      "cell_type": "markdown",
      "metadata": {
        "id": "lGeipjjMaICV"
      },
      "source": [
        "### Задание 4.\n",
        "С помощью метода Лагранжа найти экстремум функции $u = x - 2y + 2z$ при условии $x^2 + y^2 + z^2 = 9$."
      ]
    },
    {
      "cell_type": "code",
      "metadata": {
        "colab": {
          "base_uri": "https://localhost:8080/",
          "height": 78
        },
        "id": "OIohgqKioBsf",
        "outputId": "765b4a73-2961-4071-b93d-bea30c036675"
      },
      "source": [
        "x, y, z, lam = symbols('x y z lamda')\n",
        "varrs = [x, y, z, lam]\n",
        "u = x - 2 * y + 2 * z\n",
        "restriction = x ** 2 + y ** 2 + z ** 2 - 9\n",
        "L = u + lam * restriction\n",
        "stat_points = nonlinsolve([L.diff(var)for var in varrs], varrs)\n",
        "display(stat_points)\n",
        "dx, dy, dz, dx2, dy2, dz2 = symbols('dx dy dz dx^2 dy^2 dz^2')\n",
        "d2L = 0\n",
        "diffs = {x: (dx, dx2), y: (dy, dy2), z: (dz, dz2)}\n",
        "for i, var in enumerate(varrs[:-1]):\n",
        " d2L += L.diff(var, 2)*diffs[var][1]\n",
        " for j in range(i + 1, 3):\n",
        "  d2L += 2*L.diff(var, varrs[j])*diffs[var][0]*diffs[varrs[j]][0]\n",
        "display(factor(d2L))"
      ],
      "execution_count": null,
      "outputs": [
        {
          "output_type": "display_data",
          "data": {
            "text/latex": "$\\displaystyle \\left\\{\\left( -1, \\  2, \\  -2, \\  \\frac{1}{2}\\right), \\left( 1, \\  -2, \\  2, \\  - \\frac{1}{2}\\right)\\right\\}$",
            "text/plain": [
              "FiniteSet((-1, 2, -2, 1/2), (1, -2, 2, -1/2))"
            ]
          },
          "metadata": {
            "tags": []
          }
        },
        {
          "output_type": "display_data",
          "data": {
            "text/latex": "$\\displaystyle 2 \\lambda \\left(dx^{2} + dy^{2} + dz^{2}\\right)$",
            "text/plain": [
              "2*lamda*(dx^2 + dy^2 + dz^2)"
            ]
          },
          "metadata": {
            "tags": []
          }
        }
      ]
    },
    {
      "cell_type": "markdown",
      "metadata": {
        "id": "ym7WAkkgowT1"
      },
      "source": [
        "Ясно, что при $\\lambda>0$ второй дифференциал положителен, при $\\lambda<0$ отрицателен, поэтому точка $(-1,2,-2)$ - точка локального\n",
        "минимума, $(1,-2,2)$ - точка локального максимума."
      ]
    },
    {
      "cell_type": "code",
      "metadata": {
        "colab": {
          "base_uri": "https://localhost:8080/",
          "height": 99
        },
        "id": "e7KP0VnFocSN",
        "outputId": "a75734a1-a395-4660-97ab-c5d7abd7b87e"
      },
      "source": [
        "ff = Symbol('f')\n",
        "for point in stat_points:\n",
        " display(point[:-1], sympy.Eq(ff, u.subs({var: point[j] for j, var in enumerate(varrs)})))"
      ],
      "execution_count": null,
      "outputs": [
        {
          "output_type": "display_data",
          "data": {
            "text/latex": "$\\displaystyle \\left( -1, \\  2, \\  -2\\right)$",
            "text/plain": [
              "(-1, 2, -2)"
            ]
          },
          "metadata": {
            "tags": []
          }
        },
        {
          "output_type": "display_data",
          "data": {
            "text/latex": "$\\displaystyle f = -9$",
            "text/plain": [
              "Eq(f, -9)"
            ]
          },
          "metadata": {
            "tags": []
          }
        },
        {
          "output_type": "display_data",
          "data": {
            "text/latex": "$\\displaystyle \\left( 1, \\  -2, \\  2\\right)$",
            "text/plain": [
              "(1, -2, 2)"
            ]
          },
          "metadata": {
            "tags": []
          }
        },
        {
          "output_type": "display_data",
          "data": {
            "text/latex": "$\\displaystyle f = 9$",
            "text/plain": [
              "Eq(f, 9)"
            ]
          },
          "metadata": {
            "tags": []
          }
        }
      ]
    },
    {
      "cell_type": "markdown",
      "metadata": {
        "id": "-I7UVA2BaICW"
      },
      "source": [
        "### Индивидуальное задание\n",
        "Найти точки экстремума $f(x, y, z) = xy − 5xz − 4x − 5y^2 − 2yz + y − 3z^2 − 5z$."
      ]
    },
    {
      "cell_type": "code",
      "metadata": {
        "id": "gE_p1GQ3aICW",
        "colab": {
          "base_uri": "https://localhost:8080/",
          "height": 57
        },
        "outputId": "479c8010-6a0a-4c50-de26-018735232b1a"
      },
      "source": [
        "x, y, z = symbols('x y z')\n",
        "u = x * y - 5 * x * z - 4 * x - 5 * y ** 2 - 2 * y * z + y - 3 * z ** 2 - 5 * z\n",
        "stat_points = nonlinsolve([u.diff(x), u.diff(y), u.diff(z)], [x, y, z])\n",
        "display(*stat_points)"
      ],
      "execution_count": null,
      "outputs": [
        {
          "output_type": "display_data",
          "data": {
            "text/latex": "$\\displaystyle \\left( - \\frac{13}{69}, \\  \\frac{16}{69}, \\  - \\frac{52}{69}\\right)$",
            "text/plain": [
              "(-13/69, 16/69, -52/69)"
            ]
          },
          "metadata": {
            "tags": []
          }
        }
      ]
    },
    {
      "cell_type": "code",
      "metadata": {
        "colab": {
          "base_uri": "https://localhost:8080/",
          "height": 76
        },
        "id": "LPobNQU8sXW0",
        "outputId": "4988bf65-91c4-47aa-c517-46a7ac19e1ec"
      },
      "source": [
        "def Delta(u, x, y, z):\n",
        " return Matrix([[u.diff(x, 2), u.diff(x, y), u.diff(x, z)],\n",
        " [u.diff(y, x), u.diff(y, 2), u.diff(y, z)],\n",
        " [u.diff(z, x), u.diff(z, y), u.diff(z,2)],]).det()\n",
        "\n",
        "for point in stat_points:\n",
        " x0, y0, z0 = point\n",
        " if Delta(u, x, y, z).subs({x: x0, y: y0, z: z0}) > 0:\n",
        "  A = u.diff(x, 2).subs({x: x0, y: y0, z: z0})\n",
        "  B = u.diff(y, 2).subs({x: x0, y: y0, z: z0})\n",
        "  C = u.diff(z, 2).subs({x: x0, y: y0, z: z0})\n",
        "  if A > 0 or B > 0 or C > 0:\n",
        "    display('minimum', point)\n",
        "  elif A < 0 or B < 0 or C < 0:\n",
        "    display('maximum', point)"
      ],
      "execution_count": null,
      "outputs": [
        {
          "output_type": "display_data",
          "data": {
            "application/vnd.google.colaboratory.intrinsic+json": {
              "type": "string"
            },
            "text/plain": [
              "'maximum'"
            ]
          },
          "metadata": {
            "tags": []
          }
        },
        {
          "output_type": "display_data",
          "data": {
            "text/latex": "$\\displaystyle \\left( - \\frac{13}{69}, \\  \\frac{16}{69}, \\  - \\frac{52}{69}\\right)$",
            "text/plain": [
              "(-13/69, 16/69, -52/69)"
            ]
          },
          "metadata": {
            "tags": []
          }
        }
      ]
    }
  ]
}