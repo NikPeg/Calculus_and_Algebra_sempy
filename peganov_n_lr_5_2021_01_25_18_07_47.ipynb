{
  "cells": [
    {
      "cell_type": "markdown",
      "metadata": {
        "id": "WZh7-fbudUUp"
      },
      "source": [
        "## Практическое занятие 5\n",
        "## Математический анализ\n",
        "## Численное решение нелинейных уравнений: nsolve\n",
        "https://docs.sympy.org/latest/modules/solvers/solvers.html?highlight=nsolve#sympy.solvers.solvers.nsolve\n",
        "\n",
        "#### Уравнение в форме $f(x)=0$"
      ]
    },
    {
      "cell_type": "code",
      "execution_count": null,
      "metadata": {
        "id": "7bP0JfD3dUUs"
      },
      "outputs": [],
      "source": [
        "import numpy as np\n",
        "import sympy\n",
        "from sympy import nsolve\n",
        "import matplotlib.pyplot as plt\n",
        "%matplotlib inline"
      ]
    },
    {
      "cell_type": "markdown",
      "metadata": {
        "id": "nQ3cosgPdUUu"
      },
      "source": [
        "### Задача 1\n",
        "Решить уравнение $𝑥^4−e^x=0$ при $-2 \\le x \\le 2$, построить график левой части, отметить точки пересечения с осью ОХ."
      ]
    },
    {
      "cell_type": "code",
      "execution_count": null,
      "metadata": {
        "id": "Sb4F3XAmdUUv",
        "outputId": "f6740130-183e-43ed-c87d-457441dad646"
      },
      "outputs": [
        {
          "data": {
            "text/plain": [
              "(-10.0, 10.0)"
            ]
          },
          "execution_count": 6,
          "metadata": {},
          "output_type": "execute_result"
        },
        {
          "data": {
            "image/png": "[encoded data removed]",
            "text/plain": [
              "<Figure size 432x288 with 1 Axes>"
            ]
          },
          "metadata": {
            "needs_background": "light"
          },
          "output_type": "display_data"
        }
      ],
      "source": [
        "from sympy.abc import x\n",
        "X = np.linspace(-2, 2, 100)\n",
        "plt.plot(X, X**4 - sympy.E**X)\n",
        "ax = plt.gca()\n",
        "ax.spines['right'].set_color('none')\n",
        "ax.spines['top'].set_color('none')\n",
        "ax.spines['left'].set_position(('data', 0))\n",
        "ax.spines['bottom'].set_position(('data', 0))\n",
        "plt.ylim(-10, 10)\n"
      ]
    },
    {
      "cell_type": "code",
      "execution_count": null,
      "metadata": {
        "id": "G5aT0WGqdUUx",
        "outputId": "675ac115-d2c4-4f21-bacf-6c546eb42d3e"
      },
      "outputs": [
        {
          "name": "stdout",
          "output_type": "stream",
          "text": [
            "-0.815553418808961\n",
            "1.42961182472556\n"
          ]
        }
      ],
      "source": [
        "print(sympy.nsolve(x**4 - sympy.E**x, -1))\n",
        "print(sympy.nsolve(x**4 - sympy.E**x, 1.5))"
      ]
    },
    {
      "cell_type": "markdown",
      "metadata": {
        "id": "jFnUVIPidUUy"
      },
      "source": [
        "### Задача 2.\n",
        "Решить уравнение $\\sin^2(2x)=\\ln x$ при $0< x \\le 3$. Построить графики левой и правой части, отметить точку пересечения графиков."
      ]
    },
    {
      "cell_type": "code",
      "execution_count": null,
      "metadata": {
        "id": "456pYvKVdUUz"
      },
      "outputs": [],
      "source": [
        "def f(x, lib='sympy'):\n",
        "    if lib == 'sympy':\n",
        "        return sympy.sin(2 * x) ** 2\n",
        "    if lib == 'numpy':\n",
        "        return np.sin(2 * x) ** 2\n",
        "    return 'error'\n",
        "\n",
        "def g(x, lib='sympy'):\n",
        "    if lib == 'sympy':\n",
        "        return sympy.log(x)\n",
        "    if lib == 'numpy':\n",
        "        return np.log(x)\n",
        "    return 'error'"
      ]
    },
    {
      "cell_type": "code",
      "execution_count": null,
      "metadata": {
        "id": "ZcevvNXwdUU0",
        "outputId": "3b4194e4-556b-4b0b-ed6a-1096e84eb965"
      },
      "outputs": [
        {
          "data": {
            "image/png": "[encoded data removed]",
            "text/plain": [
              "<Figure size 432x288 with 1 Axes>"
            ]
          },
          "metadata": {
            "needs_background": "light"
          },
          "output_type": "display_data"
        }
      ],
      "source": [
        "roots = [sympy.nsolve(sympy.Eq(f(x, lib='sympy'), g(x, lib='sympy')), x, x0) for x0 in [1.5, 2, 2.5]]\n",
        "X = np.linspace(0.01, 3)\n",
        "ax = plt.gca() # get current axes - получить текущую систему координат\n",
        "ax.plot(X, f(X, lib='numpy'), color='green')\n",
        "ax.plot(X, g(X, lib='numpy'), color='red')\n",
        "y_coord = [f(float(root), lib='numpy') for root in roots]\n",
        "ax.scatter(roots, y_coord)\n",
        "for i, x_coord in enumerate(roots):\n",
        "    ax.annotate('A' + str(i + 1),\n",
        "        xy=(x_coord, y_coord[i]), xycoords='data',\n",
        "        xytext=(x_coord - 0.1, y_coord[i] + 0.3), textcoords='data') \n",
        "ax.spines['right'].set_color('none')\n",
        "ax.spines['top'].set_color('none')\n",
        "ax.spines['bottom'].set_position(('data', 0))\n",
        "ax.spines['left'].set_position(('data', 0))"
      ]
    },
    {
      "cell_type": "markdown",
      "metadata": {
        "id": "V9ICBAbDdUVA"
      },
      "source": [
        "### Задача 3.\n",
        "Решить уравнение $\\sin^2(2x^2-7x+6)=3/4$ на $[3, 4]$. Построить графики левой и правой части, отметить точки пересечения графиков."
      ]
    },
    {
      "cell_type": "code",
      "execution_count": null,
      "metadata": {
        "id": "J6KGNQs8dUVB"
      },
      "outputs": [],
      "source": [
        "def f(x, lib='sympy'):\n",
        "    if lib == 'sympy':\n",
        "        return sympy.sin(2 * x ** 2 - 7 * x + 6) ** 2\n",
        "    if lib == 'numpy':\n",
        "        return np.sin(2 * x ** 2 - 7 * x + 6) ** 2\n",
        "    return 'error'\n",
        "\n",
        "def g(x):\n",
        "    return 0 * x + 0.75"
      ]
    },
    {
      "cell_type": "code",
      "execution_count": null,
      "metadata": {
        "id": "GAb6hHhxdUVC",
        "outputId": "6001023c-e235-4e24-c365-11c9522adafc"
      },
      "outputs": [
        {
          "data": {
            "image/png": "[encoded data removed]",
            "text/plain": [
              "<Figure size 432x288 with 1 Axes>"
            ]
          },
          "metadata": {
            "needs_background": "light"
          },
          "output_type": "display_data"
        }
      ],
      "source": [
        "roots = [sympy.nsolve(sympy.Eq(f(x, lib='sympy'), g(x)), x, x0) for x0 in [3, 3.4, 3.5, 3.55]]\n",
        "X = np.linspace(3, 4)\n",
        "ax = plt.gca()\n",
        "ax.plot(X, f(X, lib='numpy'), color='green')\n",
        "ax.plot(X, g(X), color='red')\n",
        "y_coord = [f(float(root), lib='numpy') for root in roots]\n",
        "ax.scatter(roots, y_coord)\n",
        "for i, x_coord in enumerate(roots):\n",
        "    ax.annotate('A' + str(i + 1),\n",
        "        xy=(x_coord, y_coord[i]), xycoords='data',\n",
        "        xytext=(x_coord - 0.07, y_coord[i] + 0.05), textcoords='data') \n",
        "ax.spines['right'].set_color('none')\n",
        "ax.spines['top'].set_color('none')\n",
        "ax.spines['bottom'].set_position(('data', 0))"
      ]
    },
    {
      "cell_type": "markdown",
      "metadata": {
        "id": "QT5u-sXIdUVG"
      },
      "source": [
        "### Задача 4.\n",
        "Решить уравнение ${\\rm tg}^4(2x^2+1)-10=0$ на интервале $[0, 0.2]$ методом дихотомии. График строить не нужно."
      ]
    },
    {
      "cell_type": "code",
      "execution_count": null,
      "metadata": {
        "id": "ery2yIFsdUVH"
      },
      "outputs": [],
      "source": [
        "def f(x):\n",
        "    return sympy.tg(2 * x ** 2 + 1) ** 4 - 10"
      ]
    },
    {
      "cell_type": "code",
      "execution_count": null,
      "metadata": {
        "id": "jO5E8s5FdUVH",
        "outputId": "7e443ec2-67bc-4491-fcf3-a58c786a7141"
      },
      "outputs": [
        {
          "ename": "AttributeError",
          "evalue": "module 'sympy' has no attribute 'tg'",
          "output_type": "error",
          "traceback": [
            "\u001b[0;31m---------------------------------------------------------------------------\u001b[0m",
            "\u001b[0;31mAttributeError\u001b[0m                            Traceback (most recent call last)",
            "\u001b[0;32m<ipython-input-13-6bbbd14500b1>\u001b[0m in \u001b[0;36m<module>\u001b[0;34m\u001b[0m\n\u001b[0;32m----> 1\u001b[0;31m roots = sympy.nsolve(sympy.Eq(f(x), 0 * x), x,\n\u001b[0m\u001b[1;32m      2\u001b[0m  [0, 0.2], solver='bisect', verify=False)\n\u001b[1;32m      3\u001b[0m \u001b[0mroots\u001b[0m\u001b[0;34m\u001b[0m\u001b[0;34m\u001b[0m\u001b[0m\n",
            "\u001b[0;32m<ipython-input-12-bbaba3c5790e>\u001b[0m in \u001b[0;36mf\u001b[0;34m(x)\u001b[0m\n\u001b[1;32m      1\u001b[0m \u001b[0;32mdef\u001b[0m \u001b[0mf\u001b[0m\u001b[0;34m(\u001b[0m\u001b[0mx\u001b[0m\u001b[0;34m)\u001b[0m\u001b[0;34m:\u001b[0m\u001b[0;34m\u001b[0m\u001b[0;34m\u001b[0m\u001b[0m\n\u001b[0;32m----> 2\u001b[0;31m     \u001b[0;32mreturn\u001b[0m \u001b[0msympy\u001b[0m\u001b[0;34m.\u001b[0m\u001b[0mtg\u001b[0m\u001b[0;34m(\u001b[0m\u001b[0;36m2\u001b[0m \u001b[0;34m*\u001b[0m \u001b[0mx\u001b[0m \u001b[0;34m**\u001b[0m \u001b[0;36m2\u001b[0m \u001b[0;34m+\u001b[0m \u001b[0;36m1\u001b[0m\u001b[0;34m)\u001b[0m \u001b[0;34m**\u001b[0m \u001b[0;36m4\u001b[0m \u001b[0;34m-\u001b[0m \u001b[0;36m10\u001b[0m\u001b[0;34m\u001b[0m\u001b[0;34m\u001b[0m\u001b[0m\n\u001b[0m",
            "\u001b[0;31mAttributeError\u001b[0m: module 'sympy' has no attribute 'tg'"
          ]
        }
      ],
      "source": [
        "roots = sympy.nsolve(sympy.Eq(f(x), 0 * x), x,\n",
        " [0, 0.2], solver='bisect', verify=False)\n",
        "roots"
      ]
    },
    {
      "cell_type": "markdown",
      "metadata": {
        "id": "6QT7sb_jdUVI"
      },
      "source": [
        "### Задача 5.\n",
        "Решить систему уравнений \n",
        "$$\n",
        "\\left\\{\\begin{matrix}\n",
        "(x - 1)^2 + (y - 2)^2 + (z + 3)^2 = 25\\\\\n",
        "x + y + z = 0\\\\\n",
        "-2x + 3y - z = 7\n",
        "\\end{matrix}\\right.\n",
        "$$\n",
        "начальное приближение (0, 0, 0).\n",
        "Проверить подстановкой."
      ]
    },
    {
      "cell_type": "code",
      "execution_count": null,
      "metadata": {
        "id": "VU8C4gUjdUVJ",
        "outputId": "a7a68fc8-ae26-487a-d676-7ac5708d34b7"
      },
      "outputs": [
        {
          "data": {
            "text/plain": [
              "(-2.08606699924184, 1.22848325018954, 0.857583749052298)"
            ]
          },
          "execution_count": 29,
          "metadata": {},
          "output_type": "execute_result"
        }
      ],
      "source": [
        "from sympy import symbols, linsolve\n",
        "x, y, z = symbols('x y z')\n",
        "System_eq = [x + y + z, -2 * x + 3 * y - z - 7]\n",
        "for i in linsolve(System_eq, x, y, z):\n",
        "    a = i\n",
        "eq = (x - 1) ** 2 + (y - 2) ** 2 + (z + 3) ** 2\n",
        "eqs = eq.subs({x: a[0], y: a[1]})\n",
        "z1 = sympy.nsolve(sympy.Eq(eqs, 25), z, 0)\n",
        "x1 = a[0].subs({z: z1})\n",
        "y1 = a[1].subs({z: z1})\n",
        "x1, y1, z1"
      ]
    },
    {
      "cell_type": "code",
      "execution_count": null,
      "metadata": {
        "id": "dxlBHws1dUVJ",
        "outputId": "00c6d711-2f79-4697-f70f-c2ea70c5b245"
      },
      "outputs": [
        {
          "name": "stdout",
          "output_type": "stream",
          "text": [
            "25.0000000000000 -2.22044604925031e-16 2.22044604925031e-16\n"
          ]
        }
      ],
      "source": [
        "print(eq.subs({x: x1, y: y1, z: z1}),\n",
        "  System_eq[0].subs({x: x1, y: y1, z: z1}),\n",
        "  System_eq[1].subs({x: x1, y: y1, z: z1}))"
      ]
    },
    {
      "cell_type": "markdown",
      "metadata": {
        "id": "ckLcw7SWdUVK"
      },
      "source": [
        "### Индивидуальное задание\n",
        "Построить графики функций $f(x)$ и $g(x)$, уточнить координаты точек пересечения, решая численно соответствующее уравнение. На  графике отметить и подписать буквами $А_1$, $A_2$, ... точки пересечения графиков.  "
      ]
    },
    {
      "cell_type": "markdown",
      "metadata": {
        "id": "wpOoT_4pdUVK"
      },
      "source": [
        "\\begin{align*}\n",
        " f(x) = \\frac{x^{2}}{4} + 3 x + 13\\\\\n",
        " g(x) = \\frac{7 x^{2}}{4} + 9 x + 13\n",
        "\\end{align*}"
      ]
    },
    {
      "cell_type": "code",
      "execution_count": null,
      "metadata": {
        "id": "ZkLxKocgdUVK"
      },
      "outputs": [],
      "source": [
        "def f(x):\n",
        "    return x ** 2 / 4 + 3 * x + 13\n",
        "\n",
        "def g(x):\n",
        "    return 7 * x ** 2 / 4 + 9 * x + 13"
      ]
    },
    {
      "cell_type": "code",
      "execution_count": null,
      "metadata": {
        "id": "-Mehv_hBdUVL",
        "outputId": "79223a5f-16e6-423b-cffa-85e3541fae25"
      },
      "outputs": [
        {
          "data": {
            "image/png": "[encoded data removed]",
            "text/plain": [
              "<Figure size 432x288 with 1 Axes>"
            ]
          },
          "metadata": {
            "needs_background": "light"
          },
          "output_type": "display_data"
        }
      ],
      "source": [
        "roots = [sympy.nsolve(sympy.Eq(f(x), g(x)), x, x0) for x0 in [-4, 0]]\n",
        "X = np.linspace(-7, 3)\n",
        "ax = plt.gca()\n",
        "ax.plot(X, f(X), color='green')\n",
        "ax.plot(X, g(X), color='red')\n",
        "y_coord = [f(float(root)) for root in roots]\n",
        "ax.scatter(roots, y_coord)\n",
        "for i, x_coord in enumerate(roots):\n",
        "    ax.annotate('A' + str(i + 1),\n",
        "        xy=(x_coord, y_coord[i]), xycoords='data',\n",
        "        xytext=(x_coord - 0.1, y_coord[i] + 3), textcoords='data') \n",
        "ax.spines['right'].set_color('none')\n",
        "ax.spines['top'].set_color('none')\n",
        "ax.spines['bottom'].set_position(('data', 0))"
      ]
    }
  ],
  "metadata": {
    "kernelspec": {
      "display_name": "Python 3",
      "language": "python",
      "name": "python3"
    },
    "language_info": {
      "codemirror_mode": {
        "name": "ipython",
        "version": 3
      },
      "file_extension": ".py",
      "mimetype": "text/x-python",
      "name": "python",
      "nbconvert_exporter": "python",
      "pygments_lexer": "ipython3",
      "version": "3.6.11"
    },
    "colab": {
      "provenance": []
    }
  },
  "nbformat": 4,
  "nbformat_minor": 0
}