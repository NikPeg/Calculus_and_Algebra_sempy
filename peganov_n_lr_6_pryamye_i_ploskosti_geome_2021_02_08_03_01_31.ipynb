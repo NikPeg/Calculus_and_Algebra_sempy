{
  "cells": [
    {
      "cell_type": "code",
      "execution_count": null,
      "metadata": {
        "id": "9JJXxj0PdixC"
      },
      "outputs": [],
      "source": [
        "import sympy\n",
        "from sympy import  Symbol, symbols, S, Point, Line, Plane, Point3D"
      ]
    },
    {
      "cell_type": "markdown",
      "metadata": {
        "id": "Vd55eKNJdixE"
      },
      "source": [
        "# Занятие 6\n",
        "# Алгебра\n",
        "\n",
        "##  Прямые и плоскости в пространстве. Geometry.\n",
        "### Задание 1.\n",
        "Найти угол между плоскостями $ABC$ и  $ABD$, где \n",
        "$A(-1, 2, -4)$,\n",
        "$B(2, -2, 1)$,\n",
        "$C(5, 3, -6)$,\n",
        "$D(0, 3, -6)$."
      ]
    },
    {
      "cell_type": "code",
      "execution_count": null,
      "metadata": {
        "id": "gK6uV9QhdixF",
        "outputId": "db3cce65-3c1f-409b-acb1-4fdac2fd1795"
      },
      "outputs": [
        {
          "data": {
            "text/latex": [
              "$\\displaystyle \\operatorname{acos}{\\left(\\frac{99 \\sqrt{40454}}{20227} \\right)}$"
            ],
            "text/plain": [
              "acos(99*sqrt(40454)/20227)"
            ]
          },
          "metadata": {},
          "output_type": "display_data"
        },
        {
          "data": {
            "text/plain": [
              "0.1767000274893172"
            ]
          },
          "execution_count": 2,
          "metadata": {},
          "output_type": "execute_result"
        }
      ],
      "source": [
        "A = Point(-1, 2, -4)\n",
        "B = Point(2, -2, 1)\n",
        "C = Point(5, 3, -6)\n",
        "D = Point(0, 3, -6)\n",
        "ABC = Plane(A, B, C)\n",
        "ABD = Plane(A, B, D)\n",
        "display(ABC.angle_between(ABD))\n",
        "float(ABC.angle_between(ABD))"
      ]
    },
    {
      "cell_type": "markdown",
      "metadata": {
        "id": "EXHEaqTEdixG"
      },
      "source": [
        "### Задание 2.\n",
        "Найти угол между прямой, проходящей через точки $A(-3,5,1)$ и $B(5,2,-3)$ и плоскостью, в которой лежат точки \n",
        "$K(4,3,0)$, $M(2,4,-2)$ и $N(-2,2,-1)$."
      ]
    },
    {
      "cell_type": "code",
      "execution_count": null,
      "metadata": {
        "id": "n2LJJZEydixH",
        "outputId": "0effd2cf-9246-48e3-8d96-8bfe1a731bba"
      },
      "outputs": [
        {
          "data": {
            "text/latex": [
              "$\\displaystyle - \\operatorname{asin}{\\left(\\frac{86 \\sqrt{15397}}{15397} \\right)}$"
            ],
            "text/plain": [
              "-asin(86*sqrt(15397)/15397)"
            ]
          },
          "execution_count": 3,
          "metadata": {},
          "output_type": "execute_result"
        }
      ],
      "source": [
        "A = Point(-3, 5, 1)\n",
        "B = Point(5, 2, -3)\n",
        "AB = Line(A, B)\n",
        "K = Point(4, 3, 0)\n",
        "M = Point(2, 4, -2)\n",
        "N = Point(-2, 2, -1)\n",
        "KMN = Plane(K, M, N)\n",
        "KMN.angle_between(AB)"
      ]
    },
    {
      "cell_type": "markdown",
      "metadata": {
        "id": "q0t4PjAddixH"
      },
      "source": [
        "### Задание 3.\n",
        "Проверить, лежат ли точки в одной плоскости\n",
        "\n",
        "а) $A(3, 2, -1)$, $B(2, -1, 0)$, $C(5, 2, -6)$, $D(6, 5, -7)$\n",
        "\n",
        "b) $A(-1, 5, -4)$, $B(7, -2, 1)$, $C(6, 3, -8)$, $D(0, 3, 0)$"
      ]
    },
    {
      "cell_type": "markdown",
      "metadata": {
        "id": "1dD4G1B2dixI"
      },
      "source": [
        "a)"
      ]
    },
    {
      "cell_type": "code",
      "execution_count": null,
      "metadata": {
        "id": "yP6dm--5dixJ",
        "outputId": "3c1674bb-9f5e-49ad-bb72-454dfa4bb609"
      },
      "outputs": [
        {
          "data": {
            "text/plain": [
              "True"
            ]
          },
          "execution_count": 4,
          "metadata": {},
          "output_type": "execute_result"
        }
      ],
      "source": [
        "A = Point(3, 2, -1)\n",
        "B = Point(2, -1, 0)\n",
        "C = Point(5, 2, -6)\n",
        "D = Point(6, 5, -7)\n",
        "ABC = Plane(A, B, C)\n",
        "ABD = Plane(A, B, D)\n",
        "ABC.is_coplanar(ABD)"
      ]
    },
    {
      "cell_type": "markdown",
      "metadata": {
        "id": "7V7DCpqUdixK"
      },
      "source": [
        "b)"
      ]
    },
    {
      "cell_type": "code",
      "execution_count": null,
      "metadata": {
        "id": "BaQQRUnLdixK",
        "outputId": "c35500a8-5f28-4ffd-bdce-344c34eacf2e"
      },
      "outputs": [
        {
          "data": {
            "text/plain": [
              "False"
            ]
          },
          "execution_count": 5,
          "metadata": {},
          "output_type": "execute_result"
        }
      ],
      "source": [
        "A = Point(-1, 5, -4)\n",
        "B = Point(7, -2, 1)\n",
        "C = Point(6, 3, -8)\n",
        "D = Point(0, 3, 0)\n",
        "ABC = Plane(A, B, C)\n",
        "ABD = Plane(A, B, D)\n",
        "ABC.is_coplanar(ABD)"
      ]
    },
    {
      "cell_type": "markdown",
      "metadata": {
        "id": "mz6VBcqYdixL"
      },
      "source": [
        "###  Задание 4.\n",
        "Прямая задана параметрическими уравнениями:\n",
        "$$\n",
        "\\left\\{\\begin{matrix}\n",
        "x=2+5t\\\\\n",
        "y=-1-2t\\\\\n",
        "z=4-3t\n",
        "\\end{matrix}\\right..\n",
        "$$\n",
        "Представить прямую в виде линии пересечения двух плоскостей (вывести на экран уравнения плоскостей), \n",
        "одна из которых проходит через начало координат, а вторая плоскость перпендикулярна первой плоскости.\n",
        "\n",
        "Указание: сначала составить список правых частей параметрических уравнений, затем составить две различные точки на прямой и далее решить средствами для работы с прямыми и плоскостями из модуля Geometry."
      ]
    },
    {
      "cell_type": "code",
      "execution_count": null,
      "metadata": {
        "id": "Gy01l-rSdixM",
        "outputId": "a195a76a-6801-4895-ee68-c51653bcf333"
      },
      "outputs": [
        {
          "data": {
            "text/latex": [
              "$\\displaystyle 11 x + 26 y + z$"
            ],
            "text/plain": [
              "11*x + 26*y + z"
            ]
          },
          "metadata": {},
          "output_type": "display_data"
        },
        {
          "data": {
            "text/latex": [
              "$\\displaystyle 76 x - 38 y + 152 z - 798$"
            ],
            "text/plain": [
              "76*x - 38*y + 152*z - 798"
            ]
          },
          "metadata": {},
          "output_type": "display_data"
        }
      ],
      "source": [
        "O1 = Point(0, 0, 0)\n",
        "t = Symbol('t')\n",
        "X = (2 + 5 * t, -1 - 2 * t, 4 - 3 * t)\n",
        "M1, M2 = [Point(*[p.subs(t, k) for p in X]) for k in (0, 1)]\n",
        "P1 = Plane(O1, M1, M2)\n",
        "P2 = P1.perpendicular_plane(M1, M2)\n",
        "display(P1.equation(), P2.equation())"
      ]
    },
    {
      "cell_type": "markdown",
      "metadata": {
        "id": "4wj0ts6odixM"
      },
      "source": [
        "###  Задание 5.\n",
        "Даны точки  пространстве\n",
        "$A(-2, 7, -5)$, $B(6, 2, -4)$, $C(14, -3, -2)$, $D(22, -8, -2)$, $K(30, -7, -4)$,\n",
        "$M(94, -35, -2)$.\n",
        "\n",
        "Определить, какие тройки точек лежат на одной прямой, какие четверки - в одной плоскости.\n",
        "\n",
        "Для проверки того, что три точки лежат на одной прямой использовать Point3D.are_collinear.\n",
        "\n",
        "Вывести на экран тройки точек, лежащие на одной прямой и четверки точек, лежащих в одной плоскости."
      ]
    },
    {
      "cell_type": "markdown",
      "metadata": {
        "id": "E5TTUQGBdixN"
      },
      "source": [
        "Зададим точки:"
      ]
    },
    {
      "cell_type": "code",
      "execution_count": null,
      "metadata": {
        "id": "CoPGfDzLdixN"
      },
      "outputs": [],
      "source": [
        "name = {}\n",
        "A = Point(-2, 7, -5)\n",
        "name[A] = 'A'\n",
        "B = Point(6, 2, -4)\n",
        "name[B] = 'B'\n",
        "C = Point(14, -3, -2)\n",
        "name[C] = 'C'\n",
        "D = Point(22, -8, -2)\n",
        "name[D] = 'D'\n",
        "K = Point(30, -7, -4)\n",
        "name[K] = 'K'\n",
        "M = Point(94, -35, -2)\n",
        "name[M] = 'M'"
      ]
    },
    {
      "cell_type": "code",
      "execution_count": null,
      "metadata": {
        "id": "IABYnXs4dixN",
        "outputId": "37f08930-b0eb-46fb-8493-6c4eda846a46"
      },
      "outputs": [
        {
          "name": "stdout",
          "output_type": "stream",
          "text": [
            "ABD\n",
            "AKM\n",
            "ABCD\n",
            "ABDK\n",
            "ABDM\n",
            "ABKM\n",
            "ACKM\n",
            "ADKM\n",
            "BDKM\n"
          ]
        }
      ],
      "source": [
        "from itertools import * \n",
        "points = (A, B, C, D, K, M)\n",
        "for points3 in combinations(points, 3):\n",
        "    if Point3D.are_collinear(*points3):\n",
        "        print(''.join([name[points3[i]] for i in range(3)]))\n",
        "for points4 in combinations(points, 4):\n",
        "    if Point3D.are_coplanar(*points4):\n",
        "        print(''.join([name[points4[i]] for i in range(4)]))"
      ]
    },
    {
      "cell_type": "markdown",
      "metadata": {
        "id": "-wfTCp5edixO"
      },
      "source": [
        "###  Задание 6.\n",
        "Составить уравнения всех (различных!) плоскостей, определяемых точками задания 5.\n",
        "\n",
        "Указание: решать аналогично Примеру 11, проверить, что $A$, $B$, $C$ не лежат на одной прямой и составить плоскость $ABC$, включить ее в список плоскостей. "
      ]
    },
    {
      "cell_type": "code",
      "execution_count": null,
      "metadata": {
        "id": "XqZMukYodixO",
        "outputId": "159c588a-982f-4b5e-980a-b1fd868d673f"
      },
      "outputs": [
        {
          "data": {
            "text/latex": [
              "$\\displaystyle - 5 x - 8 y + 46$"
            ],
            "text/plain": [
              "-5*x - 8*y + 46"
            ]
          },
          "metadata": {},
          "output_type": "display_data"
        },
        {
          "data": {
            "text/latex": [
              "$\\displaystyle 10 x + 16 y + 48 z + 4$"
            ],
            "text/plain": [
              "10*x + 16*y + 48*z + 4"
            ]
          },
          "metadata": {},
          "output_type": "display_data"
        },
        {
          "data": {
            "text/latex": [
              "$\\displaystyle 144 z + 288$"
            ],
            "text/plain": [
              "144*z + 288"
            ]
          },
          "metadata": {},
          "output_type": "display_data"
        },
        {
          "data": {
            "text/latex": [
              "$\\displaystyle 18 x + 48 y + 48 z - 12$"
            ],
            "text/plain": [
              "18*x + 48*y + 48*z - 12"
            ]
          },
          "metadata": {},
          "output_type": "display_data"
        },
        {
          "data": {
            "text/latex": [
              "$\\displaystyle 32 x + 80 y + 96 z - 16$"
            ],
            "text/plain": [
              "32*x + 80*y + 96*z - 16"
            ]
          },
          "metadata": {},
          "output_type": "display_data"
        },
        {
          "data": {
            "text/latex": [
              "$\\displaystyle 9 x + 24 y + 48 z + 90$"
            ],
            "text/plain": [
              "9*x + 24*y + 48*z + 90"
            ]
          },
          "metadata": {},
          "output_type": "display_data"
        },
        {
          "data": {
            "text/latex": [
              "$\\displaystyle 64 x + 160 y + 144 z - 128$"
            ],
            "text/plain": [
              "64*x + 160*y + 144*z - 128"
            ]
          },
          "metadata": {},
          "output_type": "display_data"
        }
      ],
      "source": [
        "planes = set()\n",
        "for points3 in combinations(points, 3):\n",
        "    if not Point3D.are_collinear(*points3):\n",
        "        ABC = Plane(*points3)\n",
        "        for plane in planes:\n",
        "            if ABC.is_coplanar(plane):\n",
        "                break\n",
        "        else:\n",
        "            planes.add(ABC)\n",
        "for plane in planes:\n",
        "    display(plane.equation())"
      ]
    },
    {
      "cell_type": "markdown",
      "metadata": {
        "id": "avNfEOpudixP"
      },
      "source": [
        "### Индивидуальное задание\n",
        "Даны точки в пространстве\n",
        "$B(10, 1, 8)$, $D(7, -4, 4)$, $H(6, -13, 8)$ и\n",
        "$P(4, -7, 2)$.\n",
        "\n",
        "Найти угол между прямой $PD$ и плоскостью $z = 0$, угол между $PB$ и $BH$, угол между плоскостями $PDB$ \n",
        "и $DBH$.\n",
        "\n",
        "Составить уравнение: \n",
        "\n",
        "a) плоскости, параллельной $PDB$ и проходящей через $H$,\n",
        "\n",
        "b) плоскости, перпендикулярной $PDB$ и проходящей через $P$ и $B$,\n",
        "\n",
        "c) прямой, перпендикулярной $PDB$ и проходящей через $B$."
      ]
    },
    {
      "cell_type": "code",
      "execution_count": null,
      "metadata": {
        "id": "xyijtrRbdixP"
      },
      "outputs": [],
      "source": [
        "B = Point(10, 1, 8)\n",
        "D = Point(7, -4, 4)\n",
        "H = Point(6, -13, 8)\n",
        "P = Point(4, -7, 2)\n",
        "PD = Line(P, D)\n",
        "z0 = Plane(Point(0, 0, 0), Point(1, 0, 0), Point(0, 1, 0))"
      ]
    },
    {
      "cell_type": "code",
      "execution_count": null,
      "metadata": {
        "id": "--FUv0AHdixQ",
        "outputId": "685aa111-7369-491e-bcf9-86a38c901f8e"
      },
      "outputs": [
        {
          "data": {
            "text/latex": [
              "$\\displaystyle \\operatorname{asin}{\\left(\\frac{\\sqrt{22}}{11} \\right)}$"
            ],
            "text/plain": [
              "asin(sqrt(22)/11)"
            ]
          },
          "execution_count": 16,
          "metadata": {},
          "output_type": "execute_result"
        }
      ],
      "source": [
        "z0.angle_between(PD)"
      ]
    },
    {
      "cell_type": "code",
      "execution_count": null,
      "metadata": {
        "id": "XGn5xP9RdixQ",
        "outputId": "09562771-371b-4655-9af8-b0966630eec0"
      },
      "outputs": [
        {
          "data": {
            "text/latex": [
              "$\\displaystyle \\operatorname{acos}{\\left(\\frac{\\sqrt{1802}}{53} \\right)}$"
            ],
            "text/plain": [
              "acos(sqrt(1802)/53)"
            ]
          },
          "execution_count": 17,
          "metadata": {},
          "output_type": "execute_result"
        }
      ],
      "source": [
        "BH = Line(B, H)\n",
        "PB = Line(P, B)\n",
        "PB.smallest_angle_between(BH)"
      ]
    },
    {
      "cell_type": "code",
      "execution_count": null,
      "metadata": {
        "id": "qByOPftudixR",
        "outputId": "dae43e23-1163-4d97-e43f-9ff145a0321e"
      },
      "outputs": [
        {
          "data": {
            "text/latex": [
              "$\\displaystyle \\operatorname{acos}{\\left(\\frac{\\sqrt{51}}{51} \\right)}$"
            ],
            "text/plain": [
              "acos(sqrt(51)/51)"
            ]
          },
          "execution_count": 18,
          "metadata": {},
          "output_type": "execute_result"
        }
      ],
      "source": [
        "PDB = Plane(P, D, B)\n",
        "DBH = Plane(D, B, H)\n",
        "PDB.angle_between(DBH)"
      ]
    },
    {
      "cell_type": "markdown",
      "metadata": {
        "id": "QR1Dra1sdixR"
      },
      "source": [
        "a)"
      ]
    },
    {
      "cell_type": "code",
      "execution_count": null,
      "metadata": {
        "id": "a2akavRDdixR",
        "outputId": "7771b075-903e-457b-8916-109ff625e9de"
      },
      "outputs": [
        {
          "data": {
            "text/latex": [
              "$\\displaystyle 2 x - 6 y + 6 z - 138$"
            ],
            "text/plain": [
              "2*x - 6*y + 6*z - 138"
            ]
          },
          "execution_count": 20,
          "metadata": {},
          "output_type": "execute_result"
        }
      ],
      "source": [
        "PDB.parallel_plane(H).equation()"
      ]
    },
    {
      "cell_type": "markdown",
      "metadata": {
        "id": "W0IeXgiedixS"
      },
      "source": [
        "b)"
      ]
    },
    {
      "cell_type": "code",
      "execution_count": null,
      "metadata": {
        "id": "w8Ml5jkDdixS",
        "outputId": "0ed89f55-afde-437e-ee62-9a009abed1f4"
      },
      "outputs": [
        {
          "data": {
            "text/latex": [
              "$\\displaystyle 84 x - 24 y - 52 z - 400$"
            ],
            "text/plain": [
              "84*x - 24*y - 52*z - 400"
            ]
          },
          "execution_count": 21,
          "metadata": {},
          "output_type": "execute_result"
        }
      ],
      "source": [
        "PDB.perpendicular_plane(P, B).equation()"
      ]
    },
    {
      "cell_type": "markdown",
      "metadata": {
        "id": "ai0GCLVAdixS"
      },
      "source": [
        "c)"
      ]
    },
    {
      "cell_type": "code",
      "execution_count": null,
      "metadata": {
        "id": "GJB9aTDddixT",
        "outputId": "a77610ee-b8eb-4de7-84e3-c237f4306740"
      },
      "outputs": [
        {
          "data": {
            "text/latex": [
              "$\\displaystyle \\left( 3 x + y - 31, \\  - 3 x + z + 22\\right)$"
            ],
            "text/plain": [
              "(3*x + y - 31, -3*x + z + 22)"
            ]
          },
          "execution_count": 22,
          "metadata": {},
          "output_type": "execute_result"
        }
      ],
      "source": [
        "PDB.perpendicular_line(B).equation()"
      ]
    }
  ],
  "metadata": {
    "kernelspec": {
      "display_name": "Python 3",
      "language": "python",
      "name": "python3"
    },
    "language_info": {
      "codemirror_mode": {
        "name": "ipython",
        "version": 3
      },
      "file_extension": ".py",
      "mimetype": "text/x-python",
      "name": "python",
      "nbconvert_exporter": "python",
      "pygments_lexer": "ipython3",
      "version": "3.6.11"
    },
    "colab": {
      "provenance": []
    }
  },
  "nbformat": 4,
  "nbformat_minor": 0
}