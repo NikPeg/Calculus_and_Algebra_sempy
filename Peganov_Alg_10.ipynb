{
  "nbformat": 4,
  "nbformat_minor": 0,
  "metadata": {
    "kernelspec": {
      "display_name": "Python 3",
      "language": "python",
      "name": "python3"
    },
    "language_info": {
      "codemirror_mode": {
        "name": "ipython",
        "version": 3
      },
      "file_extension": ".py",
      "mimetype": "text/x-python",
      "name": "python",
      "nbconvert_exporter": "python",
      "pygments_lexer": "ipython3",
      "version": "3.7.3"
    },
    "colab": {
      "provenance": []
    }
  },
  "cells": [
    {
      "cell_type": "code",
      "metadata": {
        "id": "Y5Nhv0hnDalX"
      },
      "source": [
        "import sympy\n",
        "from sympy import I\n",
        "import numpy as np\n",
        "import matplotlib.pyplot as plt"
      ],
      "execution_count": null,
      "outputs": []
    },
    {
      "cell_type": "markdown",
      "metadata": {
        "id": "ZlC8KCTCDalc"
      },
      "source": [
        "# Занятие 10\n",
        "# Алгебра\n",
        "## Комплексные числа в sympy\n",
        "### Задание 1.\n",
        "Даны комплексные числа\n",
        "$$\n",
        "z_1 = 5\\sqrt{3} + 5i,\\quad z_2 = -3 + 3i,\\quad z_3 = - 1 + i,\\quad z_4 = i,\\quad z_5 = \\frac{12}{13} + \\frac{5}{13}i,\n",
        "$$\n",
        "вычислить (представить в алгебраической форме) с помощью sympy\n",
        "$$\n",
        "z_1 \\cdot z_2,\\quad (z_2 - 5z_3)^6,\\quad \\sqrt{\\frac{z_4}{z_3}},\\quad \\frac{z_1^2 + z_3}{13z_5 - 2z_2}.\n",
        "$$"
      ]
    },
    {
      "cell_type": "code",
      "metadata": {
        "id": "m2wa-sUGF8Ia"
      },
      "source": [
        "from sympy import sqrt, S, simplify, expand_complex"
      ],
      "execution_count": null,
      "outputs": []
    },
    {
      "cell_type": "code",
      "metadata": {
        "colab": {
          "base_uri": "https://localhost:8080/",
          "height": 168
        },
        "id": "VohFCFsfDalc",
        "outputId": "285db277-bdff-4fe5-950d-b2403c3da41e"
      },
      "source": [
        "z1 = 5 * sqrt(S(3)) + 5 * I\n",
        "z2 = -3 + 3 * I\n",
        "z3 = -1 + I\n",
        "z4 = I\n",
        "z5 = S(12) / 13 + S(5) / 13 * I\n",
        "display(*(expand_complex(t) for t in (z1 * z2, (z2 - 5 * z3) ** 6, sqrt(z4 / z3), (z1 ** 2 + z3) / (13 * z5 - 2 * z2))))"
      ],
      "execution_count": null,
      "outputs": [
        {
          "output_type": "display_data",
          "data": {
            "text/latex": "$\\displaystyle - 15 \\sqrt{3} - 15 + i \\left(-15 + 15 \\sqrt{3}\\right)$",
            "text/plain": [
              "-15*sqrt(3) - 15 + I*(-15 + 15*sqrt(3))"
            ]
          },
          "metadata": {
            "tags": []
          }
        },
        {
          "output_type": "display_data",
          "data": {
            "text/latex": "$\\displaystyle 512 i$",
            "text/plain": [
              "512*I"
            ]
          },
          "metadata": {
            "tags": []
          }
        },
        {
          "output_type": "display_data",
          "data": {
            "text/latex": "$\\displaystyle \\frac{2^{\\frac{3}{4}} \\sqrt{\\frac{\\sqrt{2}}{4} + \\frac{1}{2}}}{2} - \\frac{2^{\\frac{3}{4}} i \\sqrt{\\frac{1}{2} - \\frac{\\sqrt{2}}{4}}}{2}$",
            "text/plain": [
              "2**(3/4)*sqrt(sqrt(2)/4 + 1/2)/2 - 2**(3/4)*I*sqrt(1/2 - sqrt(2)/4)/2"
            ]
          },
          "metadata": {
            "tags": []
          }
        },
        {
          "output_type": "display_data",
          "data": {
            "text/latex": "$\\displaystyle - \\frac{2 \\sqrt{3}}{13} + \\frac{881}{325} + i \\left(\\frac{67}{325} + \\frac{36 \\sqrt{3}}{13}\\right)$",
            "text/plain": [
              "-2*sqrt(3)/13 + 881/325 + I*(67/325 + 36*sqrt(3)/13)"
            ]
          },
          "metadata": {
            "tags": []
          }
        }
      ]
    },
    {
      "cell_type": "markdown",
      "metadata": {
        "id": "wky29EOSDald"
      },
      "source": [
        "### Задание  2.\n",
        "Вычисления Примера 1 проделать для мнимой единицы из python (использовать встроенную функцию complex)."
      ]
    },
    {
      "cell_type": "code",
      "metadata": {
        "colab": {
          "base_uri": "https://localhost:8080/",
          "height": 101
        },
        "id": "1oCQ8AcWDald",
        "outputId": "3aa8c370-a254-4a1c-ac5d-ca9084a15a9c"
      },
      "source": [
        "z1 = complex(5 * sqrt(3), 5)\n",
        "z2 = complex(-3, 3)\n",
        "z3 = complex(-1, 1)\n",
        "z4 = complex(0, 1)\n",
        "z5 = complex(12 / 13, 5 / 13)\n",
        "display(*(expand_complex(t) for t in (z1 * z2, (z2 - 5 * z3) ** 6, sqrt(z4 / z3), (z1 ** 2 + z3) / (13 * z5 - 2 * z2))))"
      ],
      "execution_count": null,
      "outputs": [
        {
          "output_type": "display_data",
          "data": {
            "text/latex": "$\\displaystyle -40.9807621135332 + 10.9807621135332 i$",
            "text/plain": [
              "-40.9807621135332 + 10.9807621135332*I"
            ]
          },
          "metadata": {
            "tags": []
          }
        },
        {
          "output_type": "display_data",
          "data": {
            "text/latex": "$\\displaystyle 512.0 i$",
            "text/plain": [
              "512.0*I"
            ]
          },
          "metadata": {
            "tags": []
          }
        },
        {
          "output_type": "display_data",
          "data": {
            "text/latex": "$\\displaystyle 0.776886987015019 - 0.321797126452791 i$",
            "text/plain": [
              "0.776886987015019 - 0.321797126452791*I"
            ]
          },
          "metadata": {
            "tags": []
          }
        },
        {
          "output_type": "display_data",
          "data": {
            "text/latex": "$\\displaystyle 2.44429987575863 + 5.00260223634458 i$",
            "text/plain": [
              "2.44429987575863 + 5.00260223634458*I"
            ]
          },
          "metadata": {
            "tags": []
          }
        }
      ]
    },
    {
      "cell_type": "markdown",
      "metadata": {
        "id": "t442c0PDDald"
      },
      "source": [
        "### Задание  3.\n",
        "Изобразить на координатной плоскости точки, соответствующие корням  $7$-й степени комплексного числа $z = \\frac{3}{5} + i\\frac{3}{5}$. Подписать точки $Ak$, где $k$  - номер корня."
      ]
    },
    {
      "cell_type": "code",
      "metadata": {
        "colab": {
          "base_uri": "https://localhost:8080/",
          "height": 306
        },
        "id": "dxNtjeuCDald",
        "outputId": "cc48376b-08b4-415e-9096-c965cbf9044e"
      },
      "source": [
        "n = 7\n",
        "roots_list = [sympy.root(S(3) / 5 + S(3) * I / 5, n, k) for k in range(n)]\n",
        "display(*roots_list)"
      ],
      "execution_count": null,
      "outputs": [
        {
          "output_type": "display_data",
          "data": {
            "text/latex": "$\\displaystyle \\sqrt[7]{\\frac{3}{5} + \\frac{3 i}{5}}$",
            "text/plain": [
              "(3/5 + 3*I/5)**(1/7)"
            ]
          },
          "metadata": {
            "tags": []
          }
        },
        {
          "output_type": "display_data",
          "data": {
            "text/latex": "$\\displaystyle \\left(-1\\right)^{\\frac{2}{7}} \\sqrt[7]{\\frac{3}{5} + \\frac{3 i}{5}}$",
            "text/plain": [
              "(-1)**(2/7)*(3/5 + 3*I/5)**(1/7)"
            ]
          },
          "metadata": {
            "tags": []
          }
        },
        {
          "output_type": "display_data",
          "data": {
            "text/latex": "$\\displaystyle \\left(-1\\right)^{\\frac{4}{7}} \\sqrt[7]{\\frac{3}{5} + \\frac{3 i}{5}}$",
            "text/plain": [
              "(-1)**(4/7)*(3/5 + 3*I/5)**(1/7)"
            ]
          },
          "metadata": {
            "tags": []
          }
        },
        {
          "output_type": "display_data",
          "data": {
            "text/latex": "$\\displaystyle \\left(-1\\right)^{\\frac{6}{7}} \\sqrt[7]{\\frac{3}{5} + \\frac{3 i}{5}}$",
            "text/plain": [
              "(-1)**(6/7)*(3/5 + 3*I/5)**(1/7)"
            ]
          },
          "metadata": {
            "tags": []
          }
        },
        {
          "output_type": "display_data",
          "data": {
            "text/latex": "$\\displaystyle - \\sqrt[7]{-1} \\sqrt[7]{\\frac{3}{5} + \\frac{3 i}{5}}$",
            "text/plain": [
              "-(-1)**(1/7)*(3/5 + 3*I/5)**(1/7)"
            ]
          },
          "metadata": {
            "tags": []
          }
        },
        {
          "output_type": "display_data",
          "data": {
            "text/latex": "$\\displaystyle - \\left(-1\\right)^{\\frac{3}{7}} \\sqrt[7]{\\frac{3}{5} + \\frac{3 i}{5}}$",
            "text/plain": [
              "-(-1)**(3/7)*(3/5 + 3*I/5)**(1/7)"
            ]
          },
          "metadata": {
            "tags": []
          }
        },
        {
          "output_type": "display_data",
          "data": {
            "text/latex": "$\\displaystyle - \\left(-1\\right)^{\\frac{5}{7}} \\sqrt[7]{\\frac{3}{5} + \\frac{3 i}{5}}$",
            "text/plain": [
              "-(-1)**(5/7)*(3/5 + 3*I/5)**(1/7)"
            ]
          },
          "metadata": {
            "tags": []
          }
        }
      ]
    },
    {
      "cell_type": "code",
      "metadata": {
        "colab": {
          "base_uri": "https://localhost:8080/",
          "height": 362
        },
        "id": "0zcMRf_nIxW7",
        "outputId": "10d6533a-6550-4831-ed86-4dc716ec036f"
      },
      "source": [
        "roots = [sympy.expand_complex(item) for item in roots_list]\n",
        "display(*roots)"
      ],
      "execution_count": null,
      "outputs": [
        {
          "output_type": "display_data",
          "data": {
            "text/latex": "$\\displaystyle \\frac{\\sqrt[7]{15} \\sqrt[14]{2} \\cdot 5^{\\frac{5}{7}} \\cos{\\left(\\frac{\\pi}{28} \\right)}}{5} + \\frac{\\sqrt[14]{2} \\sqrt[7]{3} \\cdot 5^{\\frac{6}{7}} i \\sin{\\left(\\frac{\\pi}{28} \\right)}}{5}$",
            "text/plain": [
              "15**(1/7)*2**(1/14)*5**(5/7)*cos(pi/28)/5 + 2**(1/14)*3**(1/7)*5**(6/7)*I*sin(pi/28)/5"
            ]
          },
          "metadata": {
            "tags": []
          }
        },
        {
          "output_type": "display_data",
          "data": {
            "text/latex": "$\\displaystyle - \\frac{\\sqrt[14]{2} \\sqrt[7]{3} \\cdot 5^{\\frac{6}{7}} \\sin{\\left(\\frac{\\pi}{28} \\right)} \\sin{\\left(\\frac{2 \\pi}{7} \\right)}}{5} + \\frac{\\sqrt[14]{2} \\sqrt[7]{3} \\cdot 5^{\\frac{6}{7}} \\cos{\\left(\\frac{\\pi}{28} \\right)} \\cos{\\left(\\frac{2 \\pi}{7} \\right)}}{5} + i \\left(\\frac{\\sqrt[14]{2} \\sqrt[7]{3} \\cdot 5^{\\frac{6}{7}} \\sin{\\left(\\frac{\\pi}{28} \\right)} \\cos{\\left(\\frac{2 \\pi}{7} \\right)}}{5} + \\frac{\\sqrt[14]{2} \\sqrt[7]{3} \\cdot 5^{\\frac{6}{7}} \\sin{\\left(\\frac{2 \\pi}{7} \\right)} \\cos{\\left(\\frac{\\pi}{28} \\right)}}{5}\\right)$",
            "text/plain": [
              "-2**(1/14)*3**(1/7)*5**(6/7)*sin(pi/28)*sin(2*pi/7)/5 + 2**(1/14)*3**(1/7)*5**(6/7)*cos(pi/28)*cos(2*pi/7)/5 + I*(2**(1/14)*3**(1/7)*5**(6/7)*sin(pi/28)*cos(2*pi/7)/5 + 2**(1/14)*3**(1/7)*5**(6/7)*sin(2*pi/7)*cos(pi/28)/5)"
            ]
          },
          "metadata": {
            "tags": []
          }
        },
        {
          "output_type": "display_data",
          "data": {
            "text/latex": "$\\displaystyle - \\frac{\\sqrt[14]{2} \\sqrt[7]{3} \\cdot 5^{\\frac{6}{7}} \\cos{\\left(\\frac{\\pi}{28} \\right)} \\cos{\\left(\\frac{3 \\pi}{7} \\right)}}{5} - \\frac{\\sqrt[14]{2} \\sqrt[7]{3} \\cdot 5^{\\frac{6}{7}} \\sin{\\left(\\frac{\\pi}{28} \\right)} \\sin{\\left(\\frac{3 \\pi}{7} \\right)}}{5} + i \\left(- \\frac{\\sqrt[14]{2} \\sqrt[7]{3} \\cdot 5^{\\frac{6}{7}} \\sin{\\left(\\frac{\\pi}{28} \\right)} \\cos{\\left(\\frac{3 \\pi}{7} \\right)}}{5} + \\frac{\\sqrt[14]{2} \\sqrt[7]{3} \\cdot 5^{\\frac{6}{7}} \\sin{\\left(\\frac{3 \\pi}{7} \\right)} \\cos{\\left(\\frac{\\pi}{28} \\right)}}{5}\\right)$",
            "text/plain": [
              "-2**(1/14)*3**(1/7)*5**(6/7)*cos(pi/28)*cos(3*pi/7)/5 - 2**(1/14)*3**(1/7)*5**(6/7)*sin(pi/28)*sin(3*pi/7)/5 + I*(-2**(1/14)*3**(1/7)*5**(6/7)*sin(pi/28)*cos(3*pi/7)/5 + 2**(1/14)*3**(1/7)*5**(6/7)*sin(3*pi/7)*cos(pi/28)/5)"
            ]
          },
          "metadata": {
            "tags": []
          }
        },
        {
          "output_type": "display_data",
          "data": {
            "text/latex": "$\\displaystyle - \\frac{\\sqrt[14]{2} \\sqrt[7]{3} \\cdot 5^{\\frac{6}{7}} \\cos{\\left(\\frac{\\pi}{28} \\right)} \\cos{\\left(\\frac{\\pi}{7} \\right)}}{5} - \\frac{\\sqrt[14]{2} \\sqrt[7]{3} \\cdot 5^{\\frac{6}{7}} \\sin{\\left(\\frac{\\pi}{28} \\right)} \\sin{\\left(\\frac{\\pi}{7} \\right)}}{5} + i \\left(- \\frac{\\sqrt[14]{2} \\sqrt[7]{3} \\cdot 5^{\\frac{6}{7}} \\sin{\\left(\\frac{\\pi}{28} \\right)} \\cos{\\left(\\frac{\\pi}{7} \\right)}}{5} + \\frac{\\sqrt[14]{2} \\sqrt[7]{3} \\cdot 5^{\\frac{6}{7}} \\sin{\\left(\\frac{\\pi}{7} \\right)} \\cos{\\left(\\frac{\\pi}{28} \\right)}}{5}\\right)$",
            "text/plain": [
              "-2**(1/14)*3**(1/7)*5**(6/7)*cos(pi/28)*cos(pi/7)/5 - 2**(1/14)*3**(1/7)*5**(6/7)*sin(pi/28)*sin(pi/7)/5 + I*(-2**(1/14)*3**(1/7)*5**(6/7)*sin(pi/28)*cos(pi/7)/5 + 2**(1/14)*3**(1/7)*5**(6/7)*sin(pi/7)*cos(pi/28)/5)"
            ]
          },
          "metadata": {
            "tags": []
          }
        },
        {
          "output_type": "display_data",
          "data": {
            "text/latex": "$\\displaystyle - \\frac{\\sqrt[14]{2} \\sqrt[7]{3} \\cdot 5^{\\frac{6}{7}} \\cos{\\left(\\frac{\\pi}{28} \\right)} \\cos{\\left(\\frac{\\pi}{7} \\right)}}{5} + \\frac{\\sqrt[14]{2} \\sqrt[7]{3} \\cdot 5^{\\frac{6}{7}} \\sin{\\left(\\frac{\\pi}{28} \\right)} \\sin{\\left(\\frac{\\pi}{7} \\right)}}{5} + i \\left(- \\frac{\\sqrt[14]{2} \\sqrt[7]{3} \\cdot 5^{\\frac{6}{7}} \\sin{\\left(\\frac{\\pi}{7} \\right)} \\cos{\\left(\\frac{\\pi}{28} \\right)}}{5} - \\frac{\\sqrt[14]{2} \\sqrt[7]{3} \\cdot 5^{\\frac{6}{7}} \\sin{\\left(\\frac{\\pi}{28} \\right)} \\cos{\\left(\\frac{\\pi}{7} \\right)}}{5}\\right)$",
            "text/plain": [
              "-2**(1/14)*3**(1/7)*5**(6/7)*cos(pi/28)*cos(pi/7)/5 + 2**(1/14)*3**(1/7)*5**(6/7)*sin(pi/28)*sin(pi/7)/5 + I*(-2**(1/14)*3**(1/7)*5**(6/7)*sin(pi/7)*cos(pi/28)/5 - 2**(1/14)*3**(1/7)*5**(6/7)*sin(pi/28)*cos(pi/7)/5)"
            ]
          },
          "metadata": {
            "tags": []
          }
        },
        {
          "output_type": "display_data",
          "data": {
            "text/latex": "$\\displaystyle - \\frac{\\sqrt[14]{2} \\sqrt[7]{3} \\cdot 5^{\\frac{6}{7}} \\cos{\\left(\\frac{\\pi}{28} \\right)} \\cos{\\left(\\frac{3 \\pi}{7} \\right)}}{5} + \\frac{\\sqrt[14]{2} \\sqrt[7]{3} \\cdot 5^{\\frac{6}{7}} \\sin{\\left(\\frac{\\pi}{28} \\right)} \\sin{\\left(\\frac{3 \\pi}{7} \\right)}}{5} + i \\left(- \\frac{\\sqrt[14]{2} \\sqrt[7]{3} \\cdot 5^{\\frac{6}{7}} \\sin{\\left(\\frac{3 \\pi}{7} \\right)} \\cos{\\left(\\frac{\\pi}{28} \\right)}}{5} - \\frac{\\sqrt[14]{2} \\sqrt[7]{3} \\cdot 5^{\\frac{6}{7}} \\sin{\\left(\\frac{\\pi}{28} \\right)} \\cos{\\left(\\frac{3 \\pi}{7} \\right)}}{5}\\right)$",
            "text/plain": [
              "-2**(1/14)*3**(1/7)*5**(6/7)*cos(pi/28)*cos(3*pi/7)/5 + 2**(1/14)*3**(1/7)*5**(6/7)*sin(pi/28)*sin(3*pi/7)/5 + I*(-2**(1/14)*3**(1/7)*5**(6/7)*sin(3*pi/7)*cos(pi/28)/5 - 2**(1/14)*3**(1/7)*5**(6/7)*sin(pi/28)*cos(3*pi/7)/5)"
            ]
          },
          "metadata": {
            "tags": []
          }
        },
        {
          "output_type": "display_data",
          "data": {
            "text/latex": "$\\displaystyle \\frac{\\sqrt[14]{2} \\sqrt[7]{3} \\cdot 5^{\\frac{6}{7}} \\sin{\\left(\\frac{\\pi}{28} \\right)} \\sin{\\left(\\frac{2 \\pi}{7} \\right)}}{5} + \\frac{\\sqrt[14]{2} \\sqrt[7]{3} \\cdot 5^{\\frac{6}{7}} \\cos{\\left(\\frac{\\pi}{28} \\right)} \\cos{\\left(\\frac{2 \\pi}{7} \\right)}}{5} + i \\left(- \\frac{\\sqrt[14]{2} \\sqrt[7]{3} \\cdot 5^{\\frac{6}{7}} \\sin{\\left(\\frac{2 \\pi}{7} \\right)} \\cos{\\left(\\frac{\\pi}{28} \\right)}}{5} + \\frac{\\sqrt[14]{2} \\sqrt[7]{3} \\cdot 5^{\\frac{6}{7}} \\sin{\\left(\\frac{\\pi}{28} \\right)} \\cos{\\left(\\frac{2 \\pi}{7} \\right)}}{5}\\right)$",
            "text/plain": [
              "2**(1/14)*3**(1/7)*5**(6/7)*sin(pi/28)*sin(2*pi/7)/5 + 2**(1/14)*3**(1/7)*5**(6/7)*cos(pi/28)*cos(2*pi/7)/5 + I*(-2**(1/14)*3**(1/7)*5**(6/7)*sin(2*pi/7)*cos(pi/28)/5 + 2**(1/14)*3**(1/7)*5**(6/7)*sin(pi/28)*cos(2*pi/7)/5)"
            ]
          },
          "metadata": {
            "tags": []
          }
        }
      ]
    },
    {
      "cell_type": "code",
      "metadata": {
        "colab": {
          "base_uri": "https://localhost:8080/",
          "height": 296
        },
        "id": "8VWAH4j2ImXu",
        "outputId": "1aef8563-97ac-4fa4-f4a3-64bf4c962ab4"
      },
      "source": [
        "roots_x = [sympy.re(item) for item in roots_list]\n",
        "roots_y = [sympy.im(item) for item in roots_list]\n",
        "plt.scatter(roots_x, roots_y)\n",
        "for k, x_coord in enumerate(roots_x):\n",
        " plt.annotate('$A_' + str(k) + '$',\n",
        " xy=(x_coord, roots_y[k]),\n",
        " xytext=(x_coord + 0.05, roots_y[k] - 0.05))\n",
        "plt.axis('equal')\n",
        "plt.xlabel(\"Re\")\n",
        "plt.ylabel(\"Im\")\n",
        "plt.xlim(-2, 2)\n",
        "plt.ylim(-1.5, 1.5)"
      ],
      "execution_count": null,
      "outputs": [
        {
          "output_type": "execute_result",
          "data": {
            "text/plain": [
              "(-1.5, 1.5)"
            ]
          },
          "metadata": {
            "tags": []
          },
          "execution_count": 7
        },
        {
          "output_type": "display_data",
          "data": {
            "image/png": "[encoded data removed]",
            "text/plain": [
              "<Figure size 432x288 with 1 Axes>"
            ]
          },
          "metadata": {
            "tags": [],
            "needs_background": "light"
          }
        }
      ]
    },
    {
      "cell_type": "markdown",
      "metadata": {
        "id": "Mn5lYJDzDald"
      },
      "source": [
        "### Задание  4.\n",
        "Изобразить на координатной плоскости точки, соответствующие $z_4 = - \\frac{3}{5} + \\frac{4}{5}i$ и $\\bar{z_4}$, подписать $z_4$ тригонометрической формой, $\\bar{z_4}$ - экспоненциальной ($z = r e^{i\\varphi}$, $r$ и $\\varphi$ такие же, как в тригонометрической форме)."
      ]
    },
    {
      "cell_type": "code",
      "metadata": {
        "id": "PJGLojTQL7iy"
      },
      "source": [
        "from sympy import conjugate, E\n",
        "from sympy.functions import Abs, arg"
      ],
      "execution_count": null,
      "outputs": []
    },
    {
      "cell_type": "code",
      "metadata": {
        "id": "d9ozq3LZDale",
        "colab": {
          "base_uri": "https://localhost:8080/",
          "height": 296
        },
        "outputId": "f88a4b38-7307-440e-afac-b413b3e055e3"
      },
      "source": [
        "z4 = -S(3) / 5 + S(4) / 5 * I\n",
        "z4_ = conjugate(z4)\n",
        "roots = (z4, z4_)\n",
        "roots_x = [sympy.re(item) for item in roots]\n",
        "roots_y = [sympy.im(item) for item in roots]\n",
        "plt.scatter(roots_x, roots_y)\n",
        "plt.annotate('$Z_4 = {0}(i sin({1}) + cos({1}))$'.format(Abs(z4), sympy.latex(arg(z4))),\n",
        "  xy=(sympy.re(z4), sympy.im(z4)),\n",
        "  xytext=(sympy.re(z4) + 0.05, sympy.im(z4) - 0.05))\n",
        "plt.annotate('$\\overline{Z_4} = ' + sympy.latex(Abs(z4_)) + 'e^{i' + sympy.latex(arg(z4_)) + '}$',\n",
        "  xy=(sympy.re(z4_), sympy.im(z4_)),\n",
        "  xytext=(sympy.re(z4_) + 0.05, sympy.im(z4_) - 0.05))\n",
        "plt.axis('equal')\n",
        "plt.xlabel(\"Re\")\n",
        "plt.ylabel(\"Im\")\n",
        "plt.xlim(-2, 2)\n",
        "plt.ylim(-1.5, 1.5)"
      ],
      "execution_count": null,
      "outputs": [
        {
          "output_type": "execute_result",
          "data": {
            "text/plain": [
              "(-1.5, 1.5)"
            ]
          },
          "metadata": {
            "tags": []
          },
          "execution_count": 9
        },
        {
          "output_type": "display_data",
          "data": {
            "image/png": "[encoded data removed]",
            "text/plain": [
              "<Figure size 432x288 with 1 Axes>"
            ]
          },
          "metadata": {
            "tags": [],
            "needs_background": "light"
          }
        }
      ]
    },
    {
      "cell_type": "markdown",
      "metadata": {
        "id": "E_W8uFOnDale"
      },
      "source": [
        "#### Задание  5.\n",
        "Изобразить корни 4 степени числа $5e^{\\frac{i\\pi}{8}}$, в полярной системе координат, подписи к точкам - аргументы (углы) сответствующих комплексных чисел. \n",
        "\n",
        "Число вводить в тригонометрической форме, для получения корней комплексного числа $z = r(\\cos(\\varphi) + \\sin(\\varphi))$ использовать формулу \n",
        "$\\sqrt[n]{z} = \\sqrt[n]{r}(\\cos(\\varphi_k) + i \\sin(\\varphi_k))$, \n",
        "$\\varphi_k = \\frac{\\varphi + 2\\pi k}{n}$, $k = 0, ..., n$. \n",
        "\n",
        "Вывести алгебраическую форму полученных корней на экран и сравнить с результатом, полученным с помощью sympy.root (с использованием sympy.expand_complex для упрощения выражения). Аналитическое представление оказывается разным.\n",
        "\n",
        "Для каждого корня найти разность в формате float модуля разности корней, полученных двумя способами (т.е. нужно для каждой пары одинаковых корней, полученных двумя способами находить разность корней, вычислять модуль sympy.Abs этой разности и преобразовывать результат в формат float)."
      ]
    },
    {
      "cell_type": "code",
      "metadata": {
        "id": "XNGIoAUFHnob"
      },
      "source": [
        "from sympy import pi, cos, sin"
      ],
      "execution_count": null,
      "outputs": []
    },
    {
      "cell_type": "code",
      "metadata": {
        "colab": {
          "base_uri": "https://localhost:8080/",
          "height": 141
        },
        "id": "3pg6XpK6H64M",
        "outputId": "b1bc2f2f-aaab-451e-a3ea-d897377d89f5"
      },
      "source": [
        "r = 5\n",
        "phi = I * pi / 8\n",
        "sum = []\n",
        "n = 4\n",
        "for k in range(0, n):\n",
        "  root = r ** (1 / n) * (cos((phi + 2 * pi * k) / n) + \n",
        "                         I * sin((phi + 2 * pi * k) / n))\n",
        "  sum.append(root)\n",
        "display(*sum)"
      ],
      "execution_count": null,
      "outputs": [
        {
          "output_type": "display_data",
          "data": {
            "text/latex": "$\\displaystyle - 1.49534878122122 \\sinh{\\left(\\frac{\\pi}{32} \\right)} + 1.49534878122122 \\cosh{\\left(\\frac{\\pi}{32} \\right)}$",
            "text/plain": [
              "-1.49534878122122*sinh(pi/32) + 1.49534878122122*cosh(pi/32)"
            ]
          },
          "metadata": {
            "tags": []
          }
        },
        {
          "output_type": "display_data",
          "data": {
            "text/latex": "$\\displaystyle - 1.49534878122122 i \\sinh{\\left(\\frac{\\pi}{32} \\right)} + 1.49534878122122 i \\cosh{\\left(\\frac{\\pi}{32} \\right)}$",
            "text/plain": [
              "-1.49534878122122*I*sinh(pi/32) + 1.49534878122122*I*cosh(pi/32)"
            ]
          },
          "metadata": {
            "tags": []
          }
        },
        {
          "output_type": "display_data",
          "data": {
            "text/latex": "$\\displaystyle - 1.49534878122122 \\cosh{\\left(\\frac{\\pi}{32} \\right)} + 1.49534878122122 \\sinh{\\left(\\frac{\\pi}{32} \\right)}$",
            "text/plain": [
              "-1.49534878122122*cosh(pi/32) + 1.49534878122122*sinh(pi/32)"
            ]
          },
          "metadata": {
            "tags": []
          }
        },
        {
          "output_type": "display_data",
          "data": {
            "text/latex": "$\\displaystyle - 1.49534878122122 i \\cosh{\\left(\\frac{\\pi}{32} \\right)} + 1.49534878122122 i \\sinh{\\left(\\frac{\\pi}{32} \\right)}$",
            "text/plain": [
              "-1.49534878122122*I*cosh(pi/32) + 1.49534878122122*I*sinh(pi/32)"
            ]
          },
          "metadata": {
            "tags": []
          }
        }
      ]
    },
    {
      "cell_type": "code",
      "metadata": {
        "colab": {
          "base_uri": "https://localhost:8080/",
          "height": 109
        },
        "id": "eSyJ8k_2HLLG",
        "outputId": "04267e69-f32d-4121-eeed-14b98d80cdf9"
      },
      "source": [
        "n = 4\n",
        "sum1 = []\n",
        "for k in range(n):\n",
        "  sum1.append(sympy.root(5 * E ** (I * pi / 8), n, k))\n",
        "display(*sum1)"
      ],
      "execution_count": null,
      "outputs": [
        {
          "output_type": "display_data",
          "data": {
            "text/latex": "$\\displaystyle \\sqrt[4]{5} e^{\\frac{i \\pi}{32}}$",
            "text/plain": [
              "5**(1/4)*exp(I*pi/32)"
            ]
          },
          "metadata": {
            "tags": []
          }
        },
        {
          "output_type": "display_data",
          "data": {
            "text/latex": "$\\displaystyle \\sqrt[4]{5} i e^{\\frac{i \\pi}{32}}$",
            "text/plain": [
              "5**(1/4)*I*exp(I*pi/32)"
            ]
          },
          "metadata": {
            "tags": []
          }
        },
        {
          "output_type": "display_data",
          "data": {
            "text/latex": "$\\displaystyle - \\sqrt[4]{5} e^{\\frac{i \\pi}{32}}$",
            "text/plain": [
              "-5**(1/4)*exp(I*pi/32)"
            ]
          },
          "metadata": {
            "tags": []
          }
        },
        {
          "output_type": "display_data",
          "data": {
            "text/latex": "$\\displaystyle - \\sqrt[4]{5} i e^{\\frac{i \\pi}{32}}$",
            "text/plain": [
              "-5**(1/4)*I*exp(I*pi/32)"
            ]
          },
          "metadata": {
            "tags": []
          }
        }
      ]
    },
    {
      "cell_type": "code",
      "metadata": {
        "colab": {
          "base_uri": "https://localhost:8080/",
          "height": 222
        },
        "id": "r7GBJKk1Hu-Y",
        "outputId": "d42c5f8e-da75-41c8-f5a9-ee0f45c81e99"
      },
      "source": [
        "display(*[Abs((sum[i] - sum1[i]).simplify()) for i in range(len(sum))])"
      ],
      "execution_count": null,
      "outputs": [
        {
          "output_type": "display_data",
          "data": {
            "text/latex": "$\\displaystyle \\sqrt{- 1.49534878122122 \\sqrt[4]{5} \\cos{\\left(\\frac{\\pi}{32} \\right)} \\cosh{\\left(\\frac{\\pi}{32} \\right)} - 4.47213595499958 \\sinh{\\left(\\frac{\\pi}{32} \\right)} \\cosh{\\left(\\frac{\\pi}{32} \\right)} + 2.23606797749979 \\sinh^{2}{\\left(\\frac{\\pi}{32} \\right)} + 1.49534878122122 \\sqrt[4]{5} \\cos{\\left(\\frac{\\pi}{32} \\right)} \\sinh{\\left(\\frac{\\pi}{32} \\right)} + 2.23606797749979 \\cosh^{2}{\\left(\\frac{\\pi}{32} \\right)} - 1.49534878122122 \\sqrt[32]{-1} \\sqrt[4]{5} \\cosh{\\left(\\frac{\\pi}{32} \\right)} - \\left(-1\\right)^{\\frac{17}{32}} \\sqrt{5} \\sin{\\left(\\frac{\\pi}{32} \\right)} - 1.49534878122122 \\sqrt[4]{5} i \\sin{\\left(\\frac{\\pi}{32} \\right)} \\sinh{\\left(\\frac{\\pi}{32} \\right)} + 1.49534878122122 \\sqrt[32]{-1} \\sqrt[4]{5} \\sinh{\\left(\\frac{\\pi}{32} \\right)} + \\sqrt[32]{-1} \\sqrt{5} \\cos{\\left(\\frac{\\pi}{32} \\right)} + 1.49534878122122 \\sqrt[4]{5} i \\sin{\\left(\\frac{\\pi}{32} \\right)} \\cosh{\\left(\\frac{\\pi}{32} \\right)}}$",
            "text/plain": [
              "sqrt(-1.49534878122122*5**(1/4)*cos(pi/32)*cosh(pi/32) - 4.47213595499958*sinh(pi/32)*cosh(pi/32) + 2.23606797749979*sinh(pi/32)**2 + 1.49534878122122*5**(1/4)*cos(pi/32)*sinh(pi/32) + 2.23606797749979*cosh(pi/32)**2 - 1.49534878122122*(-1)**(1/32)*5**(1/4)*cosh(pi/32) - (-1)**(17/32)*sqrt(5)*sin(pi/32) - 1.49534878122122*5**(1/4)*I*sin(pi/32)*sinh(pi/32) + 1.49534878122122*(-1)**(1/32)*5**(1/4)*sinh(pi/32) + (-1)**(1/32)*sqrt(5)*cos(pi/32) + 1.49534878122122*5**(1/4)*I*sin(pi/32)*cosh(pi/32))"
            ]
          },
          "metadata": {
            "tags": []
          }
        },
        {
          "output_type": "display_data",
          "data": {
            "text/latex": "$\\displaystyle \\sqrt{- \\frac{1.49534878122122 \\sqrt[4]{5} \\sin{\\left(\\frac{15 \\pi}{32} \\right)}}{e^{\\frac{\\pi}{32}}} + \\frac{2.23606797749979}{e^{\\frac{\\pi}{16}}} - \\left(-1\\right)^{\\frac{17}{32}} \\sqrt{5} \\cos{\\left(\\frac{15 \\pi}{32} \\right)} - \\frac{1.49534878122122 \\sqrt[32]{-1} \\sqrt[4]{5}}{e^{\\frac{\\pi}{32}}} + \\frac{1.49534878122122 \\sqrt[4]{5} i \\cos{\\left(\\frac{15 \\pi}{32} \\right)}}{e^{\\frac{\\pi}{32}}} + \\sqrt[32]{-1} \\sqrt{5} \\sin{\\left(\\frac{15 \\pi}{32} \\right)}}$",
            "text/plain": [
              "sqrt(-1.49534878122122*5**(1/4)*exp(-pi/32)*sin(15*pi/32) + 2.23606797749979*exp(-pi/16) - (-1)**(17/32)*sqrt(5)*cos(15*pi/32) - 1.49534878122122*(-1)**(1/32)*5**(1/4)*exp(-pi/32) + 1.49534878122122*5**(1/4)*I*exp(-pi/32)*cos(15*pi/32) + (-1)**(1/32)*sqrt(5)*sin(15*pi/32))"
            ]
          },
          "metadata": {
            "tags": []
          }
        },
        {
          "output_type": "display_data",
          "data": {
            "text/latex": "$\\displaystyle \\sqrt{- 1.49534878122122 \\sqrt[4]{5} \\cos{\\left(\\frac{\\pi}{32} \\right)} \\cosh{\\left(\\frac{\\pi}{32} \\right)} - 4.47213595499958 \\sinh{\\left(\\frac{\\pi}{32} \\right)} \\cosh{\\left(\\frac{\\pi}{32} \\right)} + 2.23606797749979 \\sinh^{2}{\\left(\\frac{\\pi}{32} \\right)} + 1.49534878122122 \\sqrt[4]{5} \\cos{\\left(\\frac{\\pi}{32} \\right)} \\sinh{\\left(\\frac{\\pi}{32} \\right)} + 2.23606797749979 \\cosh^{2}{\\left(\\frac{\\pi}{32} \\right)} - 1.49534878122122 \\sqrt[32]{-1} \\sqrt[4]{5} \\cosh{\\left(\\frac{\\pi}{32} \\right)} - \\left(-1\\right)^{\\frac{17}{32}} \\sqrt{5} \\sin{\\left(\\frac{\\pi}{32} \\right)} - 1.49534878122122 \\sqrt[4]{5} i \\sin{\\left(\\frac{\\pi}{32} \\right)} \\sinh{\\left(\\frac{\\pi}{32} \\right)} + 1.49534878122122 \\sqrt[32]{-1} \\sqrt[4]{5} \\sinh{\\left(\\frac{\\pi}{32} \\right)} + \\sqrt[32]{-1} \\sqrt{5} \\cos{\\left(\\frac{\\pi}{32} \\right)} + 1.49534878122122 \\sqrt[4]{5} i \\sin{\\left(\\frac{\\pi}{32} \\right)} \\cosh{\\left(\\frac{\\pi}{32} \\right)}}$",
            "text/plain": [
              "sqrt(-1.49534878122122*5**(1/4)*cos(pi/32)*cosh(pi/32) - 4.47213595499958*sinh(pi/32)*cosh(pi/32) + 2.23606797749979*sinh(pi/32)**2 + 1.49534878122122*5**(1/4)*cos(pi/32)*sinh(pi/32) + 2.23606797749979*cosh(pi/32)**2 - 1.49534878122122*(-1)**(1/32)*5**(1/4)*cosh(pi/32) - (-1)**(17/32)*sqrt(5)*sin(pi/32) - 1.49534878122122*5**(1/4)*I*sin(pi/32)*sinh(pi/32) + 1.49534878122122*(-1)**(1/32)*5**(1/4)*sinh(pi/32) + (-1)**(1/32)*sqrt(5)*cos(pi/32) + 1.49534878122122*5**(1/4)*I*sin(pi/32)*cosh(pi/32))"
            ]
          },
          "metadata": {
            "tags": []
          }
        },
        {
          "output_type": "display_data",
          "data": {
            "text/latex": "$\\displaystyle \\sqrt{- \\frac{1.49534878122122 \\sqrt[4]{5} \\sin{\\left(\\frac{15 \\pi}{32} \\right)}}{e^{\\frac{\\pi}{32}}} + \\frac{2.23606797749979}{e^{\\frac{\\pi}{16}}} - \\left(-1\\right)^{\\frac{17}{32}} \\sqrt{5} \\cos{\\left(\\frac{15 \\pi}{32} \\right)} - \\frac{1.49534878122122 \\sqrt[32]{-1} \\sqrt[4]{5}}{e^{\\frac{\\pi}{32}}} + \\frac{1.49534878122122 \\sqrt[4]{5} i \\cos{\\left(\\frac{15 \\pi}{32} \\right)}}{e^{\\frac{\\pi}{32}}} + \\sqrt[32]{-1} \\sqrt{5} \\sin{\\left(\\frac{15 \\pi}{32} \\right)}}$",
            "text/plain": [
              "sqrt(-1.49534878122122*5**(1/4)*exp(-pi/32)*sin(15*pi/32) + 2.23606797749979*exp(-pi/16) - (-1)**(17/32)*sqrt(5)*cos(15*pi/32) - 1.49534878122122*(-1)**(1/32)*5**(1/4)*exp(-pi/32) + 1.49534878122122*5**(1/4)*I*exp(-pi/32)*cos(15*pi/32) + (-1)**(1/32)*sqrt(5)*sin(15*pi/32))"
            ]
          },
          "metadata": {
            "tags": []
          }
        }
      ]
    },
    {
      "cell_type": "code",
      "metadata": {
        "colab": {
          "base_uri": "https://localhost:8080/",
          "height": 286
        },
        "id": "39zM3365KVNt",
        "outputId": "4c41f634-5cf5-4bc8-f27c-7eb73abbc3bb"
      },
      "source": [
        "n = 4\n",
        "phi = pi / 8\n",
        "names = ('K', 'L', 'M', 'N', 'P', 'Q', 'R')\n",
        "arg_list = [(phi + 2 * pi * k) / n for k in range(n)]\n",
        "r_list = [r ** (1 / n) for k in range(n)]\n",
        "plt.polar(arg_list, r_list, 'go')\n",
        "for k, phi_k in enumerate(arg_list):\n",
        " plt.annotate('$' + sympy.latex(phi_k) + '$',\n",
        " xy=(phi_k, r_list[k]),\n",
        " xytext=(phi_k + 0.15, r_list[k]))"
      ],
      "execution_count": null,
      "outputs": [
        {
          "output_type": "display_data",
          "data": {
            "image/png": "[encoded data removed]",
            "text/plain": [
              "<Figure size 432x288 with 1 Axes>"
            ]
          },
          "metadata": {
            "tags": [],
            "needs_background": "light"
          }
        }
      ]
    },
    {
      "cell_type": "markdown",
      "metadata": {
        "id": "A5H5oeXtDale"
      },
      "source": [
        "### Индивидуальное задание.\n",
        "Решить уравнение.\n",
        "Для получения корней использовать sympy.roots.\n",
        "Корни уравнения вывести на экран в алгебраической, тригонометрической и экспоненциальной форме."
      ]
    },
    {
      "cell_type": "markdown",
      "metadata": {
        "id": "s_HYRGykQynr"
      },
      "source": [
        "$(-2 - 8 i)x^2 + (70 + 110 i)x + -396 - 326 i = 0$"
      ]
    },
    {
      "cell_type": "code",
      "metadata": {
        "id": "0BlP9ETK-6K3"
      },
      "source": [
        "a = complex(-2, -8)\n",
        "b = complex(70, 110)\n",
        "c = complex(-396, -326)"
      ],
      "execution_count": null,
      "outputs": []
    },
    {
      "cell_type": "code",
      "metadata": {
        "id": "C3hnqVAggTt1"
      },
      "source": [
        "from sympy.abc import x"
      ],
      "execution_count": null,
      "outputs": []
    },
    {
      "cell_type": "code",
      "metadata": {
        "colab": {
          "base_uri": "https://localhost:8080/",
          "height": 59
        },
        "id": "4v9jjsNB_bOx",
        "outputId": "170e2625-e5e1-4dc7-fe20-5489e0fbad1e"
      },
      "source": [
        "display(*[expand_complex(root) for root in sympy.roots(a * x ** 2 + b * x + c)])"
      ],
      "execution_count": null,
      "outputs": [
        {
          "output_type": "display_data",
          "data": {
            "text/latex": "$\\displaystyle 8.0 - 3.0 i$",
            "text/plain": [
              "8.0 - 3.0*I"
            ]
          },
          "metadata": {
            "tags": []
          }
        },
        {
          "output_type": "display_data",
          "data": {
            "text/latex": "$\\displaystyle 7.0 - 2.0 i$",
            "text/plain": [
              "7.0 - 2.0*I"
            ]
          },
          "metadata": {
            "tags": []
          }
        }
      ]
    },
    {
      "cell_type": "code",
      "metadata": {
        "colab": {
          "base_uri": "https://localhost:8080/",
          "height": 213
        },
        "id": "Zz8-v2N4DUTu",
        "outputId": "5ae8a530-da52-40a9-bf27-58afae7849d5"
      },
      "source": [
        "for root in sympy.roots(a * x ** 2 + b * x + c):\n",
        "  r0 = sympy.functions.Abs(root)\n",
        "  phi0 = sympy.functions.arg(root)\n",
        "  r, phi = sympy.symbols('r phi')\n",
        "  z7_trig = r*(sympy.cos(phi) + sympy.sin(phi)*I)\n",
        "  display(z7_trig)\n",
        "  display('r =', expand_complex(r0), ' phi =', expand_complex(phi0))"
      ],
      "execution_count": null,
      "outputs": [
        {
          "output_type": "display_data",
          "data": {
            "text/latex": "$\\displaystyle r \\left(i \\sin{\\left(\\phi \\right)} + \\cos{\\left(\\phi \\right)}\\right)$",
            "text/plain": [
              "r*(I*sin(phi) + cos(phi))"
            ]
          },
          "metadata": {
            "tags": []
          }
        },
        {
          "output_type": "display_data",
          "data": {
            "application/vnd.google.colaboratory.intrinsic+json": {
              "type": "string"
            },
            "text/plain": [
              "'r ='"
            ]
          },
          "metadata": {
            "tags": []
          }
        },
        {
          "output_type": "display_data",
          "data": {
            "text/latex": "$\\displaystyle 8.54400374531753$",
            "text/plain": [
              "8.54400374531753"
            ]
          },
          "metadata": {
            "tags": []
          }
        },
        {
          "output_type": "display_data",
          "data": {
            "application/vnd.google.colaboratory.intrinsic+json": {
              "type": "string"
            },
            "text/plain": [
              "' phi ='"
            ]
          },
          "metadata": {
            "tags": []
          }
        },
        {
          "output_type": "display_data",
          "data": {
            "text/latex": "$\\displaystyle -0.358770670270572$",
            "text/plain": [
              "-0.358770670270572"
            ]
          },
          "metadata": {
            "tags": []
          }
        },
        {
          "output_type": "display_data",
          "data": {
            "text/latex": "$\\displaystyle r \\left(i \\sin{\\left(\\phi \\right)} + \\cos{\\left(\\phi \\right)}\\right)$",
            "text/plain": [
              "r*(I*sin(phi) + cos(phi))"
            ]
          },
          "metadata": {
            "tags": []
          }
        },
        {
          "output_type": "display_data",
          "data": {
            "application/vnd.google.colaboratory.intrinsic+json": {
              "type": "string"
            },
            "text/plain": [
              "'r ='"
            ]
          },
          "metadata": {
            "tags": []
          }
        },
        {
          "output_type": "display_data",
          "data": {
            "text/latex": "$\\displaystyle 7.28010988928052 - 3.05001721542661 \\cdot 10^{-17} i$",
            "text/plain": [
              "7.28010988928052 - 3.05001721542661e-17*I"
            ]
          },
          "metadata": {
            "tags": []
          }
        },
        {
          "output_type": "display_data",
          "data": {
            "application/vnd.google.colaboratory.intrinsic+json": {
              "type": "string"
            },
            "text/plain": [
              "' phi ='"
            ]
          },
          "metadata": {
            "tags": []
          }
        },
        {
          "output_type": "display_data",
          "data": {
            "text/latex": "$\\displaystyle -0.278299659005111$",
            "text/plain": [
              "-0.278299659005111"
            ]
          },
          "metadata": {
            "tags": []
          }
        }
      ]
    },
    {
      "cell_type": "code",
      "metadata": {
        "colab": {
          "base_uri": "https://localhost:8080/",
          "height": 234
        },
        "id": "cPYy4CooFzc2",
        "outputId": "fb79d1f5-c42f-41d0-d41b-32317b6ec276"
      },
      "source": [
        "for root in sympy.roots(a * x ** 2 + b * x + c):\n",
        "  r0 = sympy.functions.Abs(root)\n",
        "  phi0 = sympy.functions.arg(root)\n",
        "  r, phi = sympy.symbols('r phi')\n",
        "  z7_trig = r * E ** (I * phi)\n",
        "  display(z7_trig)\n",
        "  display('r =', r0, ' phi =', phi0)"
      ],
      "execution_count": null,
      "outputs": [
        {
          "output_type": "display_data",
          "data": {
            "text/latex": "$\\displaystyle r e^{i \\phi}$",
            "text/plain": [
              "r*exp(I*phi)"
            ]
          },
          "metadata": {
            "tags": []
          }
        },
        {
          "output_type": "display_data",
          "data": {
            "application/vnd.google.colaboratory.intrinsic+json": {
              "type": "string"
            },
            "text/plain": [
              "'r ='"
            ]
          },
          "metadata": {
            "tags": []
          }
        },
        {
          "output_type": "display_data",
          "data": {
            "text/latex": "$\\displaystyle \\sqrt{67.5 - 0.426470588235294 i \\sqrt{64.0 + 120.0 i} + 0.294117647058823 \\sqrt{64.0 + 120.0 i} + 2.5 i}$",
            "text/plain": [
              "sqrt(67.5 - 0.426470588235294*I*sqrt(64.0 + 120.0*I) + 0.294117647058823*sqrt(64.0 + 120.0*I) + 2.5*I)"
            ]
          },
          "metadata": {
            "tags": []
          }
        },
        {
          "output_type": "display_data",
          "data": {
            "application/vnd.google.colaboratory.intrinsic+json": {
              "type": "string"
            },
            "text/plain": [
              "' phi ='"
            ]
          },
          "metadata": {
            "tags": []
          }
        },
        {
          "output_type": "display_data",
          "data": {
            "text/latex": "$\\displaystyle -0.358770670270572$",
            "text/plain": [
              "-0.358770670270572"
            ]
          },
          "metadata": {
            "tags": []
          }
        },
        {
          "output_type": "display_data",
          "data": {
            "text/latex": "$\\displaystyle r e^{i \\phi}$",
            "text/plain": [
              "r*exp(I*phi)"
            ]
          },
          "metadata": {
            "tags": []
          }
        },
        {
          "output_type": "display_data",
          "data": {
            "application/vnd.google.colaboratory.intrinsic+json": {
              "type": "string"
            },
            "text/plain": [
              "'r ='"
            ]
          },
          "metadata": {
            "tags": []
          }
        },
        {
          "output_type": "display_data",
          "data": {
            "text/latex": "$\\displaystyle \\sqrt{57.5 - 2.5 i - 0.220588235294118 \\sqrt{64.0 + 120.0 i} + 0.382352941176471 i \\sqrt{64.0 + 120.0 i}}$",
            "text/plain": [
              "sqrt(57.5 - 2.5*I - 0.220588235294118*sqrt(64.0 + 120.0*I) + 0.382352941176471*I*sqrt(64.0 + 120.0*I))"
            ]
          },
          "metadata": {
            "tags": []
          }
        },
        {
          "output_type": "display_data",
          "data": {
            "application/vnd.google.colaboratory.intrinsic+json": {
              "type": "string"
            },
            "text/plain": [
              "' phi ='"
            ]
          },
          "metadata": {
            "tags": []
          }
        },
        {
          "output_type": "display_data",
          "data": {
            "text/latex": "$\\displaystyle -0.278299659005111$",
            "text/plain": [
              "-0.278299659005111"
            ]
          },
          "metadata": {
            "tags": []
          }
        }
      ]
    }
  ]
}