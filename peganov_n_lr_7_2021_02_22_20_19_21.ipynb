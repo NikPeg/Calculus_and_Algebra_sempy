{
  "nbformat": 4,
  "nbformat_minor": 0,
  "metadata": {
    "kernelspec": {
      "display_name": "Python 3",
      "language": "python",
      "name": "python3"
    },
    "language_info": {
      "codemirror_mode": {
        "name": "ipython",
        "version": 3
      },
      "file_extension": ".py",
      "mimetype": "text/x-python",
      "name": "python",
      "nbconvert_exporter": "python",
      "pygments_lexer": "ipython3",
      "version": "3.7.3"
    },
    "colab": {
      "provenance": []
    }
  },
  "cells": [
    {
      "cell_type": "code",
      "metadata": {
        "id": "mB7cQ3knwWzD"
      },
      "source": [
        "import sympy\n",
        "from sympy import  Point, Line, Plane, Point3D, solve, solveset\n",
        "sympy.init_printing(use_unicode=False, wrap_line=False, no_global=True)"
      ],
      "execution_count": null,
      "outputs": []
    },
    {
      "cell_type": "markdown",
      "metadata": {
        "id": "GVXbalkWwWzf"
      },
      "source": [
        "# Лабораторная работа 7\n",
        "# Алгебра\n",
        "https://docs.sympy.org/latest/search.html?q=geometry\n",
        "\n",
        "## Прямые и плоскости в пространстве. Модуль Geometry\n",
        "### Задание 1.\n",
        "Даны точки: $A(3, -2, 3)$,  $B(-2, 3, 1)$, $C(1, -8, 6)$, $D(1, 2, 4)$, $F(-7, 8, -1)$.\n",
        "\n",
        "Проверить, различны ли прямые $AB$ и $AF$, $BC$ и $CD$, $ABC$ и $ACF$, $ABC$ и $ACD$. "
      ]
    },
    {
      "cell_type": "code",
      "metadata": {
        "id": "3wkyHK4AwWzh"
      },
      "source": [
        "A = Point(3, -2, 3)\n",
        "B = Point(-2, 3, 1)\n",
        "C = Point(1, -8, 6)\n",
        "D = Point(1, 2, 4)\n",
        "F = Point(-7, 8, -1)\n",
        "AB = Line(A, B)\n",
        "AF = Line(A, F)\n",
        "BC = Line(B, C)\n",
        "CD = Line(C, D)\n",
        "ABC = Plane(A, B, C)\n",
        "ACF = Plane(A, C, F)\n",
        "ACD = Plane(A, C, D)"
      ],
      "execution_count": null,
      "outputs": []
    },
    {
      "cell_type": "code",
      "metadata": {
        "colab": {
          "base_uri": "https://localhost:8080/"
        },
        "id": "UP1HeXcCxohu",
        "outputId": "42da97ca-65b3-483e-f77e-627b6ee94b9e"
      },
      "source": [
        "print(AB.is_similar(AF),\n",
        "BC.is_similar(CD),\n",
        "ABC.is_coplanar(ACF),\n",
        "ABC.is_coplanar(ACD))"
      ],
      "execution_count": null,
      "outputs": [
        {
          "output_type": "stream",
          "text": [
            "True False True False\n"
          ],
          "name": "stdout"
        }
      ]
    },
    {
      "cell_type": "markdown",
      "metadata": {
        "id": "ulDwpzs7wWzh"
      },
      "source": [
        "###  Задание 2\n",
        "Вывести на экран уравнение обеих биссектрис двугранных углов, образованных при пересечении плоскостей АВС и АСD.\n",
        "\n",
        "Указание: расстояние от любой точки на биссектрисе до каждой из плоскостей АВС и АСD одинаково, полученное из этого уравнение описывает обе биссектрисы, упрощать его не нужно."
      ]
    },
    {
      "cell_type": "code",
      "metadata": {
        "colab": {
          "base_uri": "https://localhost:8080/",
          "height": 41
        },
        "id": "s2ZerjrEwWzi",
        "outputId": "04bed2f3-0c68-4d48-d0e2-bf48d96c3281"
      },
      "source": [
        "from sympy.abc import x, y, z\n",
        "P = Point(x, y, z)\n",
        "sympy.Eq(ABC.distance(P), ACD.distance(P))"
      ],
      "execution_count": null,
      "outputs": [
        {
          "output_type": "execute_result",
          "data": {
            "image/png": "[encoded data removed]",
            "text/latex": "$$\\frac{\\sqrt{1970}}{1970} \\left|{3 x + 19 y + 40 z - 91}\\right| = \\frac{\\sqrt{185}}{370} \\left|{18 x + 4 y + 20 z - 106}\\right|$$",
            "text/plain": [
              "  ______                              _____                          \n",
              "\\/ 1970 *|3*x + 19*y + 40*z - 91|   \\/ 185 *|18*x + 4*y + 20*z - 106|\n",
              "--------------------------------- = ---------------------------------\n",
              "               1970                                370               "
            ]
          },
          "metadata": {
            "tags": []
          },
          "execution_count": 4
        }
      ]
    },
    {
      "cell_type": "markdown",
      "metadata": {
        "id": "FpCBrkSDwWzj"
      },
      "source": [
        "###  Задание 3\n",
        "Построить плоскость, перпендикулярную плоскости АВС, проходящую через D и начало координат. Найти линию пересечения АВС и этой плоскости."
      ]
    },
    {
      "cell_type": "code",
      "metadata": {
        "id": "SLz6JbSnwWzk",
        "colab": {
          "base_uri": "https://localhost:8080/",
          "height": 38
        },
        "outputId": "32d4b60f-c569-4695-b0f5-82754e9f212e"
      },
      "source": [
        "from sympy import Matrix, Point, Line, Plane, Point3D\n",
        "O1 = Point(0, 0, 0)\n",
        "plane = ABC.perpendicular_plane(D, O1)\n",
        "line = plane.intersection(ABC)\n",
        "line"
      ],
      "execution_count": null,
      "outputs": [
        {
          "output_type": "execute_result",
          "data": {
            "image/png": "[encoded data removed]",
            "text/latex": "$$\\left [ Line3D(Point3D(637/40, 91/40, 0), Point3D(55317/40, 4931/40, -160))\\right ]$$",
            "text/plain": [
              "[Line3D(Point3D(637/40, 91/40, 0), Point3D(55317/40, 4931/40, -160))]"
            ]
          },
          "metadata": {
            "tags": []
          },
          "execution_count": 5
        }
      ]
    },
    {
      "cell_type": "markdown",
      "metadata": {
        "id": "uYV9FF43wWzl"
      },
      "source": [
        "###  Задание 4\n",
        "Найти пересечение плоскости АВС и прямой DK, где K(3,-2, 3)."
      ]
    },
    {
      "cell_type": "code",
      "metadata": {
        "id": "-XYB1-1ZwWzm",
        "colab": {
          "base_uri": "https://localhost:8080/",
          "height": 38
        },
        "outputId": "de45bdb6-d1f4-4ee1-f60b-d62d54100e0f"
      },
      "source": [
        "K = Point(3, -2, 3)\n",
        "DK = Line(D, K)\n",
        "T = ABC.intersection(DK)[0]\n",
        "T"
      ],
      "execution_count": null,
      "outputs": [
        {
          "output_type": "execute_result",
          "data": {
            "image/png": "[encoded data removed]",
            "text/latex": "$$Point3D(3, -2, 3)$$",
            "text/plain": [
              "Point3D(3, -2, 3)"
            ]
          },
          "metadata": {
            "tags": []
          },
          "execution_count": 20
        }
      ]
    },
    {
      "cell_type": "markdown",
      "metadata": {
        "id": "n6mwUf5rwWzq"
      },
      "source": [
        "###  Задание 5\n",
        "Проверить, что точка пересечения из Задания 4 лежит в плоскости AFC."
      ]
    },
    {
      "cell_type": "code",
      "metadata": {
        "id": "TscskAeEwWzr",
        "colab": {
          "base_uri": "https://localhost:8080/"
        },
        "outputId": "943397ff-c2bc-48e9-d926-42aeaaa7cc22"
      },
      "source": [
        "AFC = Plane(A, F, C)\n",
        "TFC = Plane(T, F, C)\n",
        "if AFC.is_coplanar(TFC):\n",
        "  print('лежит')\n",
        "else:\n",
        "  print('не лежит')"
      ],
      "execution_count": null,
      "outputs": [
        {
          "output_type": "stream",
          "text": [
            "лежит\n"
          ],
          "name": "stdout"
        }
      ]
    },
    {
      "cell_type": "markdown",
      "metadata": {
        "id": "F-EuxDjcwWzr"
      },
      "source": [
        "###  Задание 6\n",
        "Даны точки: A(3, -2, 3),  B(-2, 3, 1), C(1, -8, 6), D(1, 2, 4), F(-7, 8, -1).\n",
        "\n",
        "Составить словарь всех прямых (в нем должны быть и прямая АВ, и ВА!), каждая из которых проходит хотя бы через две заданные точки, ключ - сама прямая (Line), значение - список из имен ВСЕХ точек, лежащих на этой прямой. Вывести на экран имена только тех прямых, на которых лежит не менее трех точек из условия, а также список точек, лежащих на прямой."
      ]
    },
    {
      "cell_type": "code",
      "metadata": {
        "id": "yZsP3r9QwWzs"
      },
      "source": [
        "A = Point(3, -2, 3)\n",
        "B = Point(-2, 3, 1)\n",
        "C = Point(1, -8, 6)\n",
        "D = Point(1, 2, 4)\n",
        "F = Point(-7, 8, -1)\n",
        "points = [A, B, C, D, F]\n",
        "name = {A: 'A', B: 'B', C: 'C', D: 'D', F: 'F'}\n",
        "line_name = {}"
      ],
      "execution_count": null,
      "outputs": []
    },
    {
      "cell_type": "code",
      "metadata": {
        "id": "Ht_qLEb1XD3N",
        "colab": {
          "base_uri": "https://localhost:8080/"
        },
        "outputId": "89e388e8-ece7-4b79-947c-78ca57e34162"
      },
      "source": [
        "d = dict()\n",
        "for p1 in points:\n",
        "  for p2 in points:\n",
        "    if p1 != p2:\n",
        "      d[Line(p1, p2)] = set()\n",
        "      line_name[Line(p1, p2)] = name[p1] + name[p2]\n",
        "for p1 in points:\n",
        "  for p2 in points:\n",
        "    for line in d.keys():\n",
        "      if p1 != p2:\n",
        "        if line.is_similar(Line(p1, p2)):\n",
        "          d[line].add(name[p1])\n",
        "          d[line].add(name[p2])\n",
        "for line in d.keys():\n",
        "  if len(d[line]) >= 3:\n",
        "    print(line_name[line], ' '.join(d[line]))\n"
      ],
      "execution_count": null,
      "outputs": [
        {
          "output_type": "stream",
          "text": [
            "AB A F B\n",
            "AF A F B\n",
            "BA A F B\n",
            "BF A F B\n",
            "FA A F B\n",
            "FB A F B\n"
          ],
          "name": "stdout"
        }
      ]
    },
    {
      "cell_type": "markdown",
      "metadata": {
        "id": "fzkZMcUxwWzs"
      },
      "source": [
        "### Индивидуальное задание\n",
        "\n",
        "Даны точки: $A(19/2, -1, -3)$, $K(12, 0, -1)$, $P(15, 3, 3)$, $U(7, -2, -5)$ и $W(4, -5, -9)$.\n",
        "\n",
        "Составить список lines_list, состоящий из  tuple из троек прямых, каждая из которых проходит через две (или более) заданные точки, причем все прямые пересекаются в одной точке. Совпадающие прямые не учитывать. "
      ]
    },
    {
      "cell_type": "code",
      "metadata": {
        "id": "bkkee_KMwWzt"
      },
      "source": [
        "A = Point(19 / 2, -1, -3)\n",
        "K = Point(12, 0, -1)\n",
        "P = Point(15, 3, 3)\n",
        "U = Point(7, -2, -5)\n",
        "W = Point(4, -5, -9)\n",
        "name = {A: 'A', K: 'K', P: 'P', U: 'U', W: 'W'}\n",
        "line_name = {}\n",
        "points = [A, K, P, U, W]"
      ],
      "execution_count": null,
      "outputs": []
    },
    {
      "cell_type": "code",
      "metadata": {
        "colab": {
          "base_uri": "https://localhost:8080/",
          "height": 302
        },
        "id": "MhhS2V9VpMzz",
        "outputId": "f143a594-c4d3-4d64-b5e7-c490e8f7085c"
      },
      "source": [
        "from itertools import *\n",
        "\n",
        "\n",
        "all_lines = []\n",
        "lines_list = []\n",
        "for points2 in combinations(points, 2):\n",
        "      all_lines.append(Line(points2[0], points2[1]))\n",
        "      line_name[Line(points2[0], points2[1])] = name[points2[0]] + name[points2[1]]\n",
        "for lines3 in combinations(all_lines, 3):\n",
        "    if lines3[0].intersection(lines3[1]) == lines3[0].intersection(lines3[2]):\n",
        "      lines_list.append(tuple(line_name[line] for line in lines3))\n",
        "display(lines_list)\n"
      ],
      "execution_count": null,
      "outputs": [
        {
          "output_type": "display_data",
          "data": {
            "text/plain": [
              "[('AK', 'AP', 'AW'),\n",
              " ('AK', 'AP', 'PW'),\n",
              " ('AK', 'AW', 'PW'),\n",
              " ('AK', 'KP', 'KW'),\n",
              " ('AK', 'PU', 'UW'),\n",
              " ('AP', 'AU', 'KU'),\n",
              " ('AP', 'KP', 'PU'),\n",
              " ('AP', 'KW', 'UW'),\n",
              " ('AU', 'AW', 'PW'),\n",
              " ('AU', 'KP', 'KW'),\n",
              " ('AU', 'PU', 'UW'),\n",
              " ('AW', 'KP', 'PU'),\n",
              " ('AW', 'KW', 'UW'),\n",
              " ('KP', 'KU', 'KW'),\n",
              " ('KP', 'PU', 'PW'),\n",
              " ('KU', 'PU', 'UW'),\n",
              " ('KW', 'PW', 'UW')]"
            ]
          },
          "metadata": {
            "tags": []
          }
        }
      ]
    }
  ]
}