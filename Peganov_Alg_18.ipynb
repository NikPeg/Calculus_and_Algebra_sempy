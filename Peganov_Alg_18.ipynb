{
  "nbformat": 4,
  "nbformat_minor": 0,
  "metadata": {
    "kernelspec": {
      "display_name": "Python 3",
      "language": "python",
      "name": "python3"
    },
    "language_info": {
      "codemirror_mode": {
        "name": "ipython",
        "version": 3
      },
      "file_extension": ".py",
      "mimetype": "text/x-python",
      "name": "python",
      "nbconvert_exporter": "python",
      "pygments_lexer": "ipython3",
      "version": "3.7.3"
    },
    "colab": {
      "provenance": []
    }
  },
  "cells": [
    {
      "cell_type": "code",
      "metadata": {
        "id": "ddEGi5BQccFj"
      },
      "source": [
        "import sympy\n",
        "from sympy import Matrix, S, Symbol, symbols, I, zeros, eye, simplify, expand, expand_complex\n",
        "import numpy as np\n",
        "from numpy import random"
      ],
      "execution_count": null,
      "outputs": []
    },
    {
      "cell_type": "markdown",
      "metadata": {
        "id": "ffB1899ZccFm"
      },
      "source": [
        "# Занятие 18\n",
        "# Алгебра\n",
        "## Матричные разложения: Холецкого, LDL, LU, QR. Жорданова форма."
      ]
    },
    {
      "cell_type": "markdown",
      "metadata": {
        "id": "Rld9S1IgccFm"
      },
      "source": [
        "### Задание 1.\n",
        "Построить разложение Холецкого матриц\n",
        "$$\n",
        "M1=\\left(\n",
        "\\begin{matrix}\n",
        "1&-3&0\\\\\n",
        "-3&-2&10\\\\\n",
        "0&10&7\n",
        "\\end{matrix}\n",
        "\\right)\n",
        "\\quad\n",
        "M2=\\left(\n",
        "\\begin{matrix}\n",
        "18&1 - 2I& -2\\\\\n",
        "1 + 2I&4&-3I\\\\\n",
        "-2&3I&5\n",
        "\\end{matrix}\n",
        "\\right)\n",
        "$$\n",
        "Проверить положительную определенность эрмитовой матрицы."
      ]
    },
    {
      "cell_type": "code",
      "metadata": {
        "colab": {
          "base_uri": "https://localhost:8080/",
          "height": 589
        },
        "id": "1BvPQVAwccFn",
        "outputId": "2d495d0e-7f8c-4d7a-b1dc-4453f7c333bd"
      },
      "source": [
        "M1 = Matrix([[1, -3, 0], [-3, -2, 10], [0, 10, 7]])\n",
        "M2 = Matrix([[18, 1 - 2 * I, -2], [1 + 2 * I, 4, -3 * I], [-2, 3 * I, 5]])\n",
        "L1 = M1.cholesky(hermitian=False)\n",
        "L2 = M2.cholesky()\n",
        "display('L1', L1, 'simplify(L1*L1.T - M1)', simplify(L1*L1.T - M1),\n",
        " 'M2.is_positive_definite', M2.is_positive_definite,\n",
        " 'L2', L2, 'simplify(L2)', simplify(L2),\n",
        " 'simplify(expand(L2))', simplify(expand(L2)),\n",
        " 'simplify(L2*L2.H - M2)', simplify(L2*L2.H - M2))"
      ],
      "execution_count": null,
      "outputs": [
        {
          "output_type": "display_data",
          "data": {
            "application/vnd.google.colaboratory.intrinsic+json": {
              "type": "string"
            },
            "text/plain": [
              "'L1'"
            ]
          },
          "metadata": {
            "tags": []
          }
        },
        {
          "output_type": "display_data",
          "data": {
            "text/latex": "$\\displaystyle \\left[\\begin{matrix}1 & 0 & 0\\\\-3 & \\sqrt{11} i & 0\\\\0 & - \\frac{10 \\sqrt{11} i}{11} & \\frac{\\sqrt{1947}}{11}\\end{matrix}\\right]$",
            "text/plain": [
              "Matrix([\n",
              "[ 1,                 0,             0],\n",
              "[-3,        sqrt(11)*I,             0],\n",
              "[ 0, -10*sqrt(11)*I/11, sqrt(1947)/11]])"
            ]
          },
          "metadata": {
            "tags": []
          }
        },
        {
          "output_type": "display_data",
          "data": {
            "application/vnd.google.colaboratory.intrinsic+json": {
              "type": "string"
            },
            "text/plain": [
              "'simplify(L1*L1.T - M1)'"
            ]
          },
          "metadata": {
            "tags": []
          }
        },
        {
          "output_type": "display_data",
          "data": {
            "text/latex": "$\\displaystyle \\left[\\begin{matrix}0 & 0 & 0\\\\0 & 0 & 0\\\\0 & 0 & 0\\end{matrix}\\right]$",
            "text/plain": [
              "Matrix([\n",
              "[0, 0, 0],\n",
              "[0, 0, 0],\n",
              "[0, 0, 0]])"
            ]
          },
          "metadata": {
            "tags": []
          }
        },
        {
          "output_type": "display_data",
          "data": {
            "application/vnd.google.colaboratory.intrinsic+json": {
              "type": "string"
            },
            "text/plain": [
              "'M2.is_positive_definite'"
            ]
          },
          "metadata": {
            "tags": []
          }
        },
        {
          "output_type": "display_data",
          "data": {
            "text/plain": [
              "True"
            ]
          },
          "metadata": {
            "tags": []
          }
        },
        {
          "output_type": "display_data",
          "data": {
            "application/vnd.google.colaboratory.intrinsic+json": {
              "type": "string"
            },
            "text/plain": [
              "'L2'"
            ]
          },
          "metadata": {
            "tags": []
          }
        },
        {
          "output_type": "display_data",
          "data": {
            "text/latex": "$\\displaystyle \\left[\\begin{matrix}3 \\sqrt{2} & 0 & 0\\\\\\frac{\\sqrt{2} \\left(1 + 2 i\\right)}{6} & \\sqrt{- \\frac{\\left(1 - 2 i\\right) \\left(1 + 2 i\\right)}{18} + 4} & 0\\\\- \\frac{\\sqrt{2}}{3} & \\frac{\\frac{1}{9} + \\frac{25 i}{9}}{\\sqrt{- \\frac{\\left(1 - 2 i\\right) \\left(1 + 2 i\\right)}{18} + 4}} & \\sqrt{\\frac{43}{9} - \\frac{\\left(\\frac{1}{9} - \\frac{25 i}{9}\\right) \\left(\\frac{1}{9} + \\frac{25 i}{9}\\right)}{- \\frac{\\left(1 - 2 i\\right) \\left(1 + 2 i\\right)}{18} + 4}}\\end{matrix}\\right]$",
            "text/plain": [
              "Matrix([\n",
              "[          3*sqrt(2),                                                0,                                                                        0],\n",
              "[sqrt(2)*(1 + 2*I)/6,                sqrt(-(1 - 2*I)*(1 + 2*I)/18 + 4),                                                                        0],\n",
              "[         -sqrt(2)/3, (1/9 + 25*I/9)/sqrt(-(1 - 2*I)*(1 + 2*I)/18 + 4), sqrt(43/9 - (1/9 - 25*I/9)*(1/9 + 25*I/9)/(-(1 - 2*I)*(1 + 2*I)/18 + 4))]])"
            ]
          },
          "metadata": {
            "tags": []
          }
        },
        {
          "output_type": "display_data",
          "data": {
            "application/vnd.google.colaboratory.intrinsic+json": {
              "type": "string"
            },
            "text/plain": [
              "'simplify(L2)'"
            ]
          },
          "metadata": {
            "tags": []
          }
        },
        {
          "output_type": "display_data",
          "data": {
            "text/latex": "$\\displaystyle \\left[\\begin{matrix}3 \\sqrt{2} & 0 & 0\\\\\\frac{\\sqrt{2} \\left(1 + 2 i\\right)}{6} & \\frac{\\sqrt{134}}{6} & 0\\\\- \\frac{\\sqrt{2}}{3} & \\frac{\\sqrt{134} \\left(1 + 25 i\\right)}{201} & \\frac{\\sqrt{12127}}{67}\\end{matrix}\\right]$",
            "text/plain": [
              "Matrix([\n",
              "[          3*sqrt(2),                        0,              0],\n",
              "[sqrt(2)*(1 + 2*I)/6,              sqrt(134)/6,              0],\n",
              "[         -sqrt(2)/3, sqrt(134)*(1 + 25*I)/201, sqrt(12127)/67]])"
            ]
          },
          "metadata": {
            "tags": []
          }
        },
        {
          "output_type": "display_data",
          "data": {
            "application/vnd.google.colaboratory.intrinsic+json": {
              "type": "string"
            },
            "text/plain": [
              "'simplify(expand(L2))'"
            ]
          },
          "metadata": {
            "tags": []
          }
        },
        {
          "output_type": "display_data",
          "data": {
            "text/latex": "$\\displaystyle \\left[\\begin{matrix}3 \\sqrt{2} & 0 & 0\\\\\\frac{\\sqrt{2} \\left(1 + 2 i\\right)}{6} & \\frac{\\sqrt{134}}{6} & 0\\\\- \\frac{\\sqrt{2}}{3} & \\frac{\\sqrt{134} \\left(1 + 25 i\\right)}{201} & \\frac{\\sqrt{12127}}{67}\\end{matrix}\\right]$",
            "text/plain": [
              "Matrix([\n",
              "[          3*sqrt(2),                        0,              0],\n",
              "[sqrt(2)*(1 + 2*I)/6,              sqrt(134)/6,              0],\n",
              "[         -sqrt(2)/3, sqrt(134)*(1 + 25*I)/201, sqrt(12127)/67]])"
            ]
          },
          "metadata": {
            "tags": []
          }
        },
        {
          "output_type": "display_data",
          "data": {
            "application/vnd.google.colaboratory.intrinsic+json": {
              "type": "string"
            },
            "text/plain": [
              "'simplify(L2*L2.H - M2)'"
            ]
          },
          "metadata": {
            "tags": []
          }
        },
        {
          "output_type": "display_data",
          "data": {
            "text/latex": "$\\displaystyle \\left[\\begin{matrix}0 & 0 & 0\\\\0 & 0 & 0\\\\0 & 0 & 0\\end{matrix}\\right]$",
            "text/plain": [
              "Matrix([\n",
              "[0, 0, 0],\n",
              "[0, 0, 0],\n",
              "[0, 0, 0]])"
            ]
          },
          "metadata": {
            "tags": []
          }
        }
      ]
    },
    {
      "cell_type": "markdown",
      "metadata": {
        "id": "Jc5hzwW-ccFn"
      },
      "source": [
        "### Задание 2.\n",
        "Построить  LDL разложение для матриц Задания 1. Проверку положительной определенности для эрмитовой матрицы НЕ делать."
      ]
    },
    {
      "cell_type": "code",
      "metadata": {
        "colab": {
          "base_uri": "https://localhost:8080/",
          "height": 564
        },
        "id": "MF3-EUFEccFn",
        "outputId": "745fccd3-9d25-4900-b6e4-385a13a0addc"
      },
      "source": [
        "LA, DA = M1.LDLdecomposition(hermitian=False)\n",
        "LB, DB = M2.LDLdecomposition()\n",
        "display('LDLA', LA, DA, 'simplify(LA*DA*LA.T - A)', simplify(LA*DA*LA.T - M1),\n",
        " 'LDLB', LB, DB, 'simplify(LB)', simplify(LB),\n",
        " 'simplify(LB*DB*LB.H - B)', simplify(LB*DB*LB.H - M2))"
      ],
      "execution_count": null,
      "outputs": [
        {
          "output_type": "display_data",
          "data": {
            "application/vnd.google.colaboratory.intrinsic+json": {
              "type": "string"
            },
            "text/plain": [
              "'LDLA'"
            ]
          },
          "metadata": {
            "tags": []
          }
        },
        {
          "output_type": "display_data",
          "data": {
            "text/latex": "$\\displaystyle \\left[\\begin{matrix}1 & 0 & 0\\\\-3 & 1 & 0\\\\0 & - \\frac{10}{11} & 1\\end{matrix}\\right]$",
            "text/plain": [
              "Matrix([\n",
              "[ 1,      0, 0],\n",
              "[-3,      1, 0],\n",
              "[ 0, -10/11, 1]])"
            ]
          },
          "metadata": {
            "tags": []
          }
        },
        {
          "output_type": "display_data",
          "data": {
            "text/latex": "$\\displaystyle \\left[\\begin{matrix}1 & 0 & 0\\\\0 & -11 & 0\\\\0 & 0 & \\frac{177}{11}\\end{matrix}\\right]$",
            "text/plain": [
              "Matrix([\n",
              "[1,   0,      0],\n",
              "[0, -11,      0],\n",
              "[0,   0, 177/11]])"
            ]
          },
          "metadata": {
            "tags": []
          }
        },
        {
          "output_type": "display_data",
          "data": {
            "application/vnd.google.colaboratory.intrinsic+json": {
              "type": "string"
            },
            "text/plain": [
              "'simplify(LA*DA*LA.T - A)'"
            ]
          },
          "metadata": {
            "tags": []
          }
        },
        {
          "output_type": "display_data",
          "data": {
            "text/latex": "$\\displaystyle \\left[\\begin{matrix}0 & 0 & 0\\\\0 & 0 & 0\\\\0 & 0 & 0\\end{matrix}\\right]$",
            "text/plain": [
              "Matrix([\n",
              "[0, 0, 0],\n",
              "[0, 0, 0],\n",
              "[0, 0, 0]])"
            ]
          },
          "metadata": {
            "tags": []
          }
        },
        {
          "output_type": "display_data",
          "data": {
            "application/vnd.google.colaboratory.intrinsic+json": {
              "type": "string"
            },
            "text/plain": [
              "'LDLB'"
            ]
          },
          "metadata": {
            "tags": []
          }
        },
        {
          "output_type": "display_data",
          "data": {
            "text/latex": "$\\displaystyle \\left[\\begin{matrix}1 & 0 & 0\\\\\\frac{1}{18} + \\frac{i}{9} & 1 & 0\\\\- \\frac{1}{9} & \\frac{\\frac{1}{9} + \\frac{25 i}{9}}{- 18 \\left(\\frac{1}{18} - \\frac{i}{9}\\right) \\left(\\frac{1}{18} + \\frac{i}{9}\\right) + 4} & 1\\end{matrix}\\right]$",
            "text/plain": [
              "Matrix([\n",
              "[         1,                                                  0, 0],\n",
              "[1/18 + I/9,                                                  1, 0],\n",
              "[      -1/9, (1/9 + 25*I/9)/(-18*(1/18 - I/9)*(1/18 + I/9) + 4), 1]])"
            ]
          },
          "metadata": {
            "tags": []
          }
        },
        {
          "output_type": "display_data",
          "data": {
            "text/latex": "$\\displaystyle \\left[\\begin{matrix}18 & 0 & 0\\\\0 & - 18 \\left(\\frac{1}{18} - \\frac{i}{9}\\right) \\left(\\frac{1}{18} + \\frac{i}{9}\\right) + 4 & 0\\\\0 & 0 & \\frac{43}{9} - \\frac{\\left(\\frac{1}{9} - \\frac{25 i}{9}\\right) \\left(\\frac{1}{9} + \\frac{25 i}{9}\\right)}{- 18 \\left(\\frac{1}{18} - \\frac{i}{9}\\right) \\left(\\frac{1}{18} + \\frac{i}{9}\\right) + 4}\\end{matrix}\\right]$",
            "text/plain": [
              "Matrix([\n",
              "[18,                                 0,                                                                        0],\n",
              "[ 0, -18*(1/18 - I/9)*(1/18 + I/9) + 4,                                                                        0],\n",
              "[ 0,                                 0, 43/9 - (1/9 - 25*I/9)*(1/9 + 25*I/9)/(-18*(1/18 - I/9)*(1/18 + I/9) + 4)]])"
            ]
          },
          "metadata": {
            "tags": []
          }
        },
        {
          "output_type": "display_data",
          "data": {
            "application/vnd.google.colaboratory.intrinsic+json": {
              "type": "string"
            },
            "text/plain": [
              "'simplify(LB)'"
            ]
          },
          "metadata": {
            "tags": []
          }
        },
        {
          "output_type": "display_data",
          "data": {
            "text/latex": "$\\displaystyle \\left[\\begin{matrix}1 & 0 & 0\\\\\\frac{1}{18} + \\frac{i}{9} & 1 & 0\\\\- \\frac{1}{9} & \\frac{2}{67} + \\frac{50 i}{67} & 1\\end{matrix}\\right]$",
            "text/plain": [
              "Matrix([\n",
              "[         1,              0, 0],\n",
              "[1/18 + I/9,              1, 0],\n",
              "[      -1/9, 2/67 + 50*I/67, 1]])"
            ]
          },
          "metadata": {
            "tags": []
          }
        },
        {
          "output_type": "display_data",
          "data": {
            "application/vnd.google.colaboratory.intrinsic+json": {
              "type": "string"
            },
            "text/plain": [
              "'simplify(LB*DB*LB.H - B)'"
            ]
          },
          "metadata": {
            "tags": []
          }
        },
        {
          "output_type": "display_data",
          "data": {
            "text/latex": "$\\displaystyle \\left[\\begin{matrix}0 & 0 & 0\\\\0 & 0 & 0\\\\0 & 0 & 0\\end{matrix}\\right]$",
            "text/plain": [
              "Matrix([\n",
              "[0, 0, 0],\n",
              "[0, 0, 0],\n",
              "[0, 0, 0]])"
            ]
          },
          "metadata": {
            "tags": []
          }
        }
      ]
    },
    {
      "cell_type": "markdown",
      "metadata": {
        "id": "dGKmllraccFo"
      },
      "source": [
        "### Задание  3.\n",
        "Построить  LU разложение для матрицы \n",
        "$$\n",
        "V=\\left(\n",
        "\\begin{matrix}\n",
        "5&-2 - I&3 - 4I&1 + 4I\\\\\n",
        "1 - I&-2&5 - I&2 - I\\\\\n",
        "5&6 + I&0&5 \n",
        "\\end{matrix}\n",
        "\\right)\n",
        "$$"
      ]
    },
    {
      "cell_type": "code",
      "metadata": {
        "colab": {
          "base_uri": "https://localhost:8080/",
          "height": 504
        },
        "id": "r-t4Owh1ccFo",
        "outputId": "d4ee2697-9499-45a6-c719-0378aa24cd57"
      },
      "source": [
        "V = Matrix([[5, -2 - I, 3 - 4 * I, 1 + 4 * I],\n",
        "            [1 - I, -2, 5 - I, 2 - I],\n",
        "            [5, 6 + I, 0, 5]])\n",
        "L, U, perm = V.LUdecomposition()\n",
        "VLU = simplify(expand((L*U).permuteBkwd(perm)))\n",
        "P = eye(3).permuteFwd(perm)\n",
        "display('L', L, 'U', U, 'perm', perm, 'P', P, 'VLU', VLU,\n",
        " 'V', V, 'P*V == L*U', P*V == simplify(expand(L*U)))"
      ],
      "execution_count": null,
      "outputs": [
        {
          "output_type": "display_data",
          "data": {
            "application/vnd.google.colaboratory.intrinsic+json": {
              "type": "string"
            },
            "text/plain": [
              "'L'"
            ]
          },
          "metadata": {
            "tags": []
          }
        },
        {
          "output_type": "display_data",
          "data": {
            "text/latex": "$\\displaystyle \\left[\\begin{matrix}1 & 0 & 0\\\\1 & 1 & 0\\\\\\frac{1}{5} - \\frac{i}{5} & \\frac{\\left(-2 - \\left(-2 - i\\right) \\left(\\frac{1}{5} - \\frac{i}{5}\\right)\\right) \\left(8 - 2 i\\right)}{68} & 1\\end{matrix}\\right]$",
            "text/plain": [
              "Matrix([\n",
              "[        1,                                        0, 0],\n",
              "[        1,                                        1, 0],\n",
              "[1/5 - I/5, (-2 - (-2 - I)*(1/5 - I/5))*(8 - 2*I)/68, 1]])"
            ]
          },
          "metadata": {
            "tags": []
          }
        },
        {
          "output_type": "display_data",
          "data": {
            "application/vnd.google.colaboratory.intrinsic+json": {
              "type": "string"
            },
            "text/plain": [
              "'U'"
            ]
          },
          "metadata": {
            "tags": []
          }
        },
        {
          "output_type": "display_data",
          "data": {
            "text/latex": "$\\displaystyle \\left[\\begin{matrix}5 & -2 - i & 3 - 4 i & 1 + 4 i\\\\0 & 8 + 2 i & -3 + 4 i & 4 - 4 i\\\\0 & 0 & 5 - i - \\frac{\\left(-3 + 4 i\\right) \\left(-2 - \\left(-2 - i\\right) \\left(\\frac{1}{5} - \\frac{i}{5}\\right)\\right) \\left(8 - 2 i\\right)}{68} - \\left(\\frac{1}{5} - \\frac{i}{5}\\right) \\left(3 - 4 i\\right) & 2 - i - \\frac{\\left(-2 - \\left(-2 - i\\right) \\left(\\frac{1}{5} - \\frac{i}{5}\\right)\\right) \\left(4 - 4 i\\right) \\left(8 - 2 i\\right)}{68} - \\left(\\frac{1}{5} - \\frac{i}{5}\\right) \\left(1 + 4 i\\right)\\end{matrix}\\right]$",
            "text/plain": [
              "Matrix([\n",
              "[5,  -2 - I,                                                                             3 - 4*I,                                                                            1 + 4*I],\n",
              "[0, 8 + 2*I,                                                                            -3 + 4*I,                                                                            4 - 4*I],\n",
              "[0,       0, 5 - I - (-3 + 4*I)*(-2 - (-2 - I)*(1/5 - I/5))*(8 - 2*I)/68 - (1/5 - I/5)*(3 - 4*I), 2 - I - (-2 - (-2 - I)*(1/5 - I/5))*(4 - 4*I)*(8 - 2*I)/68 - (1/5 - I/5)*(1 + 4*I)]])"
            ]
          },
          "metadata": {
            "tags": []
          }
        },
        {
          "output_type": "display_data",
          "data": {
            "application/vnd.google.colaboratory.intrinsic+json": {
              "type": "string"
            },
            "text/plain": [
              "'perm'"
            ]
          },
          "metadata": {
            "tags": []
          }
        },
        {
          "output_type": "display_data",
          "data": {
            "text/plain": [
              "[[1, 2]]"
            ]
          },
          "metadata": {
            "tags": []
          }
        },
        {
          "output_type": "display_data",
          "data": {
            "application/vnd.google.colaboratory.intrinsic+json": {
              "type": "string"
            },
            "text/plain": [
              "'P'"
            ]
          },
          "metadata": {
            "tags": []
          }
        },
        {
          "output_type": "display_data",
          "data": {
            "text/latex": "$\\displaystyle \\left[\\begin{matrix}1 & 0 & 0\\\\0 & 0 & 1\\\\0 & 1 & 0\\end{matrix}\\right]$",
            "text/plain": [
              "Matrix([\n",
              "[1, 0, 0],\n",
              "[0, 0, 1],\n",
              "[0, 1, 0]])"
            ]
          },
          "metadata": {
            "tags": []
          }
        },
        {
          "output_type": "display_data",
          "data": {
            "application/vnd.google.colaboratory.intrinsic+json": {
              "type": "string"
            },
            "text/plain": [
              "'VLU'"
            ]
          },
          "metadata": {
            "tags": []
          }
        },
        {
          "output_type": "display_data",
          "data": {
            "text/latex": "$\\displaystyle \\left[\\begin{matrix}5 & -2 - i & 3 - 4 i & 1 + 4 i\\\\1 - i & -2 & 5 - i & 2 - i\\\\5 & 6 + i & 0 & 5\\end{matrix}\\right]$",
            "text/plain": [
              "Matrix([\n",
              "[    5, -2 - I, 3 - 4*I, 1 + 4*I],\n",
              "[1 - I,     -2,   5 - I,   2 - I],\n",
              "[    5,  6 + I,       0,       5]])"
            ]
          },
          "metadata": {
            "tags": []
          }
        },
        {
          "output_type": "display_data",
          "data": {
            "application/vnd.google.colaboratory.intrinsic+json": {
              "type": "string"
            },
            "text/plain": [
              "'V'"
            ]
          },
          "metadata": {
            "tags": []
          }
        },
        {
          "output_type": "display_data",
          "data": {
            "text/latex": "$\\displaystyle \\left[\\begin{matrix}5 & -2 - i & 3 - 4 i & 1 + 4 i\\\\1 - i & -2 & 5 - i & 2 - i\\\\5 & 6 + i & 0 & 5\\end{matrix}\\right]$",
            "text/plain": [
              "Matrix([\n",
              "[    5, -2 - I, 3 - 4*I, 1 + 4*I],\n",
              "[1 - I,     -2,   5 - I,   2 - I],\n",
              "[    5,  6 + I,       0,       5]])"
            ]
          },
          "metadata": {
            "tags": []
          }
        },
        {
          "output_type": "display_data",
          "data": {
            "application/vnd.google.colaboratory.intrinsic+json": {
              "type": "string"
            },
            "text/plain": [
              "'P*V == L*U'"
            ]
          },
          "metadata": {
            "tags": []
          }
        },
        {
          "output_type": "display_data",
          "data": {
            "text/plain": [
              "True"
            ]
          },
          "metadata": {
            "tags": []
          }
        }
      ]
    },
    {
      "cell_type": "markdown",
      "metadata": {
        "id": "tzowRWd-ccFo"
      },
      "source": [
        "### Задание  4.\n",
        "Построить  QR разложение для матрицы\n",
        "$$\n",
        "A=\\left(\n",
        "\\begin{matrix}\n",
        "3 + i&  2 & -i & 4 - 2i\\\\\n",
        "-2 & -3 &  i & -3 + i\\\\\n",
        "1 + i & -1 &  0 & 1 - i\\\\\n",
        "-1 + i &  -4 & i & -2\n",
        "\\end{matrix}\n",
        "\\right)\n",
        "$$\n",
        "показать, что $A = QR$."
      ]
    },
    {
      "cell_type": "code",
      "metadata": {
        "colab": {
          "base_uri": "https://localhost:8080/",
          "height": 440
        },
        "id": "e-LHgiiXccFp",
        "outputId": "9c4a3010-4977-4ae2-ce7e-86b7e18665da"
      },
      "source": [
        "A = Matrix([[3 + I, 2, -I, 4 - 2 * I],\n",
        "            [-2, -3, I, -3 + I],\n",
        "            [1 + I, -1, 0, 1 - I],\n",
        "            [-1 + I, -4, I, -2]])\n",
        "Q, R = A.QRdecomposition()\n",
        "AQR = simplify(expand(Q*R))\n",
        "display('Q', simplify(expand(Q)), 'R', simplify(expand(R)),\n",
        " 'MQR', AQR, 'A', A, 'A = QR', A == AQR)"
      ],
      "execution_count": null,
      "outputs": [
        {
          "output_type": "display_data",
          "data": {
            "application/vnd.google.colaboratory.intrinsic+json": {
              "type": "string"
            },
            "text/plain": [
              "'Q'"
            ]
          },
          "metadata": {
            "tags": []
          }
        },
        {
          "output_type": "display_data",
          "data": {
            "text/latex": "$\\displaystyle \\left[\\begin{matrix}\\frac{\\sqrt{2} \\left(3 + i\\right)}{6} & - \\frac{\\sqrt{17} \\left(1 + 4 i\\right)}{51}\\\\- \\frac{\\sqrt{2}}{3} & \\frac{\\sqrt{17} \\left(-4 + i\\right)}{51}\\\\\\frac{\\sqrt{2} \\left(1 + i\\right)}{6} & - \\frac{\\sqrt{17} \\left(5 + 3 i\\right)}{51}\\\\\\frac{\\sqrt{2} \\left(-1 + i\\right)}{6} & - \\frac{\\sqrt{17} \\left(9 + 2 i\\right)}{51}\\end{matrix}\\right]$",
            "text/plain": [
              "Matrix([\n",
              "[ sqrt(2)*(3 + I)/6, -sqrt(17)*(1 + 4*I)/51],\n",
              "[        -sqrt(2)/3,   sqrt(17)*(-4 + I)/51],\n",
              "[ sqrt(2)*(1 + I)/6, -sqrt(17)*(5 + 3*I)/51],\n",
              "[sqrt(2)*(-1 + I)/6, -sqrt(17)*(9 + 2*I)/51]])"
            ]
          },
          "metadata": {
            "tags": []
          }
        },
        {
          "output_type": "display_data",
          "data": {
            "application/vnd.google.colaboratory.intrinsic+json": {
              "type": "string"
            },
            "text/plain": [
              "'R'"
            ]
          },
          "metadata": {
            "tags": []
          }
        },
        {
          "output_type": "display_data",
          "data": {
            "text/latex": "$\\displaystyle \\left[\\begin{matrix}3 \\sqrt{2} & \\frac{\\sqrt{2} \\left(5 + i\\right)}{2} & - \\sqrt{2} i & \\sqrt{2} \\left(3 - 2 i\\right)\\\\0 & \\sqrt{17} & \\frac{\\sqrt{17} \\left(1 - 4 i\\right)}{17} & \\frac{\\sqrt{17} \\left(11 + 7 i\\right)}{17}\\end{matrix}\\right]$",
            "text/plain": [
              "Matrix([\n",
              "[3*sqrt(2), sqrt(2)*(5 + I)/2,            -sqrt(2)*I,      sqrt(2)*(3 - 2*I)],\n",
              "[        0,          sqrt(17), sqrt(17)*(1 - 4*I)/17, sqrt(17)*(11 + 7*I)/17]])"
            ]
          },
          "metadata": {
            "tags": []
          }
        },
        {
          "output_type": "display_data",
          "data": {
            "application/vnd.google.colaboratory.intrinsic+json": {
              "type": "string"
            },
            "text/plain": [
              "'MQR'"
            ]
          },
          "metadata": {
            "tags": []
          }
        },
        {
          "output_type": "display_data",
          "data": {
            "text/latex": "$\\displaystyle \\left[\\begin{matrix}3 + i & 2 & - i & 4 - 2 i\\\\-2 & -3 & i & -3 + i\\\\1 + i & -1 & 0 & 1 - i\\\\-1 + i & -4 & i & -2\\end{matrix}\\right]$",
            "text/plain": [
              "Matrix([\n",
              "[ 3 + I,  2, -I, 4 - 2*I],\n",
              "[    -2, -3,  I,  -3 + I],\n",
              "[ 1 + I, -1,  0,   1 - I],\n",
              "[-1 + I, -4,  I,      -2]])"
            ]
          },
          "metadata": {
            "tags": []
          }
        },
        {
          "output_type": "display_data",
          "data": {
            "application/vnd.google.colaboratory.intrinsic+json": {
              "type": "string"
            },
            "text/plain": [
              "'A'"
            ]
          },
          "metadata": {
            "tags": []
          }
        },
        {
          "output_type": "display_data",
          "data": {
            "text/latex": "$\\displaystyle \\left[\\begin{matrix}3 + i & 2 & - i & 4 - 2 i\\\\-2 & -3 & i & -3 + i\\\\1 + i & -1 & 0 & 1 - i\\\\-1 + i & -4 & i & -2\\end{matrix}\\right]$",
            "text/plain": [
              "Matrix([\n",
              "[ 3 + I,  2, -I, 4 - 2*I],\n",
              "[    -2, -3,  I,  -3 + I],\n",
              "[ 1 + I, -1,  0,   1 - I],\n",
              "[-1 + I, -4,  I,      -2]])"
            ]
          },
          "metadata": {
            "tags": []
          }
        },
        {
          "output_type": "display_data",
          "data": {
            "application/vnd.google.colaboratory.intrinsic+json": {
              "type": "string"
            },
            "text/plain": [
              "'A = QR'"
            ]
          },
          "metadata": {
            "tags": []
          }
        },
        {
          "output_type": "display_data",
          "data": {
            "text/plain": [
              "True"
            ]
          },
          "metadata": {
            "tags": []
          }
        }
      ]
    },
    {
      "cell_type": "markdown",
      "metadata": {
        "id": "Quof_zFeccFp"
      },
      "source": [
        "### Задание  5.\n",
        "Построить  жорданову форму для матрицы\n",
        "$$\n",
        "K=\\left(\n",
        "\\begin{matrix}\n",
        "1 &  -5 & 1 & -5\\\\\n",
        "-5 & 1 &  -5 &  1\\\\\n",
        "1 &  1 & 1 & 1\\\\\n",
        "-1 &  5 &  5 &  1\n",
        "\\end{matrix}\n",
        "\\right)\n",
        "$$"
      ]
    },
    {
      "cell_type": "code",
      "metadata": {
        "colab": {
          "base_uri": "https://localhost:8080/",
          "height": 527
        },
        "id": "o0mYEjUIccFp",
        "outputId": "05dce4c1-b54b-4ee4-c54f-3b3fb5797fe0"
      },
      "source": [
        "K = Matrix([[1,  -5, 1, -5], [-5, 1,  -5,  1], [1,  1, 1, 1], [-1,  5,  5,  1]])\n",
        "P, J = K.jordan_form()\n",
        "P = simplify(expand_complex(expand(P)))\n",
        "display('P', simplify(expand(P)), 'J', simplify(expand(J)),\n",
        " 'PJP**(-1)', P*J*P**(-1), 'K', K)"
      ],
      "execution_count": null,
      "outputs": [
        {
          "output_type": "display_data",
          "data": {
            "application/vnd.google.colaboratory.intrinsic+json": {
              "type": "string"
            },
            "text/plain": [
              "'P'"
            ]
          },
          "metadata": {
            "tags": []
          }
        },
        {
          "output_type": "display_data",
          "data": {
            "text/latex": "$\\displaystyle \\left[\\begin{matrix}-2 & - \\frac{2}{3} & -2 - \\frac{\\sqrt{3}}{3} & -2 + \\frac{\\sqrt{3}}{3}\\\\-2 & -1 & - \\sqrt{3} - \\frac{2}{3} & - \\frac{2}{3} + \\sqrt{3}\\\\1 & \\frac{2}{3} & \\frac{\\sqrt{3}}{3} + \\frac{2}{3} & \\frac{2}{3} - \\frac{\\sqrt{3}}{3}\\\\1 & 1 & 1 & 1\\end{matrix}\\right]$",
            "text/plain": [
              "Matrix([\n",
              "[-2, -2/3,  -2 - sqrt(3)/3,  -2 + sqrt(3)/3],\n",
              "[-2,   -1,  -sqrt(3) - 2/3,  -2/3 + sqrt(3)],\n",
              "[ 1,  2/3, sqrt(3)/3 + 2/3, 2/3 - sqrt(3)/3],\n",
              "[ 1,    1,               1,               1]])"
            ]
          },
          "metadata": {
            "tags": []
          }
        },
        {
          "output_type": "display_data",
          "data": {
            "application/vnd.google.colaboratory.intrinsic+json": {
              "type": "string"
            },
            "text/plain": [
              "'J'"
            ]
          },
          "metadata": {
            "tags": []
          }
        },
        {
          "output_type": "display_data",
          "data": {
            "text/latex": "$\\displaystyle \\left[\\begin{matrix}-2 & 0 & 0 & 0\\\\0 & 0 & 0 & 0\\\\0 & 0 & 3 - 3 \\sqrt{3} & 0\\\\0 & 0 & 0 & 3 + 3 \\sqrt{3}\\end{matrix}\\right]$",
            "text/plain": [
              "Matrix([\n",
              "[-2, 0,             0,             0],\n",
              "[ 0, 0,             0,             0],\n",
              "[ 0, 0, 3 - 3*sqrt(3),             0],\n",
              "[ 0, 0,             0, 3 + 3*sqrt(3)]])"
            ]
          },
          "metadata": {
            "tags": []
          }
        },
        {
          "output_type": "display_data",
          "data": {
            "application/vnd.google.colaboratory.intrinsic+json": {
              "type": "string"
            },
            "text/plain": [
              "'PJP**(-1)'"
            ]
          },
          "metadata": {
            "tags": []
          }
        },
        {
          "output_type": "display_data",
          "data": {
            "text/latex": "$\\displaystyle \\left[\\begin{matrix}-4 + \\frac{\\left(-2 - \\frac{\\sqrt{3}}{3}\\right) \\left(2 - \\sqrt{3}\\right) \\left(3 - 3 \\sqrt{3}\\right)}{-6 + 4 \\sqrt{3}} - \\frac{\\sqrt{3} \\left(-2 + \\frac{\\sqrt{3}}{3}\\right) \\left(3 + 3 \\sqrt{3}\\right)}{6} & -16 + \\left(-2 + \\frac{\\sqrt{3}}{3}\\right) \\left(\\frac{3}{2} - \\frac{2 \\sqrt{3}}{3}\\right) \\left(3 + 3 \\sqrt{3}\\right) + \\frac{\\left(-2 - \\frac{\\sqrt{3}}{3}\\right) \\left(-1 + 2 \\sqrt{3}\\right) \\left(3 - 3 \\sqrt{3}\\right)}{-6 + 4 \\sqrt{3}} & -52 + \\left(-2 + \\frac{\\sqrt{3}}{3}\\right) \\left(3 + 3 \\sqrt{3}\\right) \\left(\\frac{9}{2} - \\frac{8 \\sqrt{3}}{3}\\right) + \\frac{\\left(-2 - \\frac{\\sqrt{3}}{3}\\right) \\left(3 - 3 \\sqrt{3}\\right) \\left(2 \\sqrt{3} + 5\\right)}{-6 + 4 \\sqrt{3}} & \\frac{16 \\left(-2 - \\frac{\\sqrt{3}}{3}\\right) \\left(3 - 3 \\sqrt{3}\\right)}{27 \\left(\\frac{32}{27} - \\frac{64 \\sqrt{3}}{81}\\right)} + \\left(-2 + \\frac{\\sqrt{3}}{3}\\right) \\left(- \\frac{3}{2} + \\sqrt{3}\\right) \\left(3 + 3 \\sqrt{3}\\right) + 16\\\\-4 - \\frac{\\sqrt{3} \\left(- \\frac{2}{3} + \\sqrt{3}\\right) \\left(3 + 3 \\sqrt{3}\\right)}{6} + \\frac{\\left(2 - \\sqrt{3}\\right) \\left(3 - 3 \\sqrt{3}\\right) \\left(- \\sqrt{3} - \\frac{2}{3}\\right)}{-6 + 4 \\sqrt{3}} & -16 + \\left(- \\frac{2}{3} + \\sqrt{3}\\right) \\left(\\frac{3}{2} - \\frac{2 \\sqrt{3}}{3}\\right) \\left(3 + 3 \\sqrt{3}\\right) + \\frac{\\left(-1 + 2 \\sqrt{3}\\right) \\left(3 - 3 \\sqrt{3}\\right) \\left(- \\sqrt{3} - \\frac{2}{3}\\right)}{-6 + 4 \\sqrt{3}} & -52 + \\left(- \\frac{2}{3} + \\sqrt{3}\\right) \\left(3 + 3 \\sqrt{3}\\right) \\left(\\frac{9}{2} - \\frac{8 \\sqrt{3}}{3}\\right) + \\frac{\\left(3 - 3 \\sqrt{3}\\right) \\left(- \\sqrt{3} - \\frac{2}{3}\\right) \\left(2 \\sqrt{3} + 5\\right)}{-6 + 4 \\sqrt{3}} & \\frac{16 \\left(3 - 3 \\sqrt{3}\\right) \\left(- \\sqrt{3} - \\frac{2}{3}\\right)}{27 \\left(\\frac{32}{27} - \\frac{64 \\sqrt{3}}{81}\\right)} + \\left(- \\frac{3}{2} + \\sqrt{3}\\right) \\left(- \\frac{2}{3} + \\sqrt{3}\\right) \\left(3 + 3 \\sqrt{3}\\right) + 16\\\\\\frac{\\left(2 - \\sqrt{3}\\right) \\left(3 - 3 \\sqrt{3}\\right) \\left(\\frac{\\sqrt{3}}{3} + \\frac{2}{3}\\right)}{-6 + 4 \\sqrt{3}} - \\frac{\\sqrt{3} \\left(\\frac{2}{3} - \\frac{\\sqrt{3}}{3}\\right) \\left(3 + 3 \\sqrt{3}\\right)}{6} + 2 & \\frac{\\left(-1 + 2 \\sqrt{3}\\right) \\left(3 - 3 \\sqrt{3}\\right) \\left(\\frac{\\sqrt{3}}{3} + \\frac{2}{3}\\right)}{-6 + 4 \\sqrt{3}} + \\left(\\frac{2}{3} - \\frac{\\sqrt{3}}{3}\\right) \\left(\\frac{3}{2} - \\frac{2 \\sqrt{3}}{3}\\right) \\left(3 + 3 \\sqrt{3}\\right) + 8 & \\frac{\\left(3 - 3 \\sqrt{3}\\right) \\left(\\frac{\\sqrt{3}}{3} + \\frac{2}{3}\\right) \\left(2 \\sqrt{3} + 5\\right)}{-6 + 4 \\sqrt{3}} + \\left(\\frac{2}{3} - \\frac{\\sqrt{3}}{3}\\right) \\left(3 + 3 \\sqrt{3}\\right) \\left(\\frac{9}{2} - \\frac{8 \\sqrt{3}}{3}\\right) + 26 & -8 + \\left(- \\frac{3}{2} + \\sqrt{3}\\right) \\left(\\frac{2}{3} - \\frac{\\sqrt{3}}{3}\\right) \\left(3 + 3 \\sqrt{3}\\right) + \\frac{16 \\left(3 - 3 \\sqrt{3}\\right) \\left(\\frac{\\sqrt{3}}{3} + \\frac{2}{3}\\right)}{27 \\left(\\frac{32}{27} - \\frac{64 \\sqrt{3}}{81}\\right)}\\\\- \\frac{\\sqrt{3} \\left(3 + 3 \\sqrt{3}\\right)}{6} + \\frac{\\left(2 - \\sqrt{3}\\right) \\left(3 - 3 \\sqrt{3}\\right)}{-6 + 4 \\sqrt{3}} + 2 & \\frac{\\left(-1 + 2 \\sqrt{3}\\right) \\left(3 - 3 \\sqrt{3}\\right)}{-6 + 4 \\sqrt{3}} + \\left(\\frac{3}{2} - \\frac{2 \\sqrt{3}}{3}\\right) \\left(3 + 3 \\sqrt{3}\\right) + 8 & \\frac{\\left(3 - 3 \\sqrt{3}\\right) \\left(2 \\sqrt{3} + 5\\right)}{-6 + 4 \\sqrt{3}} + \\left(3 + 3 \\sqrt{3}\\right) \\left(\\frac{9}{2} - \\frac{8 \\sqrt{3}}{3}\\right) + 26 & -8 + \\left(- \\frac{3}{2} + \\sqrt{3}\\right) \\left(3 + 3 \\sqrt{3}\\right) + \\frac{16 \\left(3 - 3 \\sqrt{3}\\right)}{27 \\left(\\frac{32}{27} - \\frac{64 \\sqrt{3}}{81}\\right)}\\end{matrix}\\right]$",
            "text/plain": [
              "Matrix([\n",
              "[ -4 + (-2 - sqrt(3)/3)*(2 - sqrt(3))*(3 - 3*sqrt(3))/(-6 + 4*sqrt(3)) - sqrt(3)*(-2 + sqrt(3)/3)*(3 + 3*sqrt(3))/6, -16 + (-2 + sqrt(3)/3)*(3/2 - 2*sqrt(3)/3)*(3 + 3*sqrt(3)) + (-2 - sqrt(3)/3)*(-1 + 2*sqrt(3))*(3 - 3*sqrt(3))/(-6 + 4*sqrt(3)),  -52 + (-2 + sqrt(3)/3)*(3 + 3*sqrt(3))*(9/2 - 8*sqrt(3)/3) + (-2 - sqrt(3)/3)*(3 - 3*sqrt(3))*(2*sqrt(3) + 5)/(-6 + 4*sqrt(3)),   16*(-2 - sqrt(3)/3)*(3 - 3*sqrt(3))/(27*(32/27 - 64*sqrt(3)/81)) + (-2 + sqrt(3)/3)*(-3/2 + sqrt(3))*(3 + 3*sqrt(3)) + 16],\n",
              "[ -4 - sqrt(3)*(-2/3 + sqrt(3))*(3 + 3*sqrt(3))/6 + (2 - sqrt(3))*(3 - 3*sqrt(3))*(-sqrt(3) - 2/3)/(-6 + 4*sqrt(3)), -16 + (-2/3 + sqrt(3))*(3/2 - 2*sqrt(3)/3)*(3 + 3*sqrt(3)) + (-1 + 2*sqrt(3))*(3 - 3*sqrt(3))*(-sqrt(3) - 2/3)/(-6 + 4*sqrt(3)),  -52 + (-2/3 + sqrt(3))*(3 + 3*sqrt(3))*(9/2 - 8*sqrt(3)/3) + (3 - 3*sqrt(3))*(-sqrt(3) - 2/3)*(2*sqrt(3) + 5)/(-6 + 4*sqrt(3)),   16*(3 - 3*sqrt(3))*(-sqrt(3) - 2/3)/(27*(32/27 - 64*sqrt(3)/81)) + (-3/2 + sqrt(3))*(-2/3 + sqrt(3))*(3 + 3*sqrt(3)) + 16],\n",
              "[(2 - sqrt(3))*(3 - 3*sqrt(3))*(sqrt(3)/3 + 2/3)/(-6 + 4*sqrt(3)) - sqrt(3)*(2/3 - sqrt(3)/3)*(3 + 3*sqrt(3))/6 + 2, (-1 + 2*sqrt(3))*(3 - 3*sqrt(3))*(sqrt(3)/3 + 2/3)/(-6 + 4*sqrt(3)) + (2/3 - sqrt(3)/3)*(3/2 - 2*sqrt(3)/3)*(3 + 3*sqrt(3)) + 8, (3 - 3*sqrt(3))*(sqrt(3)/3 + 2/3)*(2*sqrt(3) + 5)/(-6 + 4*sqrt(3)) + (2/3 - sqrt(3)/3)*(3 + 3*sqrt(3))*(9/2 - 8*sqrt(3)/3) + 26, -8 + (-3/2 + sqrt(3))*(2/3 - sqrt(3)/3)*(3 + 3*sqrt(3)) + 16*(3 - 3*sqrt(3))*(sqrt(3)/3 + 2/3)/(27*(32/27 - 64*sqrt(3)/81))],\n",
              "[                                   -sqrt(3)*(3 + 3*sqrt(3))/6 + (2 - sqrt(3))*(3 - 3*sqrt(3))/(-6 + 4*sqrt(3)) + 2,                                     (-1 + 2*sqrt(3))*(3 - 3*sqrt(3))/(-6 + 4*sqrt(3)) + (3/2 - 2*sqrt(3)/3)*(3 + 3*sqrt(3)) + 8,                                     (3 - 3*sqrt(3))*(2*sqrt(3) + 5)/(-6 + 4*sqrt(3)) + (3 + 3*sqrt(3))*(9/2 - 8*sqrt(3)/3) + 26,                                     -8 + (-3/2 + sqrt(3))*(3 + 3*sqrt(3)) + 16*(3 - 3*sqrt(3))/(27*(32/27 - 64*sqrt(3)/81))]])"
            ]
          },
          "metadata": {
            "tags": []
          }
        },
        {
          "output_type": "display_data",
          "data": {
            "application/vnd.google.colaboratory.intrinsic+json": {
              "type": "string"
            },
            "text/plain": [
              "'K'"
            ]
          },
          "metadata": {
            "tags": []
          }
        },
        {
          "output_type": "display_data",
          "data": {
            "text/latex": "$\\displaystyle \\left[\\begin{matrix}1 & -5 & 1 & -5\\\\-5 & 1 & -5 & 1\\\\1 & 1 & 1 & 1\\\\-1 & 5 & 5 & 1\\end{matrix}\\right]$",
            "text/plain": [
              "Matrix([\n",
              "[ 1, -5,  1, -5],\n",
              "[-5,  1, -5,  1],\n",
              "[ 1,  1,  1,  1],\n",
              "[-1,  5,  5,  1]])"
            ]
          },
          "metadata": {
            "tags": []
          }
        }
      ]
    },
    {
      "cell_type": "markdown",
      "metadata": {
        "id": "1OMbCG8wccFp"
      },
      "source": [
        "### Индивидуальное задание.\n",
        "Решить с помощью  QR разложения матрицы\n",
        "$$\n",
        "N55\\\\\n",
        "\\begin{align*}\n",
        " A = \\left[\\begin{matrix}-8 & 1 & -3 & 4\\\\3 & 3 & -5 & 6\\\\5 & 15 & -22 & 22\\\\2 & 12 & -17 & 16\\end{matrix}\\right],\n",
        " \\end{align*}\n",
        "$$\n",
        "систему линейных уравнений\n",
        "$$\n",
        "AX = b,\n",
        "\\quad\n",
        "b = \\left[\\begin{matrix}-9\\\\7\\\\9\\\\5\\end{matrix}\\right].\n",
        "$$\n",
        "Проверим совместность СЛАУ:"
      ]
    },
    {
      "cell_type": "code",
      "metadata": {
        "colab": {
          "base_uri": "https://localhost:8080/",
          "height": 453
        },
        "id": "O6JUlgTaccFq",
        "outputId": "b8c21d60-b04c-43c9-bae7-637f238a9074"
      },
      "source": [
        "A = Matrix([[-8, 1, -3, 4],\n",
        "            [3, 3, -5, 6],\n",
        "            [5, 15, -22, 22],\n",
        "            [2, 12, -17, 16]])\n",
        "Q, R = A.QRdecomposition()\n",
        "AQR = simplify(expand(Q*R))\n",
        "display('Q', simplify(expand(Q)), 'R', simplify(expand(R)),\n",
        " 'MQR', AQR, 'A', A, 'A = QR', A == AQR)"
      ],
      "execution_count": null,
      "outputs": [
        {
          "output_type": "display_data",
          "data": {
            "application/vnd.google.colaboratory.intrinsic+json": {
              "type": "string"
            },
            "text/plain": [
              "'Q'"
            ]
          },
          "metadata": {
            "tags": []
          }
        },
        {
          "output_type": "display_data",
          "data": {
            "text/latex": "$\\displaystyle \\left[\\begin{matrix}- \\frac{4 \\sqrt{102}}{51} & \\frac{451 \\sqrt{730779}}{730779} & - \\frac{15 \\sqrt{85974}}{14329}\\\\\\frac{\\sqrt{102}}{34} & \\frac{\\sqrt{730779}}{243593} & - \\frac{223 \\sqrt{85974}}{85974}\\\\\\frac{5 \\sqrt{102}}{102} & \\frac{515 \\sqrt{730779}}{730779} & - \\frac{71 \\sqrt{85974}}{85974}\\\\\\frac{\\sqrt{102}}{51} & \\frac{512 \\sqrt{730779}}{730779} & \\frac{76 \\sqrt{85974}}{42987}\\end{matrix}\\right]$",
            "text/plain": [
              "Matrix([\n",
              "[-4*sqrt(102)/51, 451*sqrt(730779)/730779,  -15*sqrt(85974)/14329],\n",
              "[   sqrt(102)/34,     sqrt(730779)/243593, -223*sqrt(85974)/85974],\n",
              "[5*sqrt(102)/102, 515*sqrt(730779)/730779,  -71*sqrt(85974)/85974],\n",
              "[   sqrt(102)/51, 512*sqrt(730779)/730779,   76*sqrt(85974)/42987]])"
            ]
          },
          "metadata": {
            "tags": []
          }
        },
        {
          "output_type": "display_data",
          "data": {
            "application/vnd.google.colaboratory.intrinsic+json": {
              "type": "string"
            },
            "text/plain": [
              "'R'"
            ]
          },
          "metadata": {
            "tags": []
          }
        },
        {
          "output_type": "display_data",
          "data": {
            "text/latex": "$\\displaystyle \\left[\\begin{matrix}\\sqrt{102} & \\frac{50 \\sqrt{102}}{51} & - \\frac{45 \\sqrt{102}}{34} & \\frac{64 \\sqrt{102}}{51}\\\\0 & \\frac{\\sqrt{730779}}{51} & - \\frac{7134 \\sqrt{730779}}{243593} & \\frac{928 \\sqrt{730779}}{31773}\\\\0 & 0 & \\frac{121 \\sqrt{85974}}{28658} & - \\frac{6 \\sqrt{85974}}{623}\\end{matrix}\\right]$",
            "text/plain": [
              "Matrix([\n",
              "[sqrt(102), 50*sqrt(102)/51,          -45*sqrt(102)/34,        64*sqrt(102)/51],\n",
              "[        0, sqrt(730779)/51, -7134*sqrt(730779)/243593, 928*sqrt(730779)/31773],\n",
              "[        0,               0,     121*sqrt(85974)/28658,     -6*sqrt(85974)/623]])"
            ]
          },
          "metadata": {
            "tags": []
          }
        },
        {
          "output_type": "display_data",
          "data": {
            "application/vnd.google.colaboratory.intrinsic+json": {
              "type": "string"
            },
            "text/plain": [
              "'MQR'"
            ]
          },
          "metadata": {
            "tags": []
          }
        },
        {
          "output_type": "display_data",
          "data": {
            "text/latex": "$\\displaystyle \\left[\\begin{matrix}-8 & 1 & -3 & 4\\\\3 & 3 & -5 & 6\\\\5 & 15 & -22 & 22\\\\2 & 12 & -17 & 16\\end{matrix}\\right]$",
            "text/plain": [
              "Matrix([\n",
              "[-8,  1,  -3,  4],\n",
              "[ 3,  3,  -5,  6],\n",
              "[ 5, 15, -22, 22],\n",
              "[ 2, 12, -17, 16]])"
            ]
          },
          "metadata": {
            "tags": []
          }
        },
        {
          "output_type": "display_data",
          "data": {
            "application/vnd.google.colaboratory.intrinsic+json": {
              "type": "string"
            },
            "text/plain": [
              "'A'"
            ]
          },
          "metadata": {
            "tags": []
          }
        },
        {
          "output_type": "display_data",
          "data": {
            "text/latex": "$\\displaystyle \\left[\\begin{matrix}-8 & 1 & -3 & 4\\\\3 & 3 & -5 & 6\\\\5 & 15 & -22 & 22\\\\2 & 12 & -17 & 16\\end{matrix}\\right]$",
            "text/plain": [
              "Matrix([\n",
              "[-8,  1,  -3,  4],\n",
              "[ 3,  3,  -5,  6],\n",
              "[ 5, 15, -22, 22],\n",
              "[ 2, 12, -17, 16]])"
            ]
          },
          "metadata": {
            "tags": []
          }
        },
        {
          "output_type": "display_data",
          "data": {
            "application/vnd.google.colaboratory.intrinsic+json": {
              "type": "string"
            },
            "text/plain": [
              "'A = QR'"
            ]
          },
          "metadata": {
            "tags": []
          }
        },
        {
          "output_type": "display_data",
          "data": {
            "text/plain": [
              "True"
            ]
          },
          "metadata": {
            "tags": []
          }
        }
      ]
    },
    {
      "cell_type": "code",
      "metadata": {
        "colab": {
          "base_uri": "https://localhost:8080/"
        },
        "id": "-eheT4AaigXZ",
        "outputId": "3aa50fc4-9b08-4626-b2cc-bd0fd6545ac5"
      },
      "source": [
        "b = Matrix([-9, 7, 9, 5])\n",
        "Ab = A.row_join(b)\n",
        "print('A.rank =', A.rank(), 'Ab.rank =', Ab.rank(),\n",
        " 'A.rank == Ab.rank', A.rank() == Ab.rank())"
      ],
      "execution_count": null,
      "outputs": [
        {
          "output_type": "stream",
          "text": [
            "A.rank = 3 Ab.rank = 4 A.rank == Ab.rank False\n"
          ],
          "name": "stdout"
        }
      ]
    },
    {
      "cell_type": "markdown",
      "metadata": {
        "id": "hYzaPkvrjShr"
      },
      "source": [
        "СЛАУ несовместна, в обычном смысле решения нет, но с помощью QR разложения можно найти псевдорешение, т.е. такую\n",
        "матрицу- столбец, что при подстановке в СЛАУ вместо даст минимальную возможную норму разности левой и правой частей\n",
        "СЛАУ (невязки).\n"
      ]
    },
    {
      "cell_type": "code",
      "metadata": {
        "colab": {
          "base_uri": "https://localhost:8080/",
          "height": 78
        },
        "id": "PIwmAB5ejTu4",
        "outputId": "e540e582-9b4e-4090-b504-57662e1b0dc9"
      },
      "source": [
        "X = A.QRsolve(b)\n",
        "display(X)"
      ],
      "execution_count": null,
      "outputs": [
        {
          "output_type": "display_data",
          "data": {
            "text/latex": "$\\displaystyle \\left[\\begin{matrix}\\frac{179}{121}\\\\- \\frac{287}{121}\\\\- \\frac{210}{121}\\end{matrix}\\right]$",
            "text/plain": [
              "Matrix([\n",
              "[ 179/121],\n",
              "[-287/121],\n",
              "[-210/121]])"
            ]
          },
          "metadata": {
            "tags": []
          }
        }
      ]
    }
  ]
}