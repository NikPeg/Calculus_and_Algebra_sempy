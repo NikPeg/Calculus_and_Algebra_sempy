{
  "nbformat": 4,
  "nbformat_minor": 0,
  "metadata": {
    "kernelspec": {
      "display_name": "Python 3",
      "language": "python",
      "name": "python3"
    },
    "language_info": {
      "codemirror_mode": {
        "name": "ipython",
        "version": 3
      },
      "file_extension": ".py",
      "mimetype": "text/x-python",
      "name": "python",
      "nbconvert_exporter": "python",
      "pygments_lexer": "ipython3",
      "version": "3.7.3"
    },
    "colab": {
      "provenance": []
    }
  },
  "cells": [
    {
      "cell_type": "code",
      "metadata": {
        "id": "igBNnPVBm9ao"
      },
      "source": [
        "import numpy as np\n",
        "import sympy\n",
        "from sympy import S, symbols, Function, dsolve, solveset, linsolve, integrate, diff, plot\n",
        "from sympy import sin as Sin\n",
        "from sympy import cos as Cos\n",
        "from sympy import sqrt\n",
        "from sympy import exp as Exp\n",
        "from sympy import log as Log\n",
        "from sympy import pi as Pi\n",
        "from sympy import Eq\n",
        "from sympy import E\n",
        "import matplotlib.pyplot as plt"
      ],
      "execution_count": null,
      "outputs": []
    },
    {
      "cell_type": "markdown",
      "metadata": {
        "id": "WtErPuEjm9ar"
      },
      "source": [
        "## Занятие 18\n",
        "## Математический анализ\n",
        "## Линейные ОДУ второго порядка с постоянными коэффициентами\n",
        "### Задача 1\n",
        "Решить ОДУ $3y''+5y'-2y=0$ по формуле из файла с примерами и с помощью dsolve."
      ]
    },
    {
      "cell_type": "code",
      "metadata": {
        "colab": {
          "base_uri": "https://localhost:8080/",
          "height": 38
        },
        "id": "17hc4JMqm9as",
        "outputId": "6a652ef8-a876-4dde-ce68-76d644e99fb1"
      },
      "source": [
        "y = Function('y')\n",
        "x = sympy.Symbol('x')\n",
        "res = dsolve(3 * diff(y(x), x, 2) + 5 * diff(y(x), x) - 2 * y(x), y(x))\n",
        "res"
      ],
      "execution_count": null,
      "outputs": [
        {
          "output_type": "execute_result",
          "data": {
            "text/latex": "$\\displaystyle y{\\left(x \\right)} = C_{1} e^{- 2 x} + C_{2} e^{\\frac{x}{3}}$",
            "text/plain": [
              "Eq(y(x), C1*exp(-2*x) + C2*exp(x/3))"
            ]
          },
          "metadata": {
            "tags": []
          },
          "execution_count": 6
        }
      ]
    },
    {
      "cell_type": "markdown",
      "metadata": {
        "id": "hAmLzV-im9as"
      },
      "source": [
        "### Задача 2.\n",
        "Решить задачу Коши:\n",
        "$$\n",
        "\\left\\{\n",
        "\\begin{matrix}\n",
        "9y''+3y'+y=0\\\\\n",
        "y(0)=0\\\\\n",
        "y'(0)=2\\sqrt3\n",
        "\\end{matrix}\n",
        "\\right.\n",
        "$$\n",
        "##### Указание.\n",
        "Решить с помощью dsolve, затем составить словарь символов решения, ключи - 'x', 'C1', 'C2', а значения - соответствующие элементы из множества  ХХХ.rhs.free_symbols, решить систему линейных относительно С1 и С2 уравнений, описывающих начальные условия."
      ]
    },
    {
      "cell_type": "code",
      "metadata": {
        "colab": {
          "base_uri": "https://localhost:8080/",
          "height": 67
        },
        "id": "ETC_81fwm9as",
        "outputId": "36ecec88-fecb-431e-de61-54c94848939c"
      },
      "source": [
        "res = dsolve(9 * diff(y(x), x, 2) + 3 * diff(y(x), x) + y(x), y(x))\n",
        "res"
      ],
      "execution_count": null,
      "outputs": [
        {
          "output_type": "execute_result",
          "data": {
            "text/latex": "$\\displaystyle y{\\left(x \\right)} = \\left(C_{1} \\sin{\\left(\\frac{\\sqrt{3} x}{6} \\right)} + C_{2} \\cos{\\left(\\frac{\\sqrt{3} x}{6} \\right)}\\right) e^{- \\frac{x}{6}}$",
            "text/plain": [
              "Eq(y(x), (C1*sin(sqrt(3)*x/6) + C2*cos(sqrt(3)*x/6))*exp(-x/6))"
            ]
          },
          "metadata": {
            "tags": []
          },
          "execution_count": 7
        }
      ]
    },
    {
      "cell_type": "code",
      "metadata": {
        "colab": {
          "base_uri": "https://localhost:8080/"
        },
        "id": "iyOCjOGhpDup",
        "outputId": "da0e16ba-7cd1-45ea-a55d-5a99895c5a76"
      },
      "source": [
        "symb_dict={str(item): item for item in res.rhs.free_symbols}\n",
        "symb_dict"
      ],
      "execution_count": null,
      "outputs": [
        {
          "output_type": "execute_result",
          "data": {
            "text/plain": [
              "{'C1': C1, 'C2': C2, 'x': x}"
            ]
          },
          "metadata": {
            "tags": []
          },
          "execution_count": 8
        }
      ]
    },
    {
      "cell_type": "code",
      "metadata": {
        "id": "eh6worhirNw4"
      },
      "source": [
        "system = [Eq(res.rhs.subs({x: 0}), 0), \n",
        "          Eq(res.rhs.diff(x).subs({x: 0}), 2 * sqrt(3))]"
      ],
      "execution_count": null,
      "outputs": []
    },
    {
      "cell_type": "code",
      "metadata": {
        "colab": {
          "base_uri": "https://localhost:8080/"
        },
        "id": "jXvgh0nFr5rN",
        "outputId": "0f56555c-c7ad-4648-d8c0-7802da39d077"
      },
      "source": [
        "sol = sympy.solve(system, [symb_dict['C1'], symb_dict['C2']])\n",
        "sol"
      ],
      "execution_count": null,
      "outputs": [
        {
          "output_type": "execute_result",
          "data": {
            "text/plain": [
              "{C1: 12, C2: 0}"
            ]
          },
          "metadata": {
            "tags": []
          },
          "execution_count": 12
        }
      ]
    },
    {
      "cell_type": "markdown",
      "metadata": {
        "id": "ms8R-EMvm9as"
      },
      "source": [
        "### Индивидуальное задание\n",
        "Решить с помощью dsolve:\n",
        "$$\n",
        "y''' + y'' + y' + y = (-4x^2-x+1)e^x.\n",
        "$$\n",
        "Построить график $y(x)$ при начальных условиях $y(0) = 3$, $y'(0) = 1$, $y''(0) = 2$."
      ]
    },
    {
      "cell_type": "code",
      "metadata": {
        "colab": {
          "base_uri": "https://localhost:8080/",
          "height": 57
        },
        "id": "EwBQwlbKm9at",
        "outputId": "c6a77975-3130-4fdc-d09a-7937e8a44fef"
      },
      "source": [
        "res = dsolve(diff(y(x), x, 3) + diff(y(x), x, 2) + diff(y(x), x, 1) + y(x) -\n",
        "            (-4 * x ** 2 - x + 1) * E ** x, y(x))\n",
        "res"
      ],
      "execution_count": null,
      "outputs": [
        {
          "output_type": "execute_result",
          "data": {
            "text/latex": "$\\displaystyle y{\\left(x \\right)} = C_{1} e^{- x} + C_{2} \\sin{\\left(x \\right)} + C_{3} \\cos{\\left(x \\right)} + \\left(- x^{2} + \\frac{11 x}{4} - \\frac{15}{8}\\right) e^{x}$",
            "text/plain": [
              "Eq(y(x), C1*exp(-x) + C2*sin(x) + C3*cos(x) + (-x**2 + 11*x/4 - 15/8)*exp(x))"
            ]
          },
          "metadata": {
            "tags": []
          },
          "execution_count": 13
        }
      ]
    },
    {
      "cell_type": "code",
      "metadata": {
        "colab": {
          "base_uri": "https://localhost:8080/"
        },
        "id": "tXwq5R5Eyf0j",
        "outputId": "8583116b-9222-4fb8-c183-1f5ccbba4250"
      },
      "source": [
        "symb_dict={str(item): item for item in res.rhs.free_symbols}\n",
        "symb_dict"
      ],
      "execution_count": null,
      "outputs": [
        {
          "output_type": "execute_result",
          "data": {
            "text/plain": [
              "{'C1': C1, 'C2': C2, 'C3': C3, 'x': x}"
            ]
          },
          "metadata": {
            "tags": []
          },
          "execution_count": 14
        }
      ]
    },
    {
      "cell_type": "code",
      "metadata": {
        "id": "tdi7WyKSyjGF"
      },
      "source": [
        "system = [Eq(res.rhs.subs({x: 0}), 0), \n",
        "          Eq(res.rhs.diff(x).subs({x: 0}), 1), \n",
        "          Eq(res.rhs.diff(x, 2).subs({x: 0}), 2)]"
      ],
      "execution_count": null,
      "outputs": []
    },
    {
      "cell_type": "code",
      "metadata": {
        "colab": {
          "base_uri": "https://localhost:8080/"
        },
        "id": "IcM4NtSayxUe",
        "outputId": "6e2895a6-b7c3-4e7f-86ca-4aa3169dd7a7"
      },
      "source": [
        "sol = sympy.solve(system, [symb_dict['C1'], symb_dict['C2']])\n",
        "sol"
      ],
      "execution_count": null,
      "outputs": [
        {
          "output_type": "execute_result",
          "data": {
            "text/plain": [
              "[]"
            ]
          },
          "metadata": {
            "tags": []
          },
          "execution_count": 16
        }
      ]
    }
  ]
}