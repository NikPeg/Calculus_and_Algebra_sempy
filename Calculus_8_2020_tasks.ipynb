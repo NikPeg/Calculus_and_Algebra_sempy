{
  "nbformat": 4,
  "nbformat_minor": 0,
  "metadata": {
    "kernelspec": {
      "display_name": "Python 3",
      "language": "python",
      "name": "python3"
    },
    "language_info": {
      "codemirror_mode": {
        "name": "ipython",
        "version": 3
      },
      "file_extension": ".py",
      "mimetype": "text/x-python",
      "name": "python",
      "nbconvert_exporter": "python",
      "pygments_lexer": "ipython3",
      "version": "3.7.3"
    },
    "colab": {
      "provenance": []
    }
  },
  "cells": [
    {
      "cell_type": "code",
      "metadata": {
        "id": "p5DlmY7BClEY"
      },
      "source": [
        "import numpy as np\n",
        "import matplotlib.pyplot as plt\n",
        "import sympy\n",
        "from sympy import Symbol, diff, solve, nsolve, solveset, latex, S, simplify, fraction, Union, Interval, intersection, limit\n",
        "from sympy.calculus.util import continuous_domain\n",
        "from sympy import sin as Sin\n",
        "from sympy import cos as Cos\n",
        "from sympy import pi as Pi\n",
        "%matplotlib inline"
      ],
      "execution_count": null,
      "outputs": []
    },
    {
      "cell_type": "markdown",
      "metadata": {
        "id": "9em7lO7zClEZ"
      },
      "source": [
        "## Занятие 8\n",
        "## Математический анализ\n",
        "## Дифференцирование функции, заданной параметрически\n",
        "Пусть зависимость $y$ от $x$ задана параметрически:\n",
        "$$\n",
        "\\left\\{\n",
        "\\begin{matrix}\n",
        "x = \\varphi(t)\\\\\n",
        "y = \\psi(t)\n",
        "\\end{matrix}\n",
        "\\right.\n",
        "$$\n",
        "тогда производная $y$ по $x$  находится по формуле\n",
        "$$\n",
        "y'_x = \\frac{y'_t}{x'_t} = \\frac{\\psi'_t}{\\varphi'_t}\n",
        "$$\n",
        "Вторая производная:\n",
        "$$\n",
        "y''_{xx} = \\frac{x'_t y''_{tt}-x''_{tt}y'_t}{(x'_t)^3}  = \\frac{\\varphi'_t \\psi''_{tt}-\\varphi''_{tt}\\psi'_t}{(\\varphi'_t)^3}\n",
        "$$\n",
        "### Задание 1\n",
        "Найти производные 1 и 2 порядка функции \n",
        "$$\n",
        "\\left\\{\n",
        "\\begin{matrix}\n",
        "x = \\sin(t) - t\\cos(t)\\\\\n",
        "y = \\cos(t) + t\\sin(t)\n",
        "\\end{matrix}\n",
        "\\right.\n",
        "$$"
      ]
    },
    {
      "cell_type": "code",
      "metadata": {
        "id": "tkJut4PLClEa"
      },
      "source": [],
      "execution_count": null,
      "outputs": []
    },
    {
      "cell_type": "markdown",
      "metadata": {
        "id": "QOc-fUOaClEa"
      },
      "source": [
        "### Задание 2.\n",
        "Найти нули производных первого и второго порядка, а также точки, в которых эти производные не существуют, для функции\n",
        "$$\n",
        "\\left\\{\n",
        "\\begin{matrix}\n",
        "x = t^2 - 2t\\\\\n",
        "y = t^2 + 2t\n",
        "\\end{matrix}\n",
        "\\right.\n",
        "$$"
      ]
    },
    {
      "cell_type": "code",
      "metadata": {
        "id": "yezEGODIClEa"
      },
      "source": [],
      "execution_count": null,
      "outputs": []
    },
    {
      "cell_type": "markdown",
      "metadata": {
        "id": "SoRmvN6SClEa"
      },
      "source": [
        "### Задание 3. \n",
        "Найти точки экстремума и точки перегиба функции Задания 2."
      ]
    },
    {
      "cell_type": "code",
      "metadata": {
        "id": "l9VSa9r_ClEb"
      },
      "source": [],
      "execution_count": null,
      "outputs": []
    },
    {
      "cell_type": "markdown",
      "metadata": {
        "id": "0u6WtQ51ClEb"
      },
      "source": [
        "### Задание 4. Точки перегиба\n",
        "Найти точки перегиба функции, график строить не нужно. \n",
        "$$\n",
        "\\left\\{\n",
        "\\begin{matrix}\n",
        "x = e^t\\\\\n",
        "y = te^{2t}\n",
        "\\end{matrix}\n",
        "\\right.\n",
        "$$"
      ]
    },
    {
      "cell_type": "code",
      "metadata": {
        "id": "jVFClfwTClEb"
      },
      "source": [],
      "execution_count": null,
      "outputs": []
    },
    {
      "cell_type": "markdown",
      "metadata": {
        "id": "vPVSMMp9ClEb"
      },
      "source": [
        "## Асимптоты параметрически заданной функции\n",
        "Пусть зависимость $y$ от $x$ задана параметрически:\n",
        "$$\n",
        "\\left\\{\n",
        "\\begin{matrix}\n",
        "x = \\varphi(t)\\\\\n",
        "y = \\psi(t)\n",
        "\\end{matrix}\n",
        "\\right.\n",
        "$$\n",
        "Сначала нужно определить, нет ли таких значений параметра $t$, при которых одна из функций $\\varphi(t)$ или $\\psi(t)$ обращается в бесконечность, а другая остается конечной. При $\\varphi(t_0) = \\infty$, а $\\psi(t_0) = c$ кривая имеет горизонтальную асимптоту  $y = c$. При  $\\psi(t_0) = \\infty$, а $\\varphi(t_0) = c$ кривая имеет вертикальную асимптоту $x = c$. \n",
        "\n",
        "Если $\\varphi(t_0) = \\psi(t_0) = \\infty$ и \n",
        "$$\n",
        "\\lim_{t\\to t_0} \\frac{\\psi(t)}{\\varphi(t)} = k;\\qquad \\lim_{t\\to t_0} [\\psi(t) - k\\varphi(t)] = b,\n",
        "$$\n",
        "то   кривая имеет наклонную асимптоту  $y = kx + b$. \n",
        "\n",
        "### Индивидуальное задание.\n",
        "Найти асимптоты параметрически заданной функции и изобразить на графике функцию и ее асимптоты."
      ]
    },
    {
      "cell_type": "code",
      "metadata": {
        "id": "A_hq4cOkClEb"
      },
      "source": [],
      "execution_count": null,
      "outputs": []
    }
  ]
}